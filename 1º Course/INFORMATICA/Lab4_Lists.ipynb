{
 "cells": [
  {
   "cell_type": "markdown",
   "metadata": {},
   "source": [
    "# Lab 04. Lists."
   ]
  },
  {
   "cell_type": "markdown",
   "metadata": {},
   "source": [
    "# Exercises\n",
    "\n",
    "[P4_13. Bigger than num](#P4_13.)   \n",
    "[P4_14. Inverse order](#P4_14.)   \n",
    "[P4_15. List multiplication](#P4_15.)   \n",
    "[P4_16. Count numbers](#P4_16.)  \n",
    "[P4_17. Triangular matrices](#P4_17.)  \n",
    "[P4_18. Symmetrical matrix](#P4_18.)  \n",
    "[P4_19. Vanishing integers](#P4_19.)  \n",
    "[P4_20. Compare matrices](#P4_20.)  \n",
    "[P4_21. Star gazing](#P4_21.)  \n",
    "[P4_22. Word drawing](#P4_22.)  \n",
    "[P4_23. Crosswords](#P4_23.)  \n",
    "  "
   ]
  },
  {
   "cell_type": "markdown",
   "metadata": {},
   "source": [
    "### P4_13.  \n",
    "Write a program that reads **N** (constant) integers in a list **v**. The program will then ask for a number **num** and show the position of thoe elements in **v** greater than **num**.  \n",
    "Example for N=10:  \n",
    "~~~\n",
    "Input 10 numbers:\n",
    "3  12  7  45  2  98  2  4  56  20\n",
    "Input a number: 40\n",
    "The position of the numbers bigger than 40 are: \n",
    "3  5  8\n",
    "\n",
    "~~~\n"
   ]
  },
  {
   "cell_type": "code",
   "execution_count": 8,
   "metadata": {},
   "outputs": [
    {
     "name": "stdout",
     "output_type": "stream",
     "text": [
      "Input 10 numbers: 3 4 5 \n",
      "Input a number: 2 \n",
      "The position of the numbers bigger than 2 are:\n",
      "[1, 2, 3]\n"
     ]
    }
   ],
   "source": [
    "v = input(\"Input 10 numbers: \").split()\n",
    "v = list(map(int,v))\n",
    "n1 = int(input(\"Input a number: \"))\n",
    "l = []\n",
    "for i in range (len(v)):\n",
    "    if v[i]>n1:\n",
    "        l.append(i+1)\n",
    "print(\"The position of the numbers bigger than {} are:\".format(n1))\n",
    "print(l)\n",
    "    \n",
    "\n"
   ]
  },
  {
   "cell_type": "markdown",
   "metadata": {},
   "source": [
    "## P4_14.  \n",
    "Write a program that reads **N** (constant) integers in a list **v**. The program will create a new list **t** with the elements in **t** in reverse order.    \n",
    "Example for N=6: \n",
    "~~~\n",
    "Input 6 numbers: 1  3  5  8  4  6\n",
    "The new list is: 6  4  8  5  3  1\n",
    "~~~\n"
   ]
  },
  {
   "cell_type": "code",
   "execution_count": 6,
   "metadata": {},
   "outputs": [
    {
     "name": "stdout",
     "output_type": "stream",
     "text": [
      "Input 6 numbers:1 2 3 4 5 6\n",
      "The new list is: [6, 5, 4, 3, 2, 1] \n"
     ]
    }
   ],
   "source": [
    "v = input(\"Input 6 numbers:\").split()\n",
    "v = list(map(int,v))\n",
    "t = []\n",
    "while len(v)!=6:\n",
    "    \n",
    "    print(\"The number of integers is incorrect\")\n",
    "    v = input(\"Input 6 numbers:\").split()\n",
    "    v = list(map(int,v))\n",
    "    \n",
    "for i in range(len(v)-1,-1,-1):\n",
    "    t.append(v[i])\n",
    "print(\"The new list is: {} \".format(t))\n"
   ]
  },
  {
   "cell_type": "code",
   "execution_count": null,
   "metadata": {},
   "outputs": [],
   "source": []
  },
  {
   "cell_type": "markdown",
   "metadata": {},
   "source": [
    "### P4_15.  \n",
    "Write a program that reads two lists **a** y **b** of length **N** and generates a new list **c** with the product of both lists **a** y **b** element by element.  \n",
    "Example for N=6:  \n",
    "~~~\n",
    "Input 6 numbers: 2  2  6  3  11  5\n",
    "Input 6 numbers: 1  7  8  16  4  6\n",
    "The result is: 2  14  48  48  44  30\n",
    "~~~"
   ]
  },
  {
   "cell_type": "code",
   "execution_count": 2,
   "metadata": {},
   "outputs": [
    {
     "name": "stdout",
     "output_type": "stream",
     "text": [
      "Input 6 numbers: 1 2 3 4 5 6\n",
      "Input 6 numbers: 2 3 4 5 6 7\n",
      "[2, 6, 12, 20, 30, 42]\n"
     ]
    }
   ],
   "source": [
    "a = input(\"Input 6 numbers: \").split()\n",
    "a = list(map(int,a))\n",
    "\n",
    "b = input (\"Input 6 numbers: \").split()\n",
    "b = list(map(int,b))\n",
    "\n",
    "c = []\n",
    "for i in range(len(a)):\n",
    "    c.append(a[i]*b[i])\n",
    "print(c)\n",
    "\n"
   ]
  },
  {
   "cell_type": "markdown",
   "metadata": {},
   "source": [
    "### P4_16.  \n",
    "Write a program that reads **n** positive numbers integers in a list **t**  with values between **0** and **n-1**. The program will generat a new list **v** so that **v[i]** will be the number of times that **i** appears in list **t**. **n** will be set by the user and should be less than 20  \n",
    "Example:  \n",
    "\n",
    "~~~\n",
    "How many numbers do you want (Max 20): 8\n",
    "Input 8 positive integers less than 8:  7  6  6  3  5  5  0  5  \n",
    "The new list is: 1  0  0  1  0  3  2  1\n",
    "~~~\n",
    "\n",
    "    "
   ]
  },
  {
   "cell_type": "code",
   "execution_count": 5,
   "metadata": {},
   "outputs": [
    {
     "name": "stdout",
     "output_type": "stream",
     "text": [
      "How many numbers do you want(Max 20): 4\n",
      "Input 4 positive integers less than 4: 3 2 1 2\n",
      "[0, 1, 2, 1]\n"
     ]
    }
   ],
   "source": [
    "x = int(input(\"How many numbers do you want(Max 20): \"))\n",
    "l = input(\"Input {} positive integers less than {}: \".format(x,x)).split()\n",
    "l = list(map(int,l))\n",
    "p = 0\n",
    "z = []\n",
    "for i in range(len(l)):\n",
    "    while l[i]>=x or len(l)!=x:\n",
    "        print(\"Error\")\n",
    "        l = input(\"Input {} positive integers less than {}: \".format(x,x)).split()\n",
    "        l = list(map(int,l))\n",
    "for j in range(len(l)):\n",
    "    for k in range (len(l)):\n",
    "        if l[k]==j:\n",
    "            p = p + 1\n",
    "    z.append(p)\n",
    "    p = 0\n",
    "        \n",
    "print(z)\n",
    "            \n",
    "\n",
    "            \n",
    "        \n",
    "    \n"
   ]
  },
  {
   "cell_type": "markdown",
   "metadata": {},
   "source": [
    "### P4_17.  \n",
    "Write a program that reads an integer matrix **m**(**N**x**N**, **N** constant) and write lower triangular matrix (including diagonal) and upper triangular matrix.\n",
    "Example:  \n",
    "~~~\n",
    "Input a 3x3 matrix:   \n",
    "\n",
    "1  2  3  \n",
    "2  5  8  \n",
    "3  8  10  \n",
    "\n",
    "Lower triangular matrix is:   \n",
    "\n",
    "1\n",
    "2  5  \n",
    "3  8  10  \n",
    "\n",
    "Upper triangular matrix is:  \n",
    "\n",
    "   2  3   \n",
    "      8  \n",
    "~~~\n",
    "\n",
    "    "
   ]
  },
  {
   "cell_type": "code",
   "execution_count": 1,
   "metadata": {},
   "outputs": [
    {
     "name": "stdout",
     "output_type": "stream",
     "text": [
      "Introduce the number of rows or columns(square matrix): 2\n",
      "Input line 0: 4 5\n",
      "Input line 1: 6 7\n",
      "4 5 \n",
      "6 7 \n",
      "Lower triangular matrix is\n",
      "4 \n",
      "6 7 \n",
      "Upper triangular matrix is: \n",
      "  5 \n",
      "    \n"
     ]
    }
   ],
   "source": [
    "mat = []\n",
    "m=int(input(\"Introduce the number of rows or columns(square matrix): \"))\n",
    "for i in range (m):\n",
    "    x = input(\"Input line {}: \".format(i)).split()\n",
    "    mat.append(x)\n",
    "for j in range(m):\n",
    "    for k in range(m):\n",
    "        print(mat[j][k],end= \" \")\n",
    "    print()\n",
    "print(\"Lower triangular matrix is\")\n",
    "for i in range (m):\n",
    "    for j in range (i+1):\n",
    "        print (mat[i][j], end=\" \")\n",
    "    print()\n",
    "print (\"Upper triangular matrix is: \")\n",
    "for i in range(m):\n",
    "    for j in range(i+1):\n",
    "        mat[i][j]=' '\n",
    "for r in range(m):\n",
    "    for s in range(m):\n",
    "        print(mat[r][s],end=\" \")\n",
    "    print()\n"
   ]
  },
  {
   "cell_type": "markdown",
   "metadata": {},
   "source": [
    "### P4_18.  \n",
    "Write a program that reads an integer matrix m(NxN, N constant) and checks if it is symmetrical (a matrix **m** is symmetricalif **m**[ **i** ][ **j** ] = **m**[ **j** ][ **i** ] for every **i,j** = 1,…,**N**)  \n",
    "Example:  \n",
    "~~~\n",
    "Input a 3x3 matrix:\n",
    "\n",
    "1  2  3  \n",
    "2  5  8  \n",
    "3  8 10  \n",
    "\n",
    "Matrix is symmetrical \n",
    " \n",
    "Input a 3x3 matrix: \n",
    "\n",
    "1  5  3\n",
    "2  5  8\n",
    "3  8 10\n",
    "\n",
    "Matrix is not symmetrical\n",
    "~~~\n",
    "\n",
    "    "
   ]
  },
  {
   "cell_type": "code",
   "execution_count": 17,
   "metadata": {},
   "outputs": [
    {
     "name": "stdout",
     "output_type": "stream",
     "text": [
      "Input a 3x3 matrix:\n",
      "Input line 0:3 4 5\n",
      "Input line 1:5 6 7\n",
      "Input line 2:54 3 2\n",
      "3 4 5 \n",
      "5 6 7 \n",
      "54 3 2 \n",
      "Matrix is not symmetrical\n"
     ]
    }
   ],
   "source": [
    "mat = []\n",
    "a = True\n",
    "print(\"Input a 3x3 matrix:\")\n",
    "for i in range (3):\n",
    "    x = input(\"Input line {}:\".format(i)).split()\n",
    "    mat.append(x)\n",
    "for j in range(3):\n",
    "    for k in range(3):\n",
    "        print(mat[j][k], end=\" \")\n",
    "    print()\n",
    "for j in range(3):\n",
    "    for k in range(3):\n",
    "        if mat[j][k]!=mat[k][j]:\n",
    "            a=False \n",
    "if a==False:\n",
    "    print(\"Matrix is not symmetrical\")\n",
    "else:\n",
    "    print(\"Matrix is symmetrical\")\n",
    "            \n",
    "\n"
   ]
  },
  {
   "cell_type": "markdown",
   "metadata": {},
   "source": [
    "### P4_19.  \n",
    "Write a program that reads **N** positive numbers integers into a list **v**. The program will build a matrix  **m** (**N**x**N**)  \n",
    "Note: Values in **v** should be less than **N**.  \n",
    "Example:  \n",
    "~~~\n",
    "\tInput 5 numbers less or equal than 5: 1  4  5  2  2  \n",
    "    \n",
    "\tYour matrix is:  \n",
    "    \n",
    "\t1  4  5  2  2\n",
    "\t0  4  5  2  2\n",
    "\t0  4  5  2  0\n",
    "\t0  4  5  0  0\n",
    "    0  0  5  0  0\n",
    "~~~\n",
    "   "
   ]
  },
  {
   "cell_type": "code",
   "execution_count": 11,
   "metadata": {},
   "outputs": [
    {
     "name": "stdout",
     "output_type": "stream",
     "text": [
      "Input the number of rows or columns(square matrix): 2\n",
      "Input 2 numbers less or equal than 2: 1 2\n",
      "1 2 \n",
      "0 2 \n"
     ]
    }
   ],
   "source": [
    "n1=int(input(\"Input the number of rows or columns(square matrix): \"))\n",
    "n2=[]\n",
    "n2=input(\"Input {} numbers less or equal than {}: \".format(n1,n1)).split()\n",
    "n2=list(map(int,n2))\n",
    "r=True\n",
    "mat=[]\n",
    "while len(n2)!=n1:\n",
    "    print(\"Error\")\n",
    "    n2=input(\"Input {} numbers less or equal than {}: \".format(n1,n1)).split()\n",
    "    n2=list(map(int,n2))\n",
    "\n",
    "for i in range(len(n2)):\n",
    "        if n1<n2[i]:\n",
    "            r = False\n",
    "while r==False:\n",
    "    print(\"Error\")\n",
    "    n2=input(\"Input {} numbers less or equal than {}: \".format(n1,n1)).split()\n",
    "    n2=list(map(int,n2))\n",
    "    for i in range(len(n2)):\n",
    "        if n1>=n2[i] and n1==len(n2):\n",
    "            r=True\n",
    "for i in range (len(n2)):\n",
    "    mat.append([0]*len(n2))\n",
    "    \n",
    "for j in range(len(n2)):\n",
    "    for i in range(n2[j]):\n",
    "        mat[i][j]=n2[j]\n",
    "        \n",
    "for i in range(n1):\n",
    "    for j in range(n1):\n",
    "        print(mat[i][j],end= \" \")\n",
    "    print()\n",
    "\n",
    "\n",
    "         \n"
   ]
  },
  {
   "cell_type": "markdown",
   "metadata": {},
   "source": [
    "## P4_20.  \n",
    "Input two 4x4 character matrices **m1** y **m2**. The program will compare both matrix and will create two lists with the common elements:  \n",
    "-. In a list **d** if common character is between ‘a’ and ‘m’ \n",
    "-. In a list **f** if common character is between ‘n’ and ‘z’.   \n",
    "Ejemplo: \n",
    "\n",
    "~~~\n",
    "Inpput your first matrix: \n",
    "\n",
    "b r t u  \n",
    "s a v h  \n",
    "l g h o  \n",
    "c r c s  \n",
    "\n",
    "Input your second matrix:   \n",
    "\n",
    "u r b u  \n",
    "o a e i  \n",
    "l f d o  \n",
    "o r c i  \n",
    "\n",
    "List d is: a l c  \n",
    "List f is: r u o r\n",
    "\n",
    "~~~\n"
   ]
  },
  {
   "cell_type": "code",
   "execution_count": 5,
   "metadata": {},
   "outputs": [
    {
     "name": "stdout",
     "output_type": "stream",
     "text": [
      "Introduce the number of rows or columns (square matrix): 2\n",
      "Input your first matrix: \n",
      "Introduce line 0: a u\n",
      "Introduce line 1: a k\n",
      "a u \n",
      "a k \n",
      "Input your second matrix: \n",
      "Introduce line 0: a u\n",
      "Introduce line 1: a k\n",
      "a  u  \n",
      "a  k  \n",
      "List d is:  ['a', 'a', 'k']\n",
      "List f is:  ['u']\n"
     ]
    }
   ],
   "source": [
    "x=int(input(\"Introduce the number of rows or columns (square matrix): \"))\n",
    "print(\"Input your first matrix: \")\n",
    "mat1=[]\n",
    "for i in range(x):\n",
    "    n1=input(\"Introduce line {}: \".format(i)).split()\n",
    "    mat1.append(n1)\n",
    "for i in range(x):\n",
    "    for j in range(x):\n",
    "        print(mat1[i][j],end=\" \")\n",
    "    print()\n",
    "print(\"Input your second matrix: \")\n",
    "mat2=[]\n",
    "for i in range(x):\n",
    "    n2=input(\"Introduce line {}: \".format(i)).split()\n",
    "    mat2.append(n2)\n",
    "for i in range(x):\n",
    "    for j in range(x):\n",
    "        print(mat2[i][j],end= \"  \")\n",
    "    print()\n",
    "l=[]\n",
    "f=[]\n",
    "for i in range(x):\n",
    "    for j in range(x):\n",
    "        if mat1[i][j]==mat2[i][j]:\n",
    "            if 96<ord(mat1[i][j])<110:\n",
    "                l.append(mat1[i][j])\n",
    "                \n",
    "            if 109<ord(mat1[i][j])<123:\n",
    "                f.append(mat1[i][j])\n",
    "                \n",
    "print(\"List d is: \",l)       \n",
    "print(\"List f is: \",f)    "
   ]
  },
  {
   "cell_type": "markdown",
   "metadata": {},
   "source": [
    "### P4_21.   \n",
    "Write a program that reads a matrix **m** (**N**x**N**). A position **i**,**j** is a star if the sum of the element **m[i,j]** and its 4 neighbours is greater than 30. The program will tell us the position of those stars.\n",
    "Note: There are no stars in the matrix borders  \n",
    "Example:   \n",
    "~~~\n",
    "Input a 6x6 matrix:  \n",
    "\n",
    "1   3  10   2   1   2  \n",
    "0   3   5   3   8   2  \n",
    "3   4  10   2   3   2  \n",
    "1   2   2   1   6   2  \n",
    "3   7   1   8   8   3  \n",
    "1   2   5   2   7   5   \n",
    "\n",
    "Your stars are at positions:  \n",
    "\n",
    "(1,2)  \n",
    "(4,4)\n",
    "\n",
    "\n",
    "~~~\n"
   ]
  },
  {
   "cell_type": "code",
   "execution_count": 11,
   "metadata": {},
   "outputs": [
    {
     "name": "stdout",
     "output_type": "stream",
     "text": [
      "Your stars are at the positions:\n",
      "1 2\n",
      "4 4\n"
     ]
    }
   ],
   "source": [
    "# Your code here\n",
    "n = 6\n",
    "m = [[1, 3, 10, 2, 1, 2], [0, 3, 5, 3, 8, 2], [3, 4, 10, 2, 3, 2],\n",
    "     [1, 2, 2, 1, 6, 2], [3, 7, 1, 8, 8, 3], [1, 2, 5, 2, 7, 5]]\n",
    "star=[]\n",
    "for i in range (n):\n",
    "    star.append([0]*n)\n",
    "for i in range (1,n-1):\n",
    "    for j in range (1,n-1):\n",
    "        s=m[i][j]+m[i-1][j]+m[i][j-1]+m[i+1][j]+m[i][j+1]\n",
    "        if s>30:\n",
    "            star[i][j]=7\n",
    "l=[]\n",
    "print(\"Your stars are at the positions:\")\n",
    "for i in range (n):\n",
    "    for j in range (n):\n",
    "        if star[i][j]==7:\n",
    "            print(i,j)\n"
   ]
  },
  {
   "cell_type": "markdown",
   "metadata": {},
   "source": [
    "### P4_22.  \n",
    "Input a word of N characters.The program will ask for a number num (num<=N) and generate an output like the one in the example. \n",
    "Example: \n",
    "~~~\n",
    "Input a word of 7 characters: ARTICLE\n",
    "Input a number less or equal than 7: 5\n",
    "\n",
    "A               C\n",
    "A           I   C\n",
    "A       T       C\n",
    "A   R           C\n",
    "A               C\n",
    "\t\n",
    "\n",
    "~~~\n"
   ]
  },
  {
   "cell_type": "code",
   "execution_count": 8,
   "metadata": {},
   "outputs": [
    {
     "name": "stdout",
     "output_type": "stream",
     "text": [
      "Input a word of 7 characters: article\n",
      "Input a number less or equal than 7: 7\n",
      "a                 e  \n",
      "a              l  e  \n",
      "a           c     e  \n",
      "a        i        e  \n",
      "a     t           e  \n",
      "a  r              e  \n",
      "a                 e  \n"
     ]
    }
   ],
   "source": [
    "x=input(\"Input a word of 7 characters: \")\n",
    "y=int(input(\"Input a number less or equal than 7: \"))\n",
    "mat=[]\n",
    "while y>7:\n",
    "    print(\"Error\")\n",
    "    y=int(input(\"Input a number less or equal than 7: \"))\n",
    "for i in range (y):\n",
    "    mat.append([' ']*y)\n",
    "for i in range (y):\n",
    "    mat[i][0]=x[0]\n",
    "    mat[i][y-1]=x[y-1]\n",
    "for i in range(1,y-1):\n",
    "    mat[y-1-i][i]=x[i]\n",
    "for i in range (y):\n",
    "    for j in range (y):\n",
    "        print (mat[i][j], end=\"  \")\n",
    "    print()\n",
    "\n"
   ]
  },
  {
   "cell_type": "markdown",
   "metadata": {},
   "source": [
    "### P4_23.  \n",
    "Input a word of **N** characters.The program will ask for a number **num** (**num**<=**N**) and generate an output like the one in the example.  \n",
    "Example: \n",
    "~~~\n",
    "Input a word of 6 characters: PARROT  \n",
    "\n",
    "Introduce un número menor o igual que 6: 4  \n",
    "\n",
    "            P\t\t\n",
    "            A\t\t\n",
    "            R\t\t\n",
    "P   A   R   R   O   T\n",
    "            O\t\t\n",
    "            T\t\t\n",
    "~~~\t\t\n",
    "\n"
   ]
  },
  {
   "cell_type": "code",
   "execution_count": 14,
   "metadata": {},
   "outputs": [
    {
     "name": "stdout",
     "output_type": "stream",
     "text": [
      "Input a word with 6 characters: parrot\n",
      "Input a number less or equal to 6: 4\n",
      "      p     \n",
      "      a     \n",
      "      r     \n",
      "p a r r o t \n",
      "      o     \n",
      "      t     \n"
     ]
    }
   ],
   "source": [
    "x=input(\"Input a word with 6 characters: \")\n",
    "y=int(input(\"Input a number less or equal to 6: \"))\n",
    "mat=[]\n",
    "for i in range(6):\n",
    "    mat.append([' ']*6)\n",
    "for i in range(6):\n",
    "    mat[i][y-1]=x[i]\n",
    "for j in range(6):\n",
    "    mat[y-1][j]=x[j]\n",
    "for i in range(6):\n",
    "    for j in range(6):\n",
    "        print(mat[i][j],end=\" \")\n",
    "    print()\n",
    "    \n",
    "\n",
    "    \n"
   ]
  },
  {
   "cell_type": "code",
   "execution_count": null,
   "metadata": {},
   "outputs": [],
   "source": []
  }
 ],
 "metadata": {
  "kernelspec": {
   "display_name": "Python 3",
   "language": "python",
   "name": "python3"
  },
  "language_info": {
   "codemirror_mode": {
    "name": "ipython",
    "version": 3
   },
   "file_extension": ".py",
   "mimetype": "text/x-python",
   "name": "python",
   "nbconvert_exporter": "python",
   "pygments_lexer": "ipython3",
   "version": "3.8.8"
  }
 },
 "nbformat": 4,
 "nbformat_minor": 2
}
