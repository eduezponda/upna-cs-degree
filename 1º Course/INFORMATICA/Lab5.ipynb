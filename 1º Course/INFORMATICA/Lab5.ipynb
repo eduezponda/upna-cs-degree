{
 "cells": [
  {
   "cell_type": "markdown",
   "metadata": {},
   "source": [
    "# Lab 05. Functions."
   ]
  },
  {
   "cell_type": "markdown",
   "metadata": {},
   "source": [
    "# Exercices index\n",
    "\n",
    "[P5_01. Arithmetic Ops](#P5_01.)   \n",
    "[P5_02. Figure](#P5_03.)   \n",
    "[P5_03. Lists multiplying](#P5_04.)   \n",
    "[P5_04. Creating ROMA matrix](#P5_05.)   \n",
    "[P5_05. Build an integer matrix](#P5_06.)         \n",
    "[P5_06. Differents](#P5_09.)   \n",
    "[P5_07. Square](#P5_10.)    \n",
    "[P5_08. Cross](#P5_12.)     \n",
    "[P5_09. Square Sum](#P5_14.)   \n",
    "[P5_10. Combining letters](#P5_15.) \n",
    "  "
   ]
  },
  {
   "cell_type": "markdown",
   "metadata": {},
   "source": [
    "### P5_01.  \n",
    "Write a function called **Ops** that takes 2 integer numbers **n1** and **n2** and displays on the screen the sum, the difference and the multiplication. The numbers have to be read in the main program, as well as the function call (the results are displayed within the function).\n",
    "Example:  \n",
    "~~~\n",
    "Write the first number: 3  \n",
    "Write the second number: 5   \n",
    "Sum is 8, difference is -2 and the product is 15  \n",
    "~~~\n"
   ]
  },
  {
   "cell_type": "code",
   "execution_count": 2,
   "metadata": {},
   "outputs": [
    {
     "name": "stdout",
     "output_type": "stream",
     "text": [
      "Write the first number: 5\n",
      "Write the second number: 4\n",
      "Sum is 9, difference is 1 and the product is 20\n"
     ]
    }
   ],
   "source": [
    "def Ops(x,y):\n",
    "    s = x + y\n",
    "    d = x - y\n",
    "    p = x * y\n",
    "    print(\"Sum is {}, difference is {} and the product is {}\".format(s,d,p))\n",
    "\n",
    "x = int(input(\"Write the first number: \"))\n",
    "y = int(input(\"Write the second number: \"))\n",
    "Ops(x,y)\n",
    "\n",
    "\n"
   ]
  },
  {
   "cell_type": "markdown",
   "metadata": {},
   "source": [
    "### P5_02.  \n",
    "Write a function called **figure** that receives as input parameters one integer **n** and two characters **f** and **p**. The **f** character will have a 't' value if the figure has to be a triangle and a 'c' if it is an square. The **p** character is the character used for the drawing. Write now the main program which asks for the input data and calls the function that will draw figures like the ones below.\n",
    "\n",
    "Example:  \n",
    "~~~\n",
    "Write a number: 3                      Write a number: 4  \n",
    "Write a character (t/c): t             Write a character (t/c): c  \n",
    "Write aother character: m              Write another character: a  \n",
    "\n",
    "m                                         a a a a\n",
    "m m                                       a a a a\n",
    "m m m                                     a a a a \n",
    "                                          a a a a \n",
    "\n",
    "~~~\n"
   ]
  },
  {
   "cell_type": "code",
   "execution_count": 5,
   "metadata": {},
   "outputs": [
    {
     "name": "stdout",
     "output_type": "stream",
     "text": [
      "Write a number: 3\n",
      "Write a character (t/c): t\n",
      "Write another character: r\n",
      "r \n",
      "r r \n",
      "r r r \n"
     ]
    }
   ],
   "source": [
    "def figure(n,f,p):\n",
    "    if f=='c':\n",
    "        for i in range(n):\n",
    "            for j in range(n):\n",
    "                print(p,end=\" \")\n",
    "            print()\n",
    "    if f=='t':\n",
    "        for i in range(n):\n",
    "            for j in range(i+1):\n",
    "                print(p,end= \" \" )\n",
    "            print()\n",
    "                \n",
    "\n",
    "n=int(input(\"Write a number: \"))\n",
    "f=input(\"Write a character (t/c): \")\n",
    "p=input(\"Write another character: \")\n",
    "figure(n,f,p)\n",
    "\n"
   ]
  },
  {
   "cell_type": "markdown",
   "metadata": {},
   "source": [
    "### P5_03.  \n",
    "Write a program that stores numbers in 2 lists **a** and **b** of size **N** (**N** known constant) and gives back another **c** list which is the product of **a** and **b**, element by element. For that we have to design a function called **read_list** for reading one vector; we use this function to read **a** and **b** in two consecutive calls. We will implement as well a function **build** to obtain **c** from **a** and **b**; finally we need a last function **writes_list** to display on the screen **a**, **b* and **c** in 3 consecutive calls.\n",
    "  \n",
    "Example: (for **N**=6)  \n",
    "~~~\n",
    "Write 6 numbers: 2   2   6   3  11   5  \n",
    "Write another 6 numbers: 1   7   8  16   4   6   \n",
    "The list a is: 2   2   6   3  11   5  \n",
    "The list b is: 1   7   8  16   4   6  \n",
    "The list c is: 2  14  48  48  44  30\n",
    "~~~\n"
   ]
  },
  {
   "cell_type": "code",
   "execution_count": 17,
   "metadata": {},
   "outputs": [
    {
     "name": "stdout",
     "output_type": "stream",
     "text": [
      "Write 6 numbers:  2 1 2 324 2 1\n",
      "Write 6 numbers: 0 0 2 3 2 1\n",
      "The list a is:  [2, 1, 2, 324, 2, 1] \n",
      "The list b is:  [0, 0, 2, 3, 2, 1] \n",
      "The list c is:  [0, 0, 4, 972, 4, 1] "
     ]
    }
   ],
   "source": [
    "def read_list(N):\n",
    "    a=input(\"Write 6 numbers: \").split()\n",
    "    a=list(map(int,a))\n",
    "    return a\n",
    "def build(a,b):\n",
    "    c=[]\n",
    "    for i in range(N):\n",
    "        c.append(a[i]*b[i])\n",
    "    return c\n",
    "def writes_list(a,b,c):\n",
    "    print(\"The list a is: \",a,end=\" \")\n",
    "    print()\n",
    "    print(\"The list b is: \",b,end=\" \")\n",
    "    print()\n",
    "    print(\"The list c is: \",c,end=\" \")\n",
    "\n",
    "N=6\n",
    "a=read_list(N)\n",
    "b=read_list(N)\n",
    "c = build(a,b)\n",
    "writes_list(a,b,c)\n",
    "\n",
    "\n"
   ]
  },
  {
   "cell_type": "markdown",
   "metadata": {},
   "source": [
    "#### P5_04.  \n",
    "Write a function that takes as input parameters one string (Uppercase) and one integer's list of lenght **n** (you can use **len()** with the input string to compute **n** ). The integers in the list have to be smaller or equal to **n**. The functions returns to the main program a matrix (**n** x **n**) where the letters of the string are distributed as shown in the example.\n",
    "Example:  \n",
    "~~~\n",
    "Write a word: ROMA  \n",
    "Write 4 numbers between 1 and 4: 4 2 1 3  \n",
    "The matrix is:  \n",
    "\n",
    "\tR\n",
    "\tR           A\n",
    "\tR   O       A\n",
    "\tR   O   M   A\n",
    "\n",
    "~~~\n"
   ]
  },
  {
   "cell_type": "code",
   "execution_count": 11,
   "metadata": {},
   "outputs": [
    {
     "name": "stdout",
     "output_type": "stream",
     "text": [
      "Write a word: roma\n",
      "ROMA\n",
      "Write 4 numbers between 1 and 4: 3 2 1 2\n",
      "[3, 2, 1, 2]\n",
      "        \n",
      "R       \n",
      "R O   A \n",
      "R O M A \n"
     ]
    }
   ],
   "source": [
    "def function(x,y):\n",
    "    mat=[]\n",
    "    for i in range(len(x)):\n",
    "        mat.append([\" \"]*len(x))\n",
    "    for i in range(len(x)):\n",
    "        for j in range(y[i]):\n",
    "            mat[len(x)-j-1][i]=x[i]          \n",
    "    return mat\n",
    "x=str(input(\"Write a word: \"))\n",
    "x=x.upper()\n",
    "print(x)\n",
    "y=[]\n",
    "y=input(\"Write {} numbers between 1 and {}: \".format(len(x),len(x))).split()\n",
    "y=list(map(int,y))\n",
    "print(y)\n",
    "mat = function(x,y)\n",
    "for i in range(len(x)):\n",
    "    for j in range(len(x)):\n",
    "        print(mat[i][j],end = \" \")\n",
    "    print()\n",
    "\n",
    "\n"
   ]
  },
  {
   "cell_type": "code",
   "execution_count": null,
   "metadata": {},
   "outputs": [],
   "source": []
  },
  {
   "cell_type": "markdown",
   "metadata": {},
   "source": [
    "### P5_05.  \n",
    "Write a function called **build_matrix** that creates a matrix **m**(**N**x**N**) from a list **t** of **N** integers smaller or equal to **N** (**N** known constant). The matrix has to be built following these rules: the **i**th column will contain the decreasing sequence that starts with the value of **t[i]**. You will have to design as well a function **read_list** (you may reuse the one of P5_04 exercice) to read **t** and another function called **write_matrix** to display the matrix on the screen.\n",
    "\n",
    "Example: (for N=7)  \n",
    "~~~\n",
    "Input list elements: 4  3  1  7  2  3  0\n",
    "The matrix m is:  \n",
    "\n",
    "\t4  3  1  7  2  3  0\n",
    "\t3  2  0  6  1  2  0\n",
    "\t2  1  0  5  0  1  0\n",
    "\t1  0  0  4  0  0  0\n",
    "\t0  0  0  3  0  0  0\n",
    "\t0  0  0  2  0  0  0\n",
    "\t0  0  0  1  0  0  0\n",
    "~~~\n"
   ]
  },
  {
   "cell_type": "code",
   "execution_count": 3,
   "metadata": {},
   "outputs": [
    {
     "name": "stdout",
     "output_type": "stream",
     "text": [
      "input 7 numbers: 3 4 5 2 5 6 3\n",
      "3 4 5 2 5 6 3 \n",
      "2 3 4 1 4 5 2 \n",
      "1 2 3 0 3 4 1 \n",
      "0 1 2 0 2 3 0 \n",
      "0 0 1 0 1 2 0 \n",
      "0 0 0 0 0 1 0 \n",
      "0 0 0 0 0 0 0 \n"
     ]
    }
   ],
   "source": [
    "def read_list(N):\n",
    "    f=input(\"input {} numbers: \".format(N)).split()\n",
    "    f = list(map(int,f))\n",
    "    return(f)\n",
    "\n",
    "def build_matrix (t):\n",
    "    mat=[]\n",
    "    for i in range (N):\n",
    "        mat.append([0]*N)\n",
    "    for i in range (N):\n",
    "        for j in range (N):\n",
    "            if t[j] > i:\n",
    "                mat [i][j] = l[j]-i\n",
    "    return(mat)\n",
    "    \n",
    "def writes_matrix(mat):\n",
    "    for i in range (N):\n",
    "        for j in range (N):\n",
    "            print (mat[i][j], end=\" \")\n",
    "        print()\n",
    "N=7\n",
    "l=read_list(N)\n",
    "m=build_matrix(l)\n",
    "writes_matrix(m)\n",
    "\n"
   ]
  },
  {
   "cell_type": "code",
   "execution_count": null,
   "metadata": {},
   "outputs": [],
   "source": []
  },
  {
   "cell_type": "markdown",
   "metadata": {},
   "source": [
    "## P5_06.  \n",
    "Write a function called **differents** that takes as input parameter a matrix **3x3** with values 1,2 or 3 and returns **TRUE** when every value is only once in every raw and column. You will also need a function to read the matrix.\n",
    "\n",
    "Example:   \n",
    "~~~\n",
    "Write the 3x3 matrix:  \n",
    "\n",
    "1  2  3\n",
    "3  1  2\n",
    "2  3  1  \n",
    "\n",
    "The function returns True\n",
    "\n",
    "Write the 3x3 matrix:  \n",
    "\n",
    "1  2  2  \n",
    "3  1  2\n",
    "2  3  1  \n",
    "\n",
    "The function returns False\n",
    "~~~\n"
   ]
  },
  {
   "cell_type": "code",
   "execution_count": 26,
   "metadata": {},
   "outputs": [
    {
     "name": "stdout",
     "output_type": "stream",
     "text": [
      "Input 3 numbers between 1 and 3\n",
      "Input line 0: 1 2 3\n",
      "Input line 1: 2 3 1\n",
      "Input line 2: 3 1 2\n",
      "1 2 3 \n",
      "2 3 1 \n",
      "3 1 2 \n",
      "True\n"
     ]
    }
   ],
   "source": [
    "def read_list():\n",
    "    matf=[]\n",
    "    print(\"Input 3 numbers between 1 and 3\")\n",
    "    for i in range (3):\n",
    "        x = input(\"Input line {}: \".format(i)).split()\n",
    "        matf.append(x)\n",
    "    for i in range(3):\n",
    "        for j in range(3):\n",
    "            print(matf[i][j], end=\" \")\n",
    "        print()\n",
    "    return matf\n",
    "def differences(mat):\n",
    "    b=True\n",
    "    for i in range(3):\n",
    "        for j in range(3):\n",
    "            for k in range(j+1,3):\n",
    "                if mat[j][i]==mat[k][i]:\n",
    "                    b=False\n",
    "                if mat[i][j]==mat[i][k]:\n",
    "                    b=False\n",
    "    return b\n",
    "                \n",
    "            \n",
    "    \n",
    "    \n",
    "mat=read_list()\n",
    "a=differences(mat)\n",
    "print(a)"
   ]
  },
  {
   "cell_type": "markdown",
   "metadata": {},
   "source": []
  },
  {
   "cell_type": "markdown",
   "metadata": {},
   "source": [
    "### P5_7.  \n",
    "Write a function **square** that takes as parameter a list **t** of **N** (**N** known constant) integers and returns a square matrix **s** of size **M**x**M** like in the example (**M** known constant where **N**<=**M**x**M**). We need a function to display the matrix.\n",
    " \n",
    "Example: (for **N**=14, **M**=4)  \n",
    "~~~\n",
    "Write the list: 5  3  9  1  4  1  3  7  8  2  5  7  6  9   \n",
    "The matrix is:  \n",
    "\n",
    "\t5   3   9   1\n",
    "\t4   1   3   7\n",
    "\t8   2   5   7\n",
    "\t6   9   0   0\n",
    "~~~\n"
   ]
  },
  {
   "cell_type": "code",
   "execution_count": 29,
   "metadata": {},
   "outputs": [
    {
     "name": "stdout",
     "output_type": "stream",
     "text": [
      "Introduce 14 numbers: 3 4 5 3 2 4 6 6 5 3 3 5 7 4\n",
      "3 4 5 3 \n",
      "2 4 6 6 \n",
      "5 3 3 5 \n",
      "7 4 0 0 \n"
     ]
    }
   ],
   "source": [
    "def square(f,k):\n",
    "    mat=[]\n",
    "    index_list=0\n",
    "    for i in range(k):\n",
    "        mat.append([0]*k)\n",
    "    for i in range(k):\n",
    "        for j in range(k):\n",
    "            if index_list<len(f):\n",
    "                mat[i][j]=f[index_list]\n",
    "                index_list=index_list+1\n",
    "    return mat\n",
    "\n",
    "N=14\n",
    "M=4\n",
    "t=input(\"Introduce {} numbers: \".format(N)).split()\n",
    "t=list(map(int,t))\n",
    "a=square(t,M)\n",
    "for i in range(M):\n",
    "    for j in range(M):\n",
    "        print(a[i][j],end=\" \")\n",
    "    print()\n"
   ]
  },
  {
   "cell_type": "markdown",
   "metadata": {},
   "source": [
    "### P5_8.  \n",
    "Write a function called **cross** that takes as input parameters a matrix **m** of dimension **N**x**N** (**N** known constant) and a list **v** of **N** values between 0 and **N**-1. \n",
    "The function returns a new list of values computed as follows: the element **i** of the new list will be the result of summing all the elements of the column **v[i]** and substracting all the elements of the raw **v[i]**.\n",
    "\n",
    "The function has to return as well the total sum of all the elements of the matrix \n",
    "\n",
    "Example: (for **N**=3)   \n",
    "~~~\n",
    "Write the 3x3 matrix:  \n",
    "\n",
    "\t7   4   3\n",
    "\t2   9   1\n",
    "\t3   6   4  \n",
    "    \n",
    "Write the list: 2  0  1\n",
    "\n",
    "The new list is [-5, -2, 7] and the total sum is 39\n",
    "~~~\n",
    "Note: First element of the new list is the result of adding column 2: (3, 1, 4) and substracting raw 2: ( 3, 6, 4), giving -5 as result. We do similar thing for the other elements of the new list.\n",
    "\n",
    "\n"
   ]
  },
  {
   "cell_type": "code",
   "execution_count": 40,
   "metadata": {},
   "outputs": [
    {
     "name": "stdout",
     "output_type": "stream",
     "text": [
      "Input a matrix 3x3:\n",
      "Introduce 0 line: 3 4 5\n",
      "Introduce 1 line: 3 2 1\n",
      "Introduce 2 line: 2 3 0\n",
      "3 4 5 \n",
      "3 2 1 \n",
      "2 3 0 \n",
      "Input 3 numbers between 0 and 2: 1 2 0\n",
      "The new list is [6, 1, -7] and the total sum is 23.\n"
     ]
    }
   ],
   "source": [
    "def read_matrix():\n",
    "    m=[]\n",
    "    print(\"Input a matrix 3x3:\")\n",
    "    for i in range(N):\n",
    "        x=input(\"Introduce {} line: \".format(i)).split()\n",
    "        x=list(map(int,x))\n",
    "        m.append(x)\n",
    "    for i in range(N):\n",
    "        for j in range(N):\n",
    "            print(m[i][j],end=\" \")\n",
    "        print()\n",
    "    return m\n",
    "\n",
    "def cross(m):\n",
    "    v=input(\"Input {} numbers between 0 and {}: \".format(N,N-1)).split()\n",
    "    v=list(map(int,v))\n",
    "    s=0\n",
    "    for i in range(N):\n",
    "        for j in range(N):\n",
    "            s=s+m[i][j]\n",
    "    f=[]\n",
    "    for i in range(N):\n",
    "        k=0\n",
    "        for j in range(N):\n",
    "            k=k-m[v[i]][j]\n",
    "            k=k+m[j][v[i]]\n",
    "        f.append(k)\n",
    "        \n",
    "    print(\"The new list is {} and the total sum is {}.\".format(f,s))\n",
    "\n",
    "N=3\n",
    "mat=read_matrix()\n",
    "cross(mat)"
   ]
  },
  {
   "cell_type": "markdown",
   "metadata": {},
   "source": [
    "### P5_9.  \n",
    "Implement the functions **sum_square_sup** and **sum_square_inf**. The first one takes as parameters the square matrix **m**(**N**x**N**), (**N** known constant) and one integer **sup**, and it returns the sum of all the values of the matrix that are in a raw and column smaller or equal to **sup**. The second one does a similar thing returning the sum of all the values of the matrix that are in a raw and column bigger or smaller than **inf**.\n",
    "We need as well a function **reading** that takes a matrix **m**(**N**x**N**) thru the keyboard. Finally you have to write a main program that uses all the previous functions, to read 1 matrix and 2 integers, and to return the difference in ABS value of the made sums.\n",
    "Example (for **N**=7): \n",
    "~~~\n",
    "Give a 7x7 matrix:  \n",
    "    \n",
    "   3    4    2    1    0    6    2\n",
    "   6    8    1    1    3    8    0\n",
    "   3    4    1    7    2    3    5\n",
    "   5    2    6    4    5    8    1\n",
    "   4    1    4    5    8    1    1\n",
    "   6    2    4    2    8    5    6\n",
    "   7    3    5    2    2    3    1  \n",
    "   \n",
    "Give the upper end (sup): 2\n",
    "Give the lower end (inf): 5\n",
    "The result is: 17\n",
    "   ~~~\n",
    "Calling **sum_square_sup**, we obtain 32 and calling **sum_square_inf** we obtain 15. So the difference in ABS value is 17.   \n",
    "\n",
    "   **3   4   2**   1   0   6   2  \n",
    "   **6\t8\t1**\t1      \t3\t8\t0  \n",
    "   **3\t4\t1**\t7\t2\t3\t5  \n",
    "     5\t2\t6\t4\t5\t8\t1      \n",
    "   4\t1\t4\t5\t8\t1\t1  \n",
    "   6\t2\t4\t2\t8\t**5\t 6**  \n",
    "   7\t3\t5\t2\t2\t**3\t 1**  \n",
    "\n",
    "\n"
   ]
  },
  {
   "cell_type": "code",
   "execution_count": 64,
   "metadata": {},
   "outputs": [
    {
     "name": "stdout",
     "output_type": "stream",
     "text": [
      "3 4 2 1 0 6 2 \n",
      "6 8 1 1 3 8 0 \n",
      "3 4 1 7 2 3 5 \n",
      "5 2 6 4 5 8 1 \n",
      "4 1 4 5 8 1 1 \n",
      "6 2 4 2 8 5 6 \n",
      "7 3 5 2 2 3 1 \n",
      "Give the upper end (sup) (0-6): 1\n",
      "Give the lower end (inf) (0-6): 5\n",
      "The result is: 6 \n"
     ]
    }
   ],
   "source": [
    "# Your code here\n",
    "m = [[3, 4, 2, 1, 0, 6, 2], [6, 8, 1, 1, 3, 8, 0], [3, 4, 1, 7, 2, 3, 5],\n",
    "     [5, 2, 6, 4, 5, 8, 1], [4, 1, 4, 5, 8, 1, 1], [6, 2, 4, 2, 8, 5, 6], \n",
    "     [7, 3, 5, 2, 2, 3, 1]]\n",
    "def read_matrix(mat):\n",
    "    for i in range(len(mat)):\n",
    "        for j in range(len(mat)):\n",
    "            print(mat[i][j],end=\" \")\n",
    "        print()\n",
    "    \n",
    "def sum_square_sup(mat):\n",
    "    ssup=0\n",
    "    sup=int(input(\"Give the upper end (sup) (0-{}): \".format(len(mat)-1)))\n",
    "    for i in range(sup+1):\n",
    "        for j in range(sup+1):\n",
    "            ssup=ssup+mat[i][j]\n",
    "    inf=int(input(\"Give the lower end (inf) (0-{}): \".format(len(mat)-1)))\n",
    "    sinf=0\n",
    "    for i in range(inf,len(mat)):\n",
    "        for j in range(inf,len(mat)):\n",
    "            sinf=sinf+mat[i][j]\n",
    "    stotal=ssup-sinf\n",
    "    return stotal\n",
    "read_matrix(m)\n",
    "s=sum_square_sup(m)  \n",
    "if s<0:\n",
    "    s=s*(-1)\n",
    "print(\"The result is: {} \".format(s))"
   ]
  },
  {
   "cell_type": "markdown",
   "metadata": {},
   "source": [
    "### P5_10.  \n",
    "Implement a function that takes 3 words and returns a boolean saying if the third word can be made combining letters from the other two. If the function receives **'LACA'**, **'REMO'** and **'MACERO'**, it returns TRUE; If the function receives **'LACA'**, **'REMO'** Y **'CAMELLO'**, it returns FALSE (as we need one **'L'** more).\n",
    "The main program reads a sentence and using the previous function should be able to say if any word (starting from the third one) can be made or not from the 2 previous ones.\n",
    "\n",
    "Example:  \n",
    "~~~\n",
    "Write the sentence:  Esta masa verde es claramente rala\n",
    "False\n",
    "True\n",
    "False\n",
    "True\n",
    "   ~~~\n",
    "'es' can be done combining letters from 'masa' and 'verde'.  \n",
    "'rala' can be done combining letters from 'es' and 'claramente'."
   ]
  },
  {
   "cell_type": "code",
   "execution_count": 76,
   "metadata": {},
   "outputs": [
    {
     "name": "stdout",
     "output_type": "stream",
     "text": [
      "Write the sentence: Esta masa verde es claramente rala\n",
      "True\n",
      "True\n",
      "True\n",
      "True\n",
      "[['Esta', 'masa', 'verde'], ['masa', 'verde', 'es'], ['verde', 'es', 'claramente'], ['es', 'claramente', 'rala']]\n"
     ]
    }
   ],
   "source": [
    "def combine (p,s,t):\n",
    "    r=True\n",
    "    t=list(p)+list(s)\n",
    "    for i in range (len(t)):\n",
    "        ind=0\n",
    "        letter=False\n",
    "        while i<len(t) and letter==False:\n",
    "            if t[i]==t[i]:\n",
    "                letter=True\n",
    "            else:\n",
    "                i=i+1\n",
    "        if letter==False:\n",
    "            return False\n",
    "        else:\n",
    "            t[i]=\" \"\n",
    "    return r\n",
    "    \n",
    "x=input(\"Write the sentence: \").split()\n",
    "p=x[0]\n",
    "s=x[1]\n",
    "l=[]\n",
    "for i in range (2,len(x)):\n",
    "    print (combine(p,s,x[i]))\n",
    "    if combine(p,s,x[i]) == True:\n",
    "        l.append([p,s,x[i]])\n",
    "    p=s\n",
    "    s=x[i]\n",
    "print(l)\n"
   ]
  },
  {
   "cell_type": "code",
   "execution_count": null,
   "metadata": {},
   "outputs": [],
   "source": []
  }
 ],
 "metadata": {
  "kernelspec": {
   "display_name": "Python 3",
   "language": "python",
   "name": "python3"
  },
  "language_info": {
   "codemirror_mode": {
    "name": "ipython",
    "version": 3
   },
   "file_extension": ".py",
   "mimetype": "text/x-python",
   "name": "python",
   "nbconvert_exporter": "python",
   "pygments_lexer": "ipython3",
   "version": "3.8.8"
  }
 },
 "nbformat": 4,
 "nbformat_minor": 2
}
