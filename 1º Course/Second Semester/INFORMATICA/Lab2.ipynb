{
 "cells": [
  {
   "cell_type": "markdown",
   "metadata": {},
   "source": [
    "# Lab 02. Conditional statements. "
   ]
  },
  {
   "cell_type": "markdown",
   "metadata": {},
   "source": [
    "### Remember that you must solve these exercises using *if*, *if_else* y *elif*."
   ]
  },
  {
   "cell_type": "markdown",
   "metadata": {},
   "source": [
    "# Exercises\n",
    "\n",
    "[P2_01. Absolute value](#P2_01.)  \n",
    "[P2_02. Even numbers](#P2_02.)  \n",
    "[P2_03. Biggest number](#P2_03.)  \n",
    "[P2_04. Biggest and smallest numbers](#*P2_04.)  \n",
    "[P2_05. Intervals](#P2_05.)  \n",
    "[P2_06. Menu](#P2_06.)  \n",
    "[P2_07. Where is my classroom?](#*P2_07.)  \n",
    "[P2_08. Simple math](#*P2_08.)  \n",
    "[P2_09. Courier company](#*P2_09.)  \n",
    "[P2_10. Day of week](#P2_10.)  \n",
    "[P2_11. Week day or weekend](#*P2_11.)  \n",
    "[P2_12. Adding two numbers](#*P2_12.)  "
   ]
  },
  {
   "cell_type": "markdown",
   "metadata": {},
   "source": [
    "### P2_01.  \n",
    "Write a program that reads a number from terminal and show its absolute value. (Hint remember function *abs*).  \n",
    "Example:  \n",
    "~~~\n",
    "Please, input a number: -4\n",
    "The absolute value of -4 is 4\n",
    "~~~\n"
   ]
  },
  {
   "cell_type": "code",
   "execution_count": 1,
   "metadata": {},
   "outputs": [
    {
     "name": "stdout",
     "output_type": "stream",
     "text": [
      "Please introduce a number:-4\n",
      "the absolute value is: 4\n"
     ]
    }
   ],
   "source": [
    "# Your code here\n",
    "\n",
    "x=input('Please introduce a number:')\n",
    "x=int(x)\n",
    "if x<0:\n",
    "    print('the absolute value is:',x*(-1))\n",
    "else:\n",
    "    print('the absolute value is:',x)\n"
   ]
  },
  {
   "cell_type": "markdown",
   "metadata": {},
   "source": [
    "### P2_02.  \n",
    "Write a program that reads an integer number from terminal, and shows a message only if the number is even.  \n",
    "Example:  \n",
    "~~~\n",
    "Please, input a number: 4\n",
    "Your number 4 is even\n",
    "~~~\n"
   ]
  },
  {
   "cell_type": "code",
   "execution_count": 13,
   "metadata": {},
   "outputs": [
    {
     "name": "stdout",
     "output_type": "stream",
     "text": [
      "Please, input a number:1528\n",
      "Your number is even\n"
     ]
    }
   ],
   "source": [
    "# Your code hereterminal\n",
    "x=int(input('Please, input a number:'))\n",
    "if x / 2 == x // 2:\n",
    "    print('Your number is even')\n",
    "else:\n",
    "    print('Your number is odd')"
   ]
  },
  {
   "cell_type": "markdown",
   "metadata": {},
   "source": [
    "### P2_03.  \n",
    "Write a program that reads 3 numbers from terminal, **a, b & c** and tell us the biggest of the three.  \n",
    "Example:  \n",
    "~~~\n",
    "Please, input a number: 4 \n",
    "input a second number: 2\n",
    "input a third one: 3\n",
    "Biggest number is 4\n",
    "~~~"
   ]
  },
  {
   "cell_type": "code",
   "execution_count": 3,
   "metadata": {},
   "outputs": [
    {
     "name": "stdout",
     "output_type": "stream",
     "text": [
      "please, input a number:6\n",
      "please, input a second number:-7\n",
      "please, input a third number:9\n",
      "the biggest number is: 9\n"
     ]
    }
   ],
   "source": [
    "# Your code here\n",
    "a=int(input('please, input a number:'))\n",
    "b=int(input('please, input a second number:'))\n",
    "c=int(input('please, input a third number:'))\n",
    "a!=b!=c\n",
    "if a>b>c or a>c>b:\n",
    "    print('the biggest number is:',a)\n",
    "elif b>a>c or b>c>a:\n",
    "    print('the biggest number is:',b)\n",
    "elif c>a>b or c>b>a:\n",
    "    print('the biggest number is:',c)\n",
    "else:\n",
    "    print('all numbers must be different')\n",
    "    \n"
   ]
  },
  {
   "cell_type": "markdown",
   "metadata": {},
   "source": [
    "### P2_04. \n",
    "Write a program that reads 3 numbers from terminal, a, b y c and tell us the biggest and the smallest.  \n",
    "Example:  \n",
    "~~~\n",
    "Please, input a number: 4 \n",
    "input a second number: 2\n",
    "input a third one: 3\n",
    "Biggest number is 4 and smallest is 2\n",
    "~~~\n",
    "\n",
    "    "
   ]
  },
  {
   "cell_type": "code",
   "execution_count": 2,
   "metadata": {},
   "outputs": [
    {
     "name": "stdout",
     "output_type": "stream",
     "text": [
      "please, input a number:3\n",
      "please, input a second number:5\n",
      "please, input a third number:8\n",
      "the biggest number is: 8 and the smallest number is: 3\n"
     ]
    }
   ],
   "source": [
    "# Your code here\n",
    "a=int(input('please, input a number:'))\n",
    "b=int(input('please, input a second number:'))\n",
    "c=int(input('please, input a third number:'))\n",
    "if a>b>c:\n",
    "    print('the biggest number is:',a,'and the smallest number is:',c)\n",
    "elif a>c>b:\n",
    "    print('the biggest number is:',a,'and the smallest number is:',b)\n",
    "elif b>c>a:\n",
    "    print('the biggest number is:',b,'and  smallest number is:',a)\n",
    "elif b>a>c:\n",
    "    print('the biggest number is:',b,'and the smallest number is:',c)\n",
    "elif c>a>b:\n",
    "    print('the biggest number is:',c,'and the smallest number is:',b)\n",
    "elif c>b>a:\n",
    "    print('the biggest number is:',c,'and the smallest number is:',a)\n",
    "else:\n",
    "    print('all numbers must be different')\n",
    "\n",
    "\n",
    "\n"
   ]
  },
  {
   "cell_type": "markdown",
   "metadata": {},
   "source": [
    "### P2_05.  \n",
    "Write a program that reads 3 real numbers from terminal, **a, b** y **v**. It should tell us if number **v** is included in the interval delimited by **a** and **b**. (Hint: the interval could be **[a, b]** or **[b, a]**).   \n",
    "~~~\n",
    "Please, input a limit of the interval: 4.32\n",
    "Input the second limit: 1.78\n",
    "Input a number to check: 4.12\n",
    "4.12 is in the interval [1.78, 4.32]\n",
    "~~~  "
   ]
  },
  {
   "cell_type": "code",
   "execution_count": 5,
   "metadata": {},
   "outputs": [
    {
     "name": "stdout",
     "output_type": "stream",
     "text": [
      "Please, input a limit of the interval:6\n",
      "Please, input the second limit:19\n",
      "Please, input a number to check:2\n",
      "the number is not included in the interval\n"
     ]
    }
   ],
   "source": [
    "# Your code here\n",
    "a=float(input('Please, input a limit of the interval:'))\n",
    "b=float(input('Please, input the second limit:'))\n",
    "v=float(input('Please, input a number to check:'))\n",
    "if a<=v<=b:\n",
    "    print('the number is included in the interval')\n",
    "elif b<=v<=a:\n",
    "    print('the number is included in the interval')\n",
    "else:\n",
    "    print('the number is not included in the interval')\n",
    "\n",
    "\n",
    "    \n",
    "\n"
   ]
  },
  {
   "cell_type": "code",
   "execution_count": null,
   "metadata": {},
   "outputs": [],
   "source": [
    "### P2_06.  \n",
    "Write a program that shows a menu with the following options:\n",
    "~~~\n",
    "a. Add  \n",
    "b. Delete  \n",
    "c. Sort\n",
    "d. Print\n",
    "Choose your option:\n",
    "~~~\n",
    "\n",
    "Program should show the chosen option or an error message if the option is not one of the available ones. \n",
    "Example:   \n",
    "~~~\n",
    "Choose your option: b \n",
    "Your choice is DELETE\n",
    "~~~\n",
    "Example: \n",
    "~~~\n",
    "Choose your option: j\n",
    "Option not avalable\n",
    "\n",
    "~~~\n",
    "\n",
    "    "
   ]
  },
  {
   "cell_type": "code",
   "execution_count": 13,
   "metadata": {},
   "outputs": [
    {
     "name": "stdout",
     "output_type": "stream",
     "text": [
      "Choose an option between add (a), delete (b), sort (c) or print (d)l\n",
      "Your option is NOT available\n"
     ]
    }
   ],
   "source": [
    "# Your code here\n",
    "x=input('Choose an option between add (a), delete (b), sort (c) or print (d)')\n",
    "if x=='a':\n",
    "    print('Your option is ADD')\n",
    "elif x=='b':\n",
    "    print('Your option is DELETE')\n",
    "elif x=='c':\n",
    "    print('Your option is SORT')\n",
    "elif x=='d':\n",
    "    print('Your option is PRINT')\n",
    "else:\n",
    "    print('Your option is NOT available')\n"
   ]
  },
  {
   "cell_type": "markdown",
   "metadata": {},
   "source": [
    "### P2_07.  \n",
    "Write a program that reads an student family name and assigns a classroom according the following table:\n",
    "~~~\n",
    "Names starting with A to F -> Room 1\n",
    "Names starting with G to J -> Room 2\n",
    "Names starting with K to Ñ -> Room 3\n",
    "Names starting with O to Z -> Room 4\n",
    "~~~\n",
    "If the first character is not a letter, it shoud rise an error.  (Hint: the input can be uppercase or lowercase)\n",
    "\n",
    "Example:  \n",
    "~~~\n",
    "Input your name: Smith\n",
    "You have been assigned Room 4\n",
    "~~~"
   ]
  },
  {
   "cell_type": "code",
   "execution_count": 2,
   "metadata": {},
   "outputs": [
    {
     "name": "stdout",
     "output_type": "stream",
     "text": [
      "Introduce your family name:ezponda\n",
      "You have been assigned Room 1\n"
     ]
    }
   ],
   "source": [
    "# Your code here\n",
    "x=input('Introduce your family name:')\n",
    "x=x.capitalize()\n",
    "if 'A'<=x<='F':\n",
    "    print('You have been assigned Room 1')\n",
    "elif 'G'<=x<='J':\n",
    "    print('You have been assigned Room 2')\n",
    "elif 'K'<=x<='Ñ':\n",
    "    print('You have been assigned Room 3')\n",
    "elif 'O'<=x<='Z':\n",
    "    print('You have been assigned Room 4')\n",
    "else:\n",
    "    print('The option must be a name')"
   ]
  },
  {
   "cell_type": "markdown",
   "metadata": {},
   "source": [
    "### P2_08.  \n",
    "Write a program that reads 2 real numbers from terminal **a, b** and an operator (+,-,/,*). Program will show the result of applying the correspoding operation to **a** and **b**. \n",
    "Example: \n",
    "~~~\n",
    "Input a number: 4.4\n",
    "Input a second one: 2\n",
    "Which operation would you like to do?: *\n",
    "The result of 4.4 * 2.0 is 8.80\n",
    "~~~\n",
    "\n",
    "    "
   ]
  },
  {
   "cell_type": "code",
   "execution_count": 1,
   "metadata": {},
   "outputs": [
    {
     "name": "stdout",
     "output_type": "stream",
     "text": [
      "Input a number:-5\n",
      "Input a second number-9\n",
      "Which operation would you like to do?/\n",
      "The result of the division is: 0.5555555555555556\n"
     ]
    }
   ],
   "source": [
    "# Your code here\n",
    "a=float(input('Input a number:'))\n",
    "b=float(input('Input a second number'))\n",
    "c=input('Which operation would you like to do?')\n",
    "if c=='sum' or c=='+':\n",
    "    print('The result of the sum is:',a+b)\n",
    "elif c=='difference' or c=='-':\n",
    "    print('The result of the difference is:',a-b)\n",
    "elif c=='product' or c=='*':\n",
    "    print('The result of the product is:',a*b)\n",
    "elif c=='division' or c=='/':\n",
    "    print('The result of the division is:',a/b)\n",
    "else:\n",
    "    print('The only options avalaible are the sum, difference, product and division')\n",
    "    \n",
    "    "
   ]
  },
  {
   "cell_type": "markdown",
   "metadata": {},
   "source": [
    "### P2_09.  \n",
    "A courier company offers the following pricing schema:  \n",
    "* Volume (v):  \n",
    "    * If volume is less or equal 5m3, price is 3€;  \n",
    "    * If volume is greater than 5m3 but less than 10m3, they charge 5€;  \n",
    "    * If volume is greater than 10m3 they charge 0.5€ per m3.  \n",
    "* Weight (p):\n",
    "    * If weight is less or equal 2 kg, price is 1.7€ per kg;\n",
    "    * If weight is greater than 2 kg, 1.9€ per kg is charged\n",
    "\n",
    "The highest price of the two will be finally charged. Write a program that reads the dimensions of the package and its weight and shows the final price.\n",
    "\n",
    "Example: \n",
    "~~~\n",
    "Input package dimensions (in meters) \n",
    "length: 1  \n",
    "width: 1   \n",
    "height: 1  \n",
    "Input package weigth (in Kg): 2\n",
    "Your price is 3.4€\n",
    "~~~\n",
    "Example: \n",
    "~~~\n",
    "Input package dimensions (in meters) \n",
    "length: 2  \n",
    "width: 2  \n",
    "height: 2  \n",
    "Input package weigth (in Kg): 2\n",
    "Your price is  5€\n",
    "~~~\n",
    "    "
   ]
  },
  {
   "cell_type": "code",
   "execution_count": 3,
   "metadata": {},
   "outputs": [
    {
     "name": "stdout",
     "output_type": "stream",
     "text": [
      "Introduce the lenght of the package in meters:5\n",
      "Introduce the width of the package in meters:9\n",
      "Introduce the height of the package in meters:3\n",
      "Input package weight (in kg):4\n",
      "Your price is 67.50€\n"
     ]
    }
   ],
   "source": [
    "# Your code here\n",
    "lenght=float(input('Introduce the lenght of the package in meters:'))\n",
    "width=float(input('Introduce the width of the package in meters:'))\n",
    "height=float(input('Introduce the height of the package in meters:'))\n",
    "weight=float(input('Input package weight (in kg):'))\n",
    "volume=lenght*width*height\n",
    "if volume<=5:\n",
    "    if weight<=2:\n",
    "        p1=3\n",
    "        p2=1.7*weight\n",
    "        if p1>p2:\n",
    "            print('Your price is 3€')\n",
    "        else:\n",
    "            print('Your price is {:.2f}€'. format(p2))\n",
    "    else: \n",
    "        p1=3\n",
    "        p2=1.9*weight\n",
    "        if p1>=p2:\n",
    "            print('Your price is 3€')\n",
    "        else:\n",
    "            print('Your price is {:.2f}€'. format(p2)) \n",
    "            \n",
    "elif 5<volume<=10:\n",
    "    if weight<=2:\n",
    "        p1=5\n",
    "        p2=1.7*weight\n",
    "        if p1>p2:\n",
    "            print('Your price is 5 €')\n",
    "        else:\n",
    "            print('Your price is {:.2f}€'. format(p2))\n",
    "    else:\n",
    "        p1=5\n",
    "        p2=1.9*weight\n",
    "        if p1>=p2:\n",
    "            print('Your price is 5€')\n",
    "        else:\n",
    "            print('Your price is {:.2f}€'. format(p2))\n",
    "elif volume>10:\n",
    "    if weight<=2:\n",
    "        p1=0.5*volume\n",
    "        p2=1.7*weight\n",
    "        if p1>=p2:\n",
    "            print('Your price is {:.2f}€'. format(p1))\n",
    "        else:\n",
    "            print('Your price is {:.2f}€'. format(p2))\n",
    "    else:\n",
    "        p1=0.5*volume\n",
    "        p2=1.9*weight\n",
    "        if p1>=p2:\n",
    "            print('Your price is {:.2f}€'. format(p1))\n",
    "        else:\n",
    "            print('Your price is {:.2f}€'. format(p2))\n",
    "else:\n",
    "    print('All measures must be positive')\n",
    "   "
   ]
  },
  {
   "cell_type": "code",
   "execution_count": 8,
   "metadata": {},
   "outputs": [
    {
     "name": "stdout",
     "output_type": "stream",
     "text": [
      "Input a number:7\n",
      "It is Sunday\n"
     ]
    }
   ],
   "source": [
    "# Your code here\n",
    "\n",
    "x=int(input('Input a number:'))\n",
    "\n",
    "if x==1:\n",
    "    print('It is Monday')\n",
    "    \n",
    "elif x==2:\n",
    "    print('It is Tuesday')\n",
    "    \n",
    "elif x==3:\n",
    "    print('It is wednesday')\n",
    "    \n",
    "elif x==4:\n",
    "    print('It is Thursday')\n",
    "    \n",
    "elif x==5:\n",
    "    print('It is Friday')\n",
    "    \n",
    "elif x==6:\n",
    "    print('It is Saturday')\n",
    "    \n",
    "elif x==7:\n",
    "    print('It is Sunday')\n",
    "    \n",
    "else:\n",
    "    print('The number must be between 1 and 7')\n",
    "\n",
    "    "
   ]
  },
  {
   "cell_type": "code",
   "execution_count": null,
   "metadata": {},
   "outputs": [],
   "source": []
  },
  {
   "cell_type": "markdown",
   "metadata": {},
   "source": [
    "### P2_10.  \n",
    "Write a program that reads a number from 1 to 7 and shows the day of week corresponding to that day. If the number is not in that interval, it will show an error message\n",
    "Example: \n",
    "~~~\n",
    "Input your number: 2\n",
    "It's Tuesday\n",
    "~~~\n",
    "Example: \n",
    "~~~\n",
    "Input your number: 8\n",
    "That is not a valid choice\n",
    "~~~\n",
    "    "
   ]
  },
  {
   "cell_type": "markdown",
   "metadata": {},
   "source": [
    "##### P2_11.  \n",
    "Write a number that reads a number from 1 to 7 and shows if that number corresponds to a week day (1-5) or weekend (6-7). If the number is not in that interval, it will show an error message.   \n",
    "Example: \n",
    "~~~\n",
    "Input your number: 6\n",
    "It's weekend!!\n",
    "~~~\n",
    "Example: \n",
    "~~~\n",
    "Input your number: 2\n",
    "I'm sorry, it's week day\n",
    "~~~\n",
    "Example: \n",
    "~~~\n",
    "Input your number: 8\n",
    "That is not a valid choice\n",
    "~~~"
   ]
  },
  {
   "cell_type": "code",
   "execution_count": 13,
   "metadata": {},
   "outputs": [
    {
     "name": "stdout",
     "output_type": "stream",
     "text": [
      "Input a number:4\n",
      "It is week day\n"
     ]
    }
   ],
   "source": [
    "# Your code here\n",
    "x=int(input('Input a number:'))\n",
    "\n",
    "if x==1:\n",
    "    print('It is week day')\n",
    "    \n",
    "elif x==2:\n",
    "    print('It is week day')\n",
    "    \n",
    "elif x==3:\n",
    "    print('It is week day')\n",
    "    \n",
    "elif x==4:\n",
    "    print('It is week day')\n",
    "    \n",
    "elif x==5:\n",
    "    print('It is week day')\n",
    "    \n",
    "elif x==6:\n",
    "    print('It is weekend')\n",
    "    \n",
    "elif x==7:\n",
    "    print('It is weekend')\n",
    "    \n",
    "else:\n",
    "    print('The number must be between 1 and 7')\n",
    "\n",
    "    "
   ]
  },
  {
   "cell_type": "markdown",
   "metadata": {},
   "source": [
    "### P2_12.  \n",
    "Write a program that reads three integers from terminal and checks if any of those numbers is the sum of the other two showing us the result.  \n",
    "Example: \n",
    "~~~\n",
    "Input your first number: 1 \n",
    "Input your second number: 2\n",
    "Input your third number: 5\n",
    "None of those numbers can be written as the sum of the other two\n",
    "~~~\n",
    "Example: \n",
    "~~~\n",
    "Input your first number: 1 \n",
    "Input your second number: 2\n",
    "Input your third number: 3\n",
    "Cool! 1 + 2 = 3\n",
    "~~~"
   ]
  },
  {
   "cell_type": "code",
   "execution_count": 2,
   "metadata": {},
   "outputs": [
    {
     "name": "stdout",
     "output_type": "stream",
     "text": [
      "Input your first number:6\n",
      "Input your second number:9\n",
      "Input your third number:5\n",
      "None of those numbers can be written as the sum of the other two\n"
     ]
    }
   ],
   "source": [
    "# Your code here\n",
    "x=float(input('Input your first number:'))\n",
    "y=float(input('Input your second number:'))\n",
    "z=float(input('Input your third number:'))\n",
    "if x==y+z:\n",
    "    print('Cool!{}+{}={}'.format(y,z,x))\n",
    "elif y==z+x:\n",
    "    print('Cool!{}+{}={}'.format(z,x,y))\n",
    "elif z==y+x:\n",
    "    print('Cool!{}+{}={}'.format(y,x,z))\n",
    "else:\n",
    "    print('None of those numbers can be written as the sum of the other two')\n",
    "    \n",
    "\n"
   ]
  },
  {
   "cell_type": "code",
   "execution_count": null,
   "metadata": {},
   "outputs": [],
   "source": []
  }
 ],
 "metadata": {
  "kernelspec": {
   "display_name": "Python 3",
   "language": "python",
   "name": "python3"
  },
  "language_info": {
   "codemirror_mode": {
    "name": "ipython",
    "version": 3
   },
   "file_extension": ".py",
   "mimetype": "text/x-python",
   "name": "python",
   "nbconvert_exporter": "python",
   "pygments_lexer": "ipython3",
   "version": "3.8.8"
  }
 },
 "nbformat": 4,
 "nbformat_minor": 2
}
