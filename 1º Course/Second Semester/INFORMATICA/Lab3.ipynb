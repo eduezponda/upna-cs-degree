{
 "cells": [
  {
   "cell_type": "markdown",
   "metadata": {},
   "source": [
    "# Lab 03. Loops"
   ]
  },
  {
   "cell_type": "markdown",
   "metadata": {},
   "source": [
    "### Remember, you have to use *while* and *for_in*."
   ]
  },
  {
   "cell_type": "markdown",
   "metadata": {},
   "source": [
    "# Exercices\n",
    "\n",
    "[P3_01. Counting even numbers](#P3_01.)  \n",
    "[P3_02. Counting \"a\" letters](#P3_02.)  \n",
    "[P3_03. Odds in even positions](#*P3_03.)  \n",
    "[P3_04. Smallest position](#P3_04.)  \n",
    "[P3_05. Prime number] (#*P3_05.)  \n",
    "[P3_06. Bigger than 10](#P3_06.)  \n",
    "[P3_07. Addition with characters](#P3_07.)  \n",
    "[P3_08. Range](#P3_08.)  \n",
    "[P3_09. Adding till 2000](#*P3_09.)  \n",
    "[P3_10. Greatest Common Divisor](#*P3_10.)  \n",
    "[P3_11. Progression](#P3_11.)  \n",
    "[P3_12. Highest difference](#P3_12.)  \n",
    "[P3_13. Count 'a7'](#*P3_13.)   \n",
    "[P3_14. Prime factors](#*P3_14.)   \n",
    "[P3_15. Increasing order](#*P3_15.)   \n",
    "[P3_16. Numeric triangle](#P3_16.)     \n",
    "[P3_17. Numeric square](#*P3_17.)   \n",
    "[P3_18. Even after odd](#P3_18.)   \n",
    "[P3_19. Bigger than previous](#*P3_19.)  \n",
    "[P3_20. Positive and negative](#P3_20.)   "
   ]
  },
  {
   "cell_type": "markdown",
   "metadata": {},
   "source": [
    "### P3_01.  \n",
    "Write a program that reads a sequence of integers finished by 0 and returns the number of even numbers it contains (the last 0 not included)\n",
    "Example:\n",
    "\n",
    "~~~\n",
    "Introduce a number: 3\n",
    "Introduce a number: 6\n",
    "Introduce a number: 2\n",
    "Introduce a number: 0\n",
    "There are 2 even numbers\n",
    "~~~"
   ]
  },
  {
   "cell_type": "code",
   "execution_count": 4,
   "metadata": {},
   "outputs": [
    {
     "name": "stdout",
     "output_type": "stream",
     "text": [
      "Introduce a number:56858\n",
      "Introduce a number:12036\n",
      "Introduce a number:0\n",
      "There are 2 even numbers\n"
     ]
    }
   ],
   "source": [
    "# Write here your program\n",
    "e=0\n",
    "n=int(input('Introduce a number:'))\n",
    "while n!=0:\n",
    "    if n%2==0:\n",
    "        e=e+1\n",
    "        n=int(input('Introduce a number:'))\n",
    "    else:\n",
    "        n=int(input('Introduce a number:'))\n",
    "       \n",
    "        \n",
    "print ('There are {} even numbers'.format(e))\n",
    "\n"
   ]
  },
  {
   "cell_type": "markdown",
   "metadata": {},
   "source": [
    "### P3_02.  \n",
    "Write a program that reads a sequence of integers finished by ‘.’  and returns the number of times the sequence has an “a”, either lower or upper case.\n",
    "Example:\n",
    "  \n",
    "~~~\n",
    "Introduce a character: r\n",
    "Introduce a character: A\n",
    "Introduce a character: t\n",
    "Introduce a character: a\n",
    "Introduce a character: s\n",
    "Introduce a character: .\n",
    "There  are 2  a letters\n",
    "~~~"
   ]
  },
  {
   "cell_type": "code",
   "execution_count": 4,
   "metadata": {},
   "outputs": [
    {
     "name": "stdout",
     "output_type": "stream",
     "text": [
      "Introduce a character:f\n",
      "introduce a character:t\n",
      "introduce a character:g\n",
      "introduce a character:v\n",
      "introduce a character:f\n",
      "introduce a character:t\n",
      "introduce a character:g\n",
      "introduce a character:\n",
      "introduce a character:b\n",
      "introduce a character:g\n",
      "introduce a character:\n",
      "introduce a character:b\n",
      "introduce a character:.\n",
      "There are 0 a letters:\n"
     ]
    }
   ],
   "source": [
    "# Write here your program:\n",
    "n=0\n",
    "x=input('Introduce a character:')\n",
    "x=x.upper()\n",
    "while x!='.':\n",
    "    if x=='A':\n",
    "        n+=1\n",
    "        x=input('Introduce a character:')\n",
    "    else:\n",
    "        x=input('introduce a character:')\n",
    "print('There are {} a letters:'.format(n))\n",
    "\n",
    "    "
   ]
  },
  {
   "cell_type": "markdown",
   "metadata": {},
   "source": [
    "### *P3_03.  \n",
    "Write a program that reads a sequence of integers finished by 0 and returns the number of odd numbers that are in an even position\n",
    "\n",
    "Example: \n",
    "~~~\n",
    "Introduce a number: 3\n",
    "Introduce a number: 5\n",
    "Introduce a number: 2\n",
    "Introduce a number: 1\n",
    "Introduce a number: 0\n",
    "There are 2 odds in even positions\n",
    "~~~\n",
    "Note: 3 is in position  0 and 1 in position 3"
   ]
  },
  {
   "cell_type": "code",
   "execution_count": null,
   "metadata": {},
   "outputs": [],
   "source": [
    "# Write here your program\n",
    "p=0\n",
    "s=0\n",
    "n=int(input('Introduce a number:'))\n",
    "while n!=0:\n",
    "    if n%2!=0 and p%2==0:\n",
    "        s=s+1\n",
    "        p=p+1\n",
    "        n=int(input('Introduce a number:'))\n",
    "    else:\n",
    "        n=int(input('Introduce a number:'))\n",
    "print('There are {} odd numbers in even positions'.format(s))\n",
    "\n",
    "\n",
    "        \n",
    "        \n",
    "        "
   ]
  },
  {
   "cell_type": "markdown",
   "metadata": {},
   "source": [
    "### P3_04.  \n",
    "Write a program that asks the user for a number **num**. Then the program should ask for **num** integers. When the user finishes the program shows as result the smallest of all the numbers, and in which position it was introduced.\n",
    "Example:\n",
    "\n",
    "~~~\n",
    "Introduce how many numbers are you going to introduce: 4 \n",
    "Introduce a number: 3\n",
    "Introduce a number: 6\n",
    "Introduce a number: 2\n",
    "Introduce a number: 8\n",
    "Smallest is 2 and has been introduced in position 2\n",
    "~~~ "
   ]
  },
  {
   "cell_type": "code",
   "execution_count": 8,
   "metadata": {},
   "outputs": [
    {
     "name": "stdout",
     "output_type": "stream",
     "text": [
      "Introduce how many numbers are you going to introduce:4\n",
      "Introduce a number:6\n",
      "Introduce a number:7\n",
      "Introduce a number:-4\n",
      "Introduce a number:9\n",
      "Smallest is -4 and has been introduced in position 3\n"
     ]
    }
   ],
   "source": [
    "# Write here your program\n",
    "num=int(input('Introduce how many numbers are you going to introduce:'))\n",
    "w=1\n",
    "if num>0:\n",
    "    x=int(input('Introduce a number:'))\n",
    "    while w<num:\n",
    "        y=int(input('Introduce a number:'))\n",
    "        if x>y:\n",
    "            x=y\n",
    "            w=w+1\n",
    "            z=w\n",
    "        else:\n",
    "            w=w+1\n",
    "    print('Smallest is {} and has been introduced in position {}'.format(x,z))\n",
    "    \n",
    "    "
   ]
  },
  {
   "cell_type": "markdown",
   "metadata": {},
   "source": [
    "\n",
    "### P3_06.  \n",
    "Write a program that asks the user for a number. Then (if the number is smaller than 10)  the program asks for number until the introduced number is bigger than 10.\n",
    "Example:\n",
    "\n",
    "~~~\n",
    "   Introduce a number: 4  \n",
    "    Not bigger that 10, introduce another one: 7  \n",
    "    Not bigger that 10, introduce another one: 15\n",
    "    Correct, 15 is bigger than 10\n",
    "~~~\n",
    "\n",
    "    "
   ]
  },
  {
   "cell_type": "code",
   "execution_count": 12,
   "metadata": {},
   "outputs": [
    {
     "name": "stdout",
     "output_type": "stream",
     "text": [
      "Introduce a number:12\n",
      "Correct, 12 is bigger than 10\n"
     ]
    }
   ],
   "source": [
    "# Write here your program\n",
    "x=int(input('Introduce a number:'))\n",
    "while x<10:\n",
    "    print('Not bigger that 10')\n",
    "    x=int(input('Introduce another one:'))\n",
    "print('Correct, {} is bigger than 10'.format(x))"
   ]
  },
  {
   "cell_type": "markdown",
   "metadata": {},
   "source": [
    "### P3_07.  \n",
    "Write a program that reads a sequence of characters finishing with ‘0’ and makes an addition following the next rules:\n",
    "• Lower case letters: 1 point.\n",
    "• Upper case letter: 2 points.\n",
    "• For numbers use his own value. (for example ‘5’ is 5). Function **ord(car)** returns the ASCII value of the character stored in the variable **car**. The value of digit ‘0’ in ASCII table is 48.\n",
    "• any other character: 0 points.\n",
    "Example:\n",
    "\n",
    "~~~\n",
    "Introduce a sequence finished by ‘0’:\n",
    "a  \n",
    "P  \n",
    "E  \n",
    ",  \n",
    "4  \n",
    "0\n",
    "The final result is 9\n",
    "~~~ "
   ]
  },
  {
   "cell_type": "code",
   "execution_count": null,
   "metadata": {},
   "outputs": [],
   "source": [
    "# Write here your program\n",
    "print('Introduce a sequence finished by 0:')\n",
    "p=0\n",
    "n=input()\n",
    "while n!='0':\n",
    "    if 48<ord(n)<58:\n",
    "        p=p+ord(n)-48\n",
    "        n=input()\n",
    "    elif n.isupper():\n",
    "        p=p+2\n",
    "        n=input()\n",
    "    elif n.islower():\n",
    "        p=p+1\n",
    "        n=input()\n",
    "print('The final result is {}'.format(p))"
   ]
  },
  {
   "cell_type": "markdown",
   "metadata": {},
   "source": [
    "### P3_08.  \n",
    "Write a program that asks for 2 integers and then asks for number until one of them is out of the range (interval) of both numbers.\n",
    "Example:\n",
    " \n",
    "~~~\n",
    "Lower limit: 3\n",
    "Upper limit: 12\n",
    "Introduce a number: 6  \n",
    "Introduce a number: 12  \n",
    "Introduce a number: 10   \n",
    "Introduce a number: 23  \n",
    "23 is out of the range\n",
    "~~~\n",
    "    "
   ]
  },
  {
   "cell_type": "code",
   "execution_count": null,
   "metadata": {},
   "outputs": [],
   "source": [
    "# Write here your program\n",
    "x=int(input('Lower limit:'))\n",
    "y=int(input('Upper limit:'))\n",
    "z=int(input('Introduce a number:'))\n",
    "while x<=z and y>=z:\n",
    "    z=int(input('Introduce a number:'))\n",
    "print('{} is out of the range'.format(z))\n",
    "  \n",
    "\n",
    "    "
   ]
  },
  {
   "cell_type": "markdown",
   "metadata": {},
   "source": [
    "### *P3_09.  \n",
    "Write a program that adds integers as the user is introducing them thru the keyboard. The program has to stop as soon as the sum is bigger than 2000. The program has to show as result how many number have been introduced, the total sum of all the integers, the minimum and the maximum of the sequence.\n",
    "Example:\n",
    "\n",
    "~~~\n",
    "Introduce an integer sequence: \n",
    "648   \n",
    "823  \n",
    "203   \n",
    "784   \n",
    "You introduced 4 numbers, total sum is 2458 and max and min are 823 & 203\n",
    "~~~\n",
    "\n",
    "    "
   ]
  },
  {
   "cell_type": "code",
   "execution_count": 7,
   "metadata": {},
   "outputs": [
    {
     "name": "stdout",
     "output_type": "stream",
     "text": [
      "Introduce an integer sequence:\n",
      "6\n",
      "7\n",
      "8\n",
      "9\n",
      "23\n",
      "67\n",
      "89\n",
      "678\n",
      "678\n",
      "890\n",
      "You introduced 10 numbers, total sum is 2455 and max and min are 890 and 6, respectively\n"
     ]
    }
   ],
   "source": [
    " #Write here your program\n",
    "print('Introduce an integer sequence:')\n",
    "x=int(input())\n",
    "n=1\n",
    "s=x\n",
    "ma=x\n",
    "mi=x\n",
    "while s<2000:\n",
    "        x=int(input())\n",
    "        n=n+1\n",
    "        s=s+x\n",
    "        if x>ma:\n",
    "            ma=x\n",
    "        if x<mi:\n",
    "            mi=x\n",
    "print('You introduced {} numbers, total sum is {} and max and min are {} and {}, respectively'.format(n,s,ma,mi))\n",
    "    \n",
    "    "
   ]
  },
  {
   "cell_type": "markdown",
   "metadata": {},
   "source": [
    "###### *P3_10.  \n",
    "Write a program that reads 2 positive integers and returns his Greatest Common Divisor.\n",
    "Example:\n",
    "\n",
    "~~~\n",
    "Introduce 2 positive integers: \n",
    "32  \n",
    "24\n",
    "The Greatest Common Divisor is 8\n",
    "~~~\n",
    "    "
   ]
  },
  {
   "cell_type": "code",
   "execution_count": 8,
   "metadata": {},
   "outputs": [
    {
     "name": "stdout",
     "output_type": "stream",
     "text": [
      "Introduce 2 positive integers\n",
      "Introduce the biggest number:14\n",
      "Introduce the smallest number:7\n",
      "The Greatest Common Divisor is 7\n"
     ]
    }
   ],
   "source": [
    "# Write here your program\n",
    "print('Introduce 2 positive integers')\n",
    "n1=int(input('Introduce the biggest number:'))\n",
    "n2=int(input('Introduce the smallest number:'))\n",
    "if n1 % n2 == 0:\n",
    "    print('The Greatest Common Divisor is {}'.format(n2))\n",
    "else:\n",
    "    z = n1 % n2 \n",
    "    while(y > 0):\n",
    "        z = n1%n2\n",
    "        n1 = n2\n",
    "        n2= z\n",
    "    print (\"The Greatest Common Divisor is: \", x)\n",
    "    \n",
    "\n"
   ]
  },
  {
   "cell_type": "markdown",
   "metadata": {},
   "source": [
    "### P3_11.  \n",
    "Write a program that shows the **m** (**m**>=3) first terms of the number sequence created as follows:\n",
    "• Fits term: 1\n",
    "• Second term: 5\n",
    "• Third and next terms: sum of the 2 previous.\n",
    "Example:\n",
    "\n",
    "~~~\n",
    "How many terms do you want to show?: 8  \n",
    "The sequence is:  1  5  6  11  17  28  45  73\n",
    "~~~"
   ]
  },
  {
   "cell_type": "code",
   "execution_count": 26,
   "metadata": {},
   "outputs": [
    {
     "name": "stdout",
     "output_type": "stream",
     "text": [
      "How many terms do you want to show?: 7\n",
      "The sequence : 1 5 6 11 17 28 45 "
     ]
    }
   ],
   "source": [
    "# Write here your program\n",
    "x = int(input(\"How many terms do you want to show?: \"))\n",
    "print (\"The sequence is: 1 5\", end =\" \")\n",
    "y=1\n",
    "z=5\n",
    "for i in range (2 , x):\n",
    "    n3 =y+z\n",
    "    print (n3, end=\" \" )\n",
    "    y=z\n",
    "    z=n3\n"
   ]
  },
  {
   "cell_type": "markdown",
   "metadata": {},
   "source": [
    "### P3_12.  \n",
    "Implement a program that asks for **n** numbers. The programs has to return the biggest difference (absolute value) between 2 consecutive terms.\n",
    "Example:\n",
    "\n",
    "~~~\n",
    "How many terms are you introducing?: 6\n",
    "Introduce the 6 numbers: \n",
    "3  \n",
    "-8     \n",
    "-2  \n",
    "30  \n",
    "7   \n",
    "6\n",
    "The biggest difference between 2 consecutive numbers is 32\n",
    "~~~"
   ]
  },
  {
   "cell_type": "code",
   "execution_count": 9,
   "metadata": {},
   "outputs": [
    {
     "name": "stdout",
     "output_type": "stream",
     "text": [
      "How many terms are you introducing?:4\n",
      "Introduce the 4 numbers:\n",
      "89\n",
      "76\n",
      "5\n",
      "897\n",
      "The biggest diference between 2 consecutive numbers is 892\n"
     ]
    }
   ],
   "source": [
    "# Write here your program\n",
    "x=int(input('How many terms are you introducing?:'))\n",
    "print('Introduce the {} numbers:'.format(x))\n",
    "y=int(input())\n",
    "z=int(input())\n",
    "d=abs(z-y)\n",
    "y=z\n",
    "\n",
    "for i in range (2,x):\n",
    "    z=int(input())\n",
    "    if d<abs(z-y):\n",
    "        d=abs(z-y)\n",
    "    y=z\n",
    "    \n",
    "print('The biggest diference between 2 consecutive numbers is {}'.format(d))\n",
    "    "
   ]
  },
  {
   "cell_type": "markdown",
   "metadata": {},
   "source": [
    "### *P3_13.  \n",
    "Write a program that reads a sequence of characters finishing by ‘.’ and returns how many times the ‘a7’ is inside the sequence.\n",
    "Example:\n",
    "\n",
    "~~~\n",
    "Introduce a character sequence finishing by ‘.’:\n",
    "R  \n",
    "t  \n",
    "5  \n",
    "4  \n",
    "a  \n",
    "a  \n",
    "7  \n",
    "A  \n",
    "a  \n",
    "7  \n",
    "2\n",
    ".\n",
    "Sequence a7 is 2 times inside your sequence\n",
    "~~~"
   ]
  },
  {
   "cell_type": "code",
   "execution_count": 1,
   "metadata": {},
   "outputs": [
    {
     "name": "stdout",
     "output_type": "stream",
     "text": [
      "Introduce a character sequence finishing by . :\n",
      "7\n",
      "a\n",
      "7\n",
      "89\n",
      "45\n",
      ".\n",
      "Sequence a7 is 1 times inside your sequence\n"
     ]
    }
   ],
   "source": [
    "# Write here your program\n",
    "print('Introduce a character sequence finishing by . :')\n",
    "x=input()\n",
    "z=0\n",
    "while x!='.':\n",
    "    x=input()\n",
    "    while x=='a':\n",
    "        x=input()\n",
    "        if x=='7':\n",
    "            z=z+1\n",
    "print('Sequence a7 is {} times inside your sequence'.format(z))"
   ]
  },
  {
   "cell_type": "markdown",
   "metadata": {},
   "source": [
    "### *P3_14.  \n",
    "Write a program that asks for a number and returns his prime factors.\n",
    "Example:\n",
    "\n",
    "~~~\n",
    "Introduce a number: 90\n",
    "prime factors are 2  3  3  5\n",
    "~~~"
   ]
  },
  {
   "cell_type": "code",
   "execution_count": 8,
   "metadata": {},
   "outputs": [
    {
     "name": "stdout",
     "output_type": "stream",
     "text": [
      "Introduce a number:30\n",
      "Prime factors are :  2  3  5  "
     ]
    }
   ],
   "source": [
    "# Write here your program\n",
    "x=int(input('Introduce a number:'))\n",
    "print(\"Prime factors are :\", end=\"  \")\n",
    "for i in range(2,x+1):\n",
    "    while x%i==0:\n",
    "        x=x//i\n",
    "        print(i, end=\"  \")\n",
    "        \n",
    "        \n",
    "    "
   ]
  },
  {
   "cell_type": "markdown",
   "metadata": {},
   "source": [
    "### *P3_15.  \n",
    "Write a program that asks for a number **n**. Then he reads **n** integers and has to say if they were or not in an increasing order.\n",
    "Example:\n",
    "\n",
    "~~~\n",
    "Introduce the n number: 6  \n",
    "Introduce number: 3  \n",
    "Introduce number: 7  \n",
    "Introduce number: 12  \n",
    "Introduce number: 18  \n",
    "Introduce number: 9 \n",
    "Introduce number: 21 \n",
    "The sequence is NOT in increasing order\n",
    "~~~"
   ]
  },
  {
   "cell_type": "code",
   "execution_count": 3,
   "metadata": {},
   "outputs": [
    {
     "name": "stdout",
     "output_type": "stream",
     "text": [
      "Introduce the n number: 3\n",
      "Introduce number: 5\n",
      "Introduce number: 6\n",
      "Introduce number: 7\n",
      "The sequence is in increasing order: \n"
     ]
    }
   ],
   "source": [
    "x=int(input(\"Introduce the n number: \"))\n",
    "n1=int(input(\"Introduce number: \"))\n",
    "r=1\n",
    "boolean=True\n",
    "while r<x and  boolean==True:\n",
    "    n2=int(input(\"Introduce number: \"))\n",
    "    if n2<n1:\n",
    "        boolean=False\n",
    "    n1=n2\n",
    "    r=r+1\n",
    "if boolean==True:\n",
    "    print (\"The sequence is in increasing order: \")\n",
    "else:\n",
    "    print (\"The sequence is NOT in increasing order: \")\n",
    "\n",
    "    \n",
    "    \n",
    "            \n",
    "    \n",
    "   \n",
    "    \n",
    "    \n"
   ]
  },
  {
   "cell_type": "markdown",
   "metadata": {},
   "source": [
    "4\n",
    "#### P3_16.  \n",
    "Write a program that reads an integer **n**  and displays on the screen the following drawing.\n",
    "Examples: \n",
    "~~~\n",
    "Introduce an integer: 4\t        Introduce an integer: 5\n",
    "\n",
    "    1                               1  \n",
    "    1 2                             1 2  \n",
    "    1 2 3                           1 2 3  \n",
    "\t1 2 3 4                         1 2 3 4  \n",
    "\t                                1 2 3 4 5   \n",
    "~~~"
   ]
  },
  {
   "cell_type": "code",
   "execution_count": 6,
   "metadata": {},
   "outputs": [
    {
     "name": "stdout",
     "output_type": "stream",
     "text": [
      "Introduce an integer:3\n",
      "1 \n",
      "1 2 \n",
      "1 2 3 \n"
     ]
    }
   ],
   "source": [
    "# Write here your program\n",
    "x=int(input('Introduce an integer:'))\n",
    "for i in range (x):\n",
    "    for j in range (i+1):\n",
    "        print(j+1, end =\" \")\n",
    "    print()"
   ]
  },
  {
   "cell_type": "markdown",
   "metadata": {},
   "source": [
    "### *P3_17.  \n",
    "Write a program that reads an integer **n** and displays on the screen the following drawing.\n",
    "Examples: \n",
    "~~~\n",
    " Introduce an integer: 4\t      Introduce an integer: 5\n",
    "\n",
    "    1 2 3 4                         1 2 3 4 5    \n",
    "    2 3 4 4                         2 3 4 5 5  \n",
    "    3 4 4 4                         3 4 5 5 5  \n",
    "    4 4 4 4                         4 5 5 5 5  \n",
    "                                    5 5 5 5 5  \n",
    "~~~"
   ]
  },
  {
   "cell_type": "code",
   "execution_count": null,
   "metadata": {
    "collapsed": true
   },
   "outputs": [],
   "source": [
    "# Write here your program\n",
    "x=int(input(\"Introduce an integer: \"))\n",
    "for i in range (x):\n",
    "    for j in range (x-i):\n",
    "        print(j+i+1, end =\" \")\n",
    "    for j in range(i):\n",
    "        print(x, end =\" \")\n",
    "    print()\n"
   ]
  },
  {
   "cell_type": "markdown",
   "metadata": {},
   "source": [
    "### P3_18.  \n",
    "Write a program that reads a sequence of integers finished by 0 and returns the number of even numbers it contains after the first even number (the last 0 not included)\n",
    "Example:\n",
    "\n",
    "~~~\n",
    "Introduce an integer sequence:\n",
    "6  \n",
    "2  \n",
    "2  \n",
    "34  \n",
    "1  \n",
    "7  \n",
    "6  \n",
    "19  \n",
    "0\n",
    "There is 1 even number after the first odd number\n",
    "~~~\n",
    "You can improve the program with the right messages for any result: \n",
    "~~~\n",
    "No even numbers after the first odd number\n",
    "There is one even number after the first odd number\n",
    "There are 4 even numbers after the first odd number  \n",
    "~~~"
   ]
  },
  {
   "cell_type": "code",
   "execution_count": 2,
   "metadata": {},
   "outputs": [
    {
     "name": "stdout",
     "output_type": "stream",
     "text": [
      "Introduce an integer sequence:\n",
      "2\n",
      "4\n",
      "3\n",
      "8\n",
      "3\n",
      "6\n",
      "0\n",
      "There are 2 even numbers after the first odd number\n"
     ]
    }
   ],
   "source": [
    "# Write here your program\n",
    "print('Introduce an integer sequence:')\n",
    "x=int(input())\n",
    "p=0\n",
    "while x!=0 and x%2==0:\n",
    "    x=int(input())\n",
    "if x!=0:\n",
    "    x=int(input())\n",
    "    p=0\n",
    "    while x!=0:\n",
    "        x=int(input())\n",
    "        if x%2==0:\n",
    "            p=p+1\n",
    "print('There are {} even numbers after the first odd number'.format(p))"
   ]
  },
  {
   "cell_type": "markdown",
   "metadata": {},
   "source": [
    "## *P3_19.  \n",
    "Write a program that reads a sequence of **n** integers and says how many elements of the sequence are bigger than his previous one (in the sequence)\n",
    "Example:\n",
    " \n",
    "~~~\n",
    "Introduce an integer sequence:\n",
    "6  \n",
    "2  \n",
    "2  \n",
    "34  \n",
    "1  \n",
    "7  \n",
    "6  \n",
    "19  \n",
    "There are 3 numbers bigger than his previous one\n",
    "~~~\n",
    "You can improve the program with the right messages for any result:\n",
    "~~~\n",
    "No number is bigger than his previous one \n",
    "~~~"
   ]
  },
  {
   "cell_type": "code",
   "execution_count": null,
   "metadata": {},
   "outputs": [],
   "source": [
    "# Write here your program\n",
    "print(\"Introduce an integer sequence (2 or more): \")\n",
    "x=int(input())\n",
    "y=int(input())\n",
    "p=0\n",
    "\n",
    "while x!=0:\n",
    "    if y>x:\n",
    "        p=p+1\n",
    "        x=y\n",
    "        y=int(input())\n",
    "    \n",
    "print (\"There are {} numbers bigger than his previous one\".format(counter))"
   ]
  },
  {
   "cell_type": "markdown",
   "metadata": {},
   "source": [
    "## \n",
    "9\n",
    "\n",
    "### P3_20.  \n",
    "Write a program that reads a sequence of **n** integers and says how many positive and negative numbers are within the sequence.\n",
    "Example:\n",
    "\n",
    "~~~\n",
    "How many numbers do you want to read?: 5\n",
    "6  \n",
    "-2  \n",
    "2  \n",
    "-34  \n",
    "1  \n",
    "There are 2 negative and  3 positive numbers\n",
    "~~~"
   ]
  },
  {
   "cell_type": "code",
   "execution_count": 1,
   "metadata": {},
   "outputs": [
    {
     "name": "stdout",
     "output_type": "stream",
     "text": [
      "How many numbers do you want to read?:4\n",
      "3\n",
      "-9\n",
      "8\n",
      "2\n",
      "There are 1 negative and 3 positive numbers:\n"
     ]
    }
   ],
   "source": [
    "# Write here your program\n",
    "x=int(input('How many numbers do you want to read?:'))\n",
    "p=0\n",
    "n=0\n",
    "for i in range(x):\n",
    "    x=int(input())\n",
    "    if x>=0:\n",
    "        p=p+1\n",
    "    else:\n",
    "        n=n+1\n",
    "print('There are {} negative and {} positive numbers:'.format(n,p))\n",
    "        "
   ]
  },
  {
   "cell_type": "code",
   "execution_count": null,
   "metadata": {},
   "outputs": [],
   "source": []
  },
  {
   "cell_type": "code",
   "execution_count": null,
   "metadata": {},
   "outputs": [],
   "source": []
  }
 ],
 "metadata": {
  "kernelspec": {
   "display_name": "Python 3",
   "language": "python",
   "name": "python3"
  },
  "language_info": {
   "codemirror_mode": {
    "name": "ipython",
    "version": 3
   },
   "file_extension": ".py",
   "mimetype": "text/x-python",
   "name": "python",
   "nbconvert_exporter": "python",
   "pygments_lexer": "ipython3",
   "version": "3.8.8"
  }
 },
 "nbformat": 4,
 "nbformat_minor": 2
}
