{
 "cells": [
  {
   "cell_type": "markdown",
   "metadata": {},
   "source": [
    "# Lab 04. Strings."
   ]
  },
  {
   "cell_type": "markdown",
   "metadata": {},
   "source": [
    "# Índice de ejercicios\n",
    "\n",
    "[P4_01. Count uppercase letters](#P4_01.)  \n",
    "[P4_02. Search for character](#P4_02.)  \n",
    "[P4_03. Words ending in s](#P4_03.)  \n",
    "[P4_04. Finding digits sequences](#P4_04.)   \n",
    "[P4_05. Some digit](#P4_05.)  \n",
    "[P4_06. All digits](#P4_06.)  \n",
    "[P4_07. Replace digits](#P4_07.)   \n",
    "[P4_08. Sequences of + -](#P4_08.)   \n",
    "[P4_09. Palindrome](#P4_09.)  \n",
    "[P4_10. Letter triangle](#P4_10.)    \n",
    "[P4_11. Mayúsculas primero](#P4_11.)  \n"
   ]
  },
  {
   "cell_type": "markdown",
   "metadata": {},
   "source": [
    "### P4_01.  \n",
    "Write a program that reads one string from terminal, counts the number of characters and says how many of them are uppercase.  \n",
    "\n",
    "Example:  \n",
    "~~~\n",
    "Input your string: My hoUse is VerY BiG \n",
    "Your sentence has 20 characters, 8 of them are uppercase.\n",
    "~~~\n"
   ]
  },
  {
   "cell_type": "code",
   "execution_count": 6,
   "metadata": {},
   "outputs": [
    {
     "name": "stdout",
     "output_type": "stream",
     "text": [
      "Input your string:My hoUse is VerY BiG \n",
      "Your sentence has 21 characters, 6 of them are uppercase.\n"
     ]
    }
   ],
   "source": [
    "x=str(input(\"Input your string:\"))\n",
    "ch=0\n",
    "for i in range (len(x)):\n",
    "    if x[i].isupper():\n",
    "        ch=ch+1\n",
    "print(\"Your sentence has {} characters,{} of them are uppercase.\".format(len(x),ch))"
   ]
  },
  {
   "cell_type": "markdown",
   "metadata": {},
   "source": [
    "### P4_02.  \n",
    "Write a program that reads a sentence from terminal and then asks for a character. The program will tell us how many times the character appears in the sentence (if any) and in which position it appears for first time. \n",
    "Example:  \n",
    "~~~\n",
    "\n",
    "Input your sentence: We are travelling to Rome this summer. \n",
    "Input charater to check: e\n",
    "There are 5 'e' in your sentence, first appearing in position 2\n",
    "~~~\n"
   ]
  },
  {
   "cell_type": "code",
   "execution_count": 13,
   "metadata": {},
   "outputs": [
    {
     "name": "stdout",
     "output_type": "stream",
     "text": [
      "Input your sentence:We are travelling to Rome this summer.\n",
      "Input your character to check:e\n",
      "There are 5 e in your sentence, first appearing in position 2\n"
     ]
    }
   ],
   "source": [
    "x=str(input(\"Input your sentence:\"))\n",
    "y=input(\"Input your character to check:\")\n",
    "c=1\n",
    "p=0\n",
    "for i in range (len(x)):\n",
    "    if y == x[i]:\n",
    "        p=p+1\n",
    "        if p==1:\n",
    "            c=i+1\n",
    "print(\"There are {} {} in your sentence, first appearing in position {}\".format(p,y,c))\n",
    "\n"
   ]
  },
  {
   "cell_type": "markdown",
   "metadata": {},
   "source": [
    "### P4_03.  \n",
    "Write a program that reads a sentence from terminal and counts how many words end in ‘s’.  \n",
    "Example:  \n",
    "~~~\n",
    "Input your sentence: This is a very simple exercise.  \n",
    "There are two words ending in 's'\n",
    "~~~"
   ]
  },
  {
   "cell_type": "code",
   "execution_count": 2,
   "metadata": {},
   "outputs": [
    {
     "name": "stdout",
     "output_type": "stream",
     "text": [
      "Input your sentence:This is a very simple exercise.  \n",
      "There are 2 words ending in s\n"
     ]
    }
   ],
   "source": [
    "x=str(input(\"Input your sentence:\"))\n",
    "c=0\n",
    "for i in range(len(x)):\n",
    "    if x[i-1]!=' ':\n",
    "        if x[i]=='s' and x[i+1]==' ':\n",
    "            c=c+1\n",
    "print(\"There are {} words ending in s\".format(c))\n",
    "\n"
   ]
  },
  {
   "cell_type": "markdown",
   "metadata": {},
   "source": [
    "### P4_04.  \n",
    "Write a program that reads one string and returns the length of the longest running subsequence of digits.  \n",
    "Example:  \n",
    "~~~\n",
    "Input your string: efg316er4li98bdtr421p43  \n",
    "The longest all digits subsequence is of length 3 (..316..)\n",
    "~~~\n",
    "\n",
    "    "
   ]
  },
  {
   "cell_type": "code",
   "execution_count": 8,
   "metadata": {},
   "outputs": [
    {
     "name": "stdout",
     "output_type": "stream",
     "text": [
      "Input your string:efg316er4li98bdtr421p43 \n",
      "The longest all digits subsequence is of length 3 (..316..)\n"
     ]
    }
   ],
   "source": [
    "x=str(input(\"Input your string:\"))\n",
    "l=0\n",
    "L=0\n",
    "s=0\n",
    "S=0\n",
    "for i in range(len(x)):\n",
    "    if 48<=ord(x[i])<=57:\n",
    "        s=10*s+(ord(x[i])-48)\n",
    "        l=l+1\n",
    "    else:\n",
    "        l=0\n",
    "        s=0\n",
    "    if l>L:\n",
    "        L=l\n",
    "        S=s\n",
    "        \n",
    "        \n",
    "        \n",
    "print(\"The longest all digits subsequence is of length {} (..{}..)\".format(L,S))\n",
    "        \n",
    "        \n",
    "    \n"
   ]
  },
  {
   "cell_type": "markdown",
   "metadata": {},
   "source": [
    "### P4_05.  \n",
    "Write a program that reads one string and tell us if the string contains any digit..\n",
    "~~~\n",
    "Input your string: efg316er4li98bdtr421p43  \n",
    "Your string has at least one digit\n",
    "~~~\n",
    "\n",
    "    "
   ]
  },
  {
   "cell_type": "code",
   "execution_count": 6,
   "metadata": {},
   "outputs": [
    {
     "name": "stdout",
     "output_type": "stream",
     "text": [
      "Input your string:efg316er4li98bdtr421p43\n",
      "Your string has at least 1 digit\n"
     ]
    }
   ],
   "source": [
    "x=str(input(\"Input your string:\"))\n",
    "c=0\n",
    "for i in range (len(x)):\n",
    "    if 48<=ord(x[i])<=57:\n",
    "        c=1\n",
    "print(\"Your string has at least {} digit\".format(c))\n",
    "        \n"
   ]
  },
  {
   "cell_type": "markdown",
   "metadata": {},
   "source": [
    "### P4_06.  \n",
    "Write a program that reads one string and tell us if ALL THE characters are digits.\n",
    "~~~\n",
    "Input your string: efg316er4li98bdtr421p43  \n",
    "Not all your characters are digits\n",
    "~~~\n",
    "\n",
    "    "
   ]
  },
  {
   "cell_type": "code",
   "execution_count": 15,
   "metadata": {},
   "outputs": [
    {
     "name": "stdout",
     "output_type": "stream",
     "text": [
      "Input your string:7888888888888\n",
      "All your characters are digits\n"
     ]
    }
   ],
   "source": [
    "x=str(input(\"Input your string:\"))\n",
    "b=True\n",
    "for i in range(len(x)):\n",
    "    if not 48<=ord(x[i])<=57:\n",
    "        b=False\n",
    "if b == True:\n",
    "    print(\"All your characters are digits\")\n",
    "else:\n",
    "    print(\"Not all your characters are digits\")\n"
   ]
  },
  {
   "cell_type": "markdown",
   "metadata": {},
   "source": [
    "### P4_07.  \n",
    "Write a program that reads one string and returns a new string where all digits have been replaced by yphens.\n",
    "~~~\n",
    "Input your string: efg316er4li98bdtr421p43  \n",
    "The new string is: efg---er-li--bdtr---p--\n",
    "~~~\n",
    "\n",
    "    "
   ]
  },
  {
   "cell_type": "code",
   "execution_count": 18,
   "metadata": {},
   "outputs": [
    {
     "name": "stdout",
     "output_type": "stream",
     "text": [
      "Input your string:efg316er4li98bdtr421p43  \n",
      "e f g - - - e r - l i - - b d t r - - - p - -     "
     ]
    }
   ],
   "source": [
    "x=str(input(\"Input your string:\"))\n",
    "for i in range(len(x)):\n",
    "        if not 48<=ord(x[i])<=57:\n",
    "            print(x[i],end=\" \")\n",
    "        else:\n",
    "            print('-',end=\" \")\n"
   ]
  },
  {
   "cell_type": "markdown",
   "metadata": {},
   "source": [
    "### P4_08.  \n",
    "Write a program that reads a sequence of ‘+’ and ‘-‘ and returns the length of every subsequence of same element\n",
    "Example: \n",
    "~~~\n",
    "Input your string: +++-++----  \n",
    "3 1 2 4\n",
    "~~~\n"
   ]
  },
  {
   "cell_type": "code",
   "execution_count": 2,
   "metadata": {},
   "outputs": [
    {
     "name": "stdout",
     "output_type": "stream",
     "text": [
      "Input your string:+-+-+--++++\n",
      "1 1 1 1 1 2 "
     ]
    },
    {
     "ename": "IndexError",
     "evalue": "string index out of range",
     "output_type": "error",
     "traceback": [
      "\u001b[1;31m---------------------------------------------------------------------------\u001b[0m",
      "\u001b[1;31mIndexError\u001b[0m                                Traceback (most recent call last)",
      "\u001b[1;32m<ipython-input-2-081e86f08675>\u001b[0m in \u001b[0;36m<module>\u001b[1;34m\u001b[0m\n\u001b[0;32m      4\u001b[0m \u001b[1;32mwhile\u001b[0m \u001b[0mi\u001b[0m\u001b[1;33m<\u001b[0m\u001b[0mlen\u001b[0m\u001b[1;33m(\u001b[0m\u001b[0mx\u001b[0m\u001b[1;33m)\u001b[0m\u001b[1;33m:\u001b[0m\u001b[1;33m\u001b[0m\u001b[1;33m\u001b[0m\u001b[0m\n\u001b[0;32m      5\u001b[0m     \u001b[1;32mif\u001b[0m \u001b[0mx\u001b[0m\u001b[1;33m[\u001b[0m\u001b[0mi\u001b[0m\u001b[1;33m]\u001b[0m\u001b[1;33m==\u001b[0m\u001b[1;34m'+'\u001b[0m\u001b[1;33m:\u001b[0m\u001b[1;33m\u001b[0m\u001b[1;33m\u001b[0m\u001b[0m\n\u001b[1;32m----> 6\u001b[1;33m         \u001b[1;32mwhile\u001b[0m \u001b[1;33m(\u001b[0m\u001b[0mx\u001b[0m\u001b[1;33m[\u001b[0m\u001b[0mi\u001b[0m\u001b[1;33m]\u001b[0m\u001b[1;33m==\u001b[0m\u001b[1;34m'+'\u001b[0m \u001b[1;32mand\u001b[0m \u001b[0mi\u001b[0m\u001b[1;33m<\u001b[0m\u001b[0mlen\u001b[0m\u001b[1;33m(\u001b[0m\u001b[0mx\u001b[0m\u001b[1;33m)\u001b[0m\u001b[1;33m)\u001b[0m\u001b[1;33m:\u001b[0m\u001b[1;33m\u001b[0m\u001b[1;33m\u001b[0m\u001b[0m\n\u001b[0m\u001b[0;32m      7\u001b[0m             \u001b[0my\u001b[0m\u001b[1;33m=\u001b[0m\u001b[0my\u001b[0m\u001b[1;33m+\u001b[0m\u001b[1;36m1\u001b[0m\u001b[1;33m\u001b[0m\u001b[1;33m\u001b[0m\u001b[0m\n\u001b[0;32m      8\u001b[0m             \u001b[0mi\u001b[0m\u001b[1;33m=\u001b[0m\u001b[0mi\u001b[0m\u001b[1;33m+\u001b[0m\u001b[1;36m1\u001b[0m\u001b[1;33m\u001b[0m\u001b[1;33m\u001b[0m\u001b[0m\n",
      "\u001b[1;31mIndexError\u001b[0m: string index out of range"
     ]
    }
   ],
   "source": [
    "x=str(input(\"Input your string:\"))\n",
    "y=0\n",
    "i=0\n",
    "while i<len(x):\n",
    "    if x[i]=='+':\n",
    "        while (x[i]=='+' and i<len(x)):\n",
    "            y=y+1\n",
    "            i=i+1\n",
    "        print(y,end=\" \")\n",
    "        y=0\n",
    "    elif x[i]=='-':\n",
    "        while (x[i]=='-' and i<len(x)):\n",
    "            y=y+1\n",
    "            i=i+1\n",
    "        print(y,end= \" \")\n",
    "        y=0\n",
    "\n",
    "    "
   ]
  },
  {
   "cell_type": "markdown",
   "metadata": {},
   "source": [
    "### P4_09.  \n",
    "Write a program that reads one string and checks if it is a palindrome (a palindrome is a sequence of characters which reads the same backward as forward, such as 'madam' or 'racecar').  \n",
    "Example:  \n",
    "~~~\n",
    "Input your string: madam\n",
    "Your string is a palindrome\n",
    "~~~\n",
    "Improve your code to work with palindromic sentences:\n",
    "~~~\n",
    "Was it a car or a cat I saw\n",
    "Your sentence is palindromic\n",
    "~~~"
   ]
  },
  {
   "cell_type": "code",
   "execution_count": 4,
   "metadata": {},
   "outputs": [
    {
     "name": "stdout",
     "output_type": "stream",
     "text": [
      "Input your string:was it a car or a cat i saw\n",
      "Your string is a palindrome\n"
     ]
    }
   ],
   "source": [
    "x=str(input(\"Input your string:\"))\n",
    "x=x.lower()\n",
    "s=''\n",
    "for i in range(len(x)):\n",
    "    if x[i]!=' ':\n",
    "        s=s+x[i]\n",
    "a = True\n",
    "i=0\n",
    "j=len(x)-1\n",
    "while (0<=i<len(s) and 0<=j<len(s) and a==True):\n",
    "        if x[i]==x[j]:\n",
    "            a = True\n",
    "        else:\n",
    "            a = False\n",
    "        i=i+1\n",
    "        j=j-1\n",
    "\n",
    "            \n",
    "if a == True:\n",
    "    print(\"Your string is a palindrome\")\n",
    "if a == False:\n",
    "    print(\"Your string is not a palindrome\")\n",
    "        \n",
    "        \n",
    "    \n"
   ]
  },
  {
   "cell_type": "markdown",
   "metadata": {},
   "source": [
    "### P4_10.  \n",
    "Write a program that reads a word and shows something like the examples below. (Hint: You can use **len()** to determine the number of letters).\n",
    "\n",
    "Example:  \n",
    "~~~\n",
    "Input your string: TARAZONA\n",
    "T  A  R  A  Z  O  N  A       \n",
    "   A  R  A  Z  O  N     \n",
    "      R  A  Z  O    \n",
    "         A  Z    \n",
    "\n",
    "Input your string: CADIZ\n",
    "C  A  D  I  Z  \n",
    "   A  D  I\t\n",
    "      D\t\t\n",
    "~~~\n"
   ]
  },
  {
   "cell_type": "code",
   "execution_count": 29,
   "metadata": {},
   "outputs": [
    {
     "name": "stdout",
     "output_type": "stream",
     "text": [
      "Input your string:zCHnsTrcA \n",
      "Z C H N S T R C A   \n",
      "  C H N S T R C A \n",
      "    H N S T R C \n",
      "      N S T R \n",
      "        S T \n",
      "          \n"
     ]
    }
   ],
   "source": [
    "x=str(input(\"Input your string:\"))\n",
    "x=x.upper()\n",
    "if len(x)//2 == 0:\n",
    "    y=len(x)//2\n",
    "else:\n",
    "    y=len(x)//2+1\n",
    "    \n",
    "for i in range(0,y):  \n",
    "        for j in range (0,i):\n",
    "            print (\" \", end = \" \")\n",
    "        for j in range (i,len(x)-i): \n",
    "            print (x[j], end = \" \")\n",
    "        print(\"\")\n",
    "        \n",
    "        \n",
    "\n",
    "\n",
    "        \n",
    "        \n",
    "        \n"
   ]
  },
  {
   "cell_type": "markdown",
   "metadata": {},
   "source": [
    "### P4_11.  \n",
    "Write a program that reads one string **c** and builds a new string **s** with the same characters than **c** but ordered in a way that uppercase letters go first  \n",
    "Example: \n",
    "\n",
    "~~~\n",
    "Input your string: zCHnsTrcA   \n",
    "Your new string is: CHTAznsrc  \n",
    "~~~\n",
    "\n"
   ]
  },
  {
   "cell_type": "code",
   "execution_count": 26,
   "metadata": {},
   "outputs": [
    {
     "name": "stdout",
     "output_type": "stream",
     "text": [
      "Input your string:zCHnsTrcA \n",
      "CHTAznsrc"
     ]
    }
   ],
   "source": [
    "c=str(input(\"Input your string:\"))\n",
    "for i in range(len(c)):\n",
    "    if 65<=ord(c[i])<=90:\n",
    "        print(c[i], end= \"\")\n",
    "\n",
    "for i in range(len(c)):\n",
    "    if 97<=ord(c[i])<=122:\n",
    "        print(c[i],end= \"\")\n",
    "        \n",
    "\n",
    "        \n",
    "        "
   ]
  },
  {
   "cell_type": "code",
   "execution_count": null,
   "metadata": {},
   "outputs": [],
   "source": []
  },
  {
   "cell_type": "code",
   "execution_count": null,
   "metadata": {},
   "outputs": [],
   "source": []
  }
 ],
 "metadata": {
  "kernelspec": {
   "display_name": "Python 3",
   "language": "python",
   "name": "python3"
  },
  "language_info": {
   "codemirror_mode": {
    "name": "ipython",
    "version": 3
   },
   "file_extension": ".py",
   "mimetype": "text/x-python",
   "name": "python",
   "nbconvert_exporter": "python",
   "pygments_lexer": "ipython3",
   "version": "3.8.8"
  }
 },
 "nbformat": 4,
 "nbformat_minor": 2
}
