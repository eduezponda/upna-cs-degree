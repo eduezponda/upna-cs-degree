{
 "cells": [
  {
   "cell_type": "markdown",
   "metadata": {},
   "source": [
    "# Problema del 8 puzzle. Representación en el espacio de estados"
   ]
  },
  {
   "cell_type": "markdown",
   "metadata": {},
   "source": [
    "En esta práctica vamos a resolver el problema del 8 puzzle. El problema del 8 puzzle es una simplificación del juego del **taken**. En una caja con 9 casillas disponemos de 8 fichas y tenemos que moverlas aprovechando la casilla vacia hasta conseguir la disposición final. \n",
    "![8 puzzle](puzzle8b.jpg)\n",
    "Vamos a representar el juego en el espacio de estados y utilizar el algoritmo de búsqueda en anchura para que un agente inteligente obtenga la secuencia de movimientos para colocar las fichas en la posición final partiendo desde cualquier posición inicial."
   ]
  },
  {
   "cell_type": "markdown",
   "metadata": {},
   "source": [
    "### Definición del estado"
   ]
  },
  {
   "cell_type": "markdown",
   "metadata": {},
   "source": [
    "Primero define el estado y como lo vas a representar en Python. Crea dos estados, el estado inicial y el estado final:"
   ]
  },
  {
   "cell_type": "code",
   "execution_count": 1,
   "metadata": {},
   "outputs": [],
   "source": [
    "estado_final = [0,1,2,3,4,5,6,7,8]\n",
    "estado_inicial = [8,0,6,5,4,3,2,1]"
   ]
  },
  {
   "cell_type": "markdown",
   "metadata": {},
   "source": [
    "Como vamos a resolver el problema mediante un árbol de búsqueda utilizaremos una clase muy sencilla para crear objetos nodo. Tienen únicamente dos atributos, el estado, tal y como lo has definido y una lista que se llama camino en la que guardaremos las acciones que el agente va aplicando al estado."
   ]
  },
  {
   "cell_type": "code",
   "execution_count": 2,
   "metadata": {},
   "outputs": [],
   "source": [
    "class nodo:\n",
    "    def __init__(self, estado, camino):\n",
    "        self.estado = estado\n",
    "        self.camino = camino"
   ]
  },
  {
   "cell_type": "markdown",
   "metadata": {},
   "source": [
    "Crea un nodo con el estado inicial:"
   ]
  },
  {
   "cell_type": "code",
   "execution_count": 3,
   "metadata": {},
   "outputs": [
    {
     "name": "stdout",
     "output_type": "stream",
     "text": [
      "[8, 0, 6, 5, 4, 3, 2, 1]\n"
     ]
    }
   ],
   "source": [
    "inicial = nodo([8,0,6,5,4,3,2,1],[0,0,0,0])\n",
    "print(inicial.estado)"
   ]
  },
  {
   "cell_type": "markdown",
   "metadata": {},
   "source": [
    "Para comprobar si el estado de un nodo es el estado final del tablero, tienes que crear una función que tenga como parámetro un **nodo** y devuelva **True** si el estado del nodo es igual al **estado final** o **False** en caso contrario."
   ]
  },
  {
   "cell_type": "code",
   "execution_count": 4,
   "metadata": {},
   "outputs": [],
   "source": [
    "def esfinal(nodo):\n",
    "    final = [1,2,3,4,5,6,7,8,0]\n",
    "    for i in range(len(nodo.estado)):\n",
    "        if nodo.estado[i] !=  final[i]:\n",
    "            return False\n",
    "    return True"
   ]
  },
  {
   "cell_type": "markdown",
   "metadata": {},
   "source": [
    "En la respresentación en el espacio de estados las acciones son el conjunto de operaciones que se pueden llevar a cabo para cambiar el estado del problema. Define una serie de funciones, una por cada acción. Todas las funciones deben tener como parámetro de entrada un nodo y deben devolver otro nodo con el estado modificado. Crea todas las funciones extra que te resulten de ayuda para las funciones de las acciones.\n",
    "Como Python copia los objetos por referencia, utiliza la función deepcopy para crear una copia del nodo y modificar el estado del nuevo nodo.\n",
    "En todas las acciones añade `nuevonodo.camino.append(accion)`. Esta sentencia nos sirve para almacenar la acción que acabamos de aplicar al estado en la lista camino del nodo y nos servirá pasar saber qué acciones se han aplicado al estado final para llegar hasta el estado del nodo."
   ]
  },
  {
   "cell_type": "code",
   "execution_count": 5,
   "metadata": {},
   "outputs": [
    {
     "name": "stdout",
     "output_type": "stream",
     "text": [
      "3   1   2   \n",
      "5   0   4   \n",
      "6   7   8   \n",
      "\n",
      "3   1   2   \n",
      "5   4   0   \n",
      "6   7   8   \n"
     ]
    }
   ],
   "source": [
    "#Ejemplo básico de acción\n",
    "import copy\n",
    "def moverArriba(nodo):\n",
    "    nuevonodo = copy.deepcopy(nodo)\n",
    "    accion = [1, 0, 0, 0]\n",
    "    nuevonodo.camino.append(accion)\n",
    "    \n",
    "    for i in range(len(nuevonodo.estado)): ##guardas en la i la posición del 0\n",
    "        if nuevonodo.estado[i] == 0:\n",
    "            break\n",
    "    aux = nuevonodo.estado[i-3]\n",
    "    nuevonodo.estado[i-3] = nuevonodo.estado[i]\n",
    "    nuevonodo.estado[i] = aux\n",
    "    \n",
    "    return nuevonodo\n",
    "    \n",
    "def moverAbajo(nodo):\n",
    "    nuevonodo = copy.deepcopy(nodo)\n",
    "    accion = [0, 1, 0, 0]\n",
    "    nuevonodo.camino.append(accion)\n",
    "    \n",
    "    for i in range(len(nuevonodo.estado)): ##guardas en la i la posición del 0\n",
    "        if nuevonodo.estado[i] == 0:\n",
    "            break\n",
    "    aux = nuevonodo.estado[i+3]\n",
    "    nuevonodo.estado[i+3] = nuevonodo.estado[i]\n",
    "    nuevonodo.estado[i] = aux\n",
    "    \n",
    "    return nuevonodo\n",
    "    \n",
    "def moverDerecha(nodo):\n",
    "    nuevonodo = copy.deepcopy(nodo)\n",
    "    accion = [0, 0, 0, 1]\n",
    "    nuevonodo.camino.append(accion)\n",
    "    \n",
    "    for i in range(len(nuevonodo.estado)): ##guardas en la i la posición del 0\n",
    "        if nuevonodo.estado[i] == 0:\n",
    "            break\n",
    "    aux = nuevonodo.estado[i+1]\n",
    "    nuevonodo.estado[i+1] = nuevonodo.estado[i]\n",
    "    nuevonodo.estado[i] = aux\n",
    "    \n",
    "    return nuevonodo\n",
    "    \n",
    "def moverIzquierda(nodo):\n",
    "    nuevonodo = copy.deepcopy(nodo)\n",
    "    accion = [0, 0, 1, 0]\n",
    "    nuevonodo.camino.append(accion)\n",
    "    \n",
    "    for i in range(len(nuevonodo.estado)): ##guardas en la i la posición del 0\n",
    "        if nuevonodo.estado[i] == 0:\n",
    "            break\n",
    "    aux = nuevonodo.estado[i-1]\n",
    "    nuevonodo.estado[i-1] = nuevonodo.estado[i]\n",
    "    nuevonodo.estado[i] = aux\n",
    "    \n",
    "    return nuevonodo\n",
    "    \n",
    "\n",
    "def mostrarMatriz(nodo):\n",
    "    for i in range(0,len(inicial.estado),3):\n",
    "        for j in range(i, i+3, 1):\n",
    "            print(nodo.estado[j],end=\" \")\n",
    "            print(' ',end=\" \")\n",
    "        print()\n",
    "    \n",
    "inicial = nodo([3,1,2,5,0,4,6,7,8],[0,0,0,0])\n",
    "mostrarMatriz(inicial)\n",
    "print()\n",
    "inicial=moverDerecha(inicial)\n",
    "mostrarMatriz(inicial)\n",
    "    \n",
    "        \n",
    "        \n",
    "        \n",
    "            \n",
    "    "
   ]
  },
  {
   "cell_type": "markdown",
   "metadata": {},
   "source": [
    "##### Programación funcional. \n",
    "En Python las **funciones** pueden ser **parámetros de otras funciones**, podemos generar **listas de funciones** o una **variable puede ser una función**. Estas características son muy útiles para la programación de problemas utilizando la representación en el espacios de estados. Vamos a ver un ejemplo: en las siguientes celdas están definidas dos funciones muy sencillas. "
   ]
  },
  {
   "cell_type": "code",
   "execution_count": 6,
   "metadata": {},
   "outputs": [],
   "source": [
    "def miSuma(numero):\n",
    "    val = numero + numero*2\n",
    "    return val"
   ]
  },
  {
   "cell_type": "code",
   "execution_count": 7,
   "metadata": {},
   "outputs": [],
   "source": [
    "def miResta(numero):\n",
    "    val = numero - numero**(-1/2)\n",
    "    return val"
   ]
  },
  {
   "cell_type": "markdown",
   "metadata": {},
   "source": [
    "En la siguiente celda asignamos la función a una variable. Ten en cuenta que no estamos tratando el nombre de la función como una cadena de texto."
   ]
  },
  {
   "cell_type": "code",
   "execution_count": 8,
   "metadata": {},
   "outputs": [
    {
     "name": "stdout",
     "output_type": "stream",
     "text": [
      "El resultado de la funcion miResta es: 1.2928932188134525\n"
     ]
    }
   ],
   "source": [
    "valor = 2\n",
    "mifuncion = miResta\n",
    "if mifuncion == miResta:\n",
    "    print('El resultado de la funcion miResta es:', mifuncion(valor))"
   ]
  },
  {
   "cell_type": "markdown",
   "metadata": {},
   "source": [
    "Podemos crear una lista que tenga una serie de funciones y llamar a esas funciones en orden:"
   ]
  },
  {
   "cell_type": "code",
   "execution_count": 9,
   "metadata": {},
   "outputs": [
    {
     "name": "stdout",
     "output_type": "stream",
     "text": [
      "El valor final después de aplicar todas las funciones:  16.531100235140524\n"
     ]
    }
   ],
   "source": [
    "listafunc = [miSuma, miResta, miSuma, miResta]\n",
    "valor = 2\n",
    "for func in listafunc:\n",
    "    valor = func(valor)\n",
    "print('El valor final después de aplicar todas las funciones: ', valor)"
   ]
  },
  {
   "cell_type": "markdown",
   "metadata": {},
   "source": [
    "También podemos crear funciones que tengan como parámetro de entrada una función. La siguiente función se encarga de aplicar una función al valor que asignemos al segundo parámetro:"
   ]
  },
  {
   "cell_type": "code",
   "execution_count": 10,
   "metadata": {},
   "outputs": [
    {
     "name": "stdout",
     "output_type": "stream",
     "text": [
      "Valor de la funcion miResta aplicado a 3: 2.4226497308103743\n"
     ]
    }
   ],
   "source": [
    "def aplicafunc(funcion, valor):\n",
    "    val = func(valor)\n",
    "    return val\n",
    "\n",
    "print('Valor de la funcion miResta aplicado a 3:', aplicafunc(miResta, 3))"
   ]
  },
  {
   "cell_type": "markdown",
   "metadata": {},
   "source": [
    "Vamos a utilizar estas características de Python para programar la forma de **aplicar las acciones a los estados**. De esta forma podremos tener una lista de acciones (lista con los nombres de las funciones que has definido como acciones)  y las podremos **aplicar a un nodo para generar sus sucesores**. Para esto, primero define una función aplica, en la que tenga como parámatros una acción y un nodo y aplique esa acción al nodo. Tiene que devolver un nuevo nodo:"
   ]
  },
  {
   "cell_type": "code",
   "execution_count": 11,
   "metadata": {},
   "outputs": [],
   "source": [
    "def aplica(accion, nodo):\n",
    "    if accion[0] == 1:\n",
    "        sucesor = moverArriba(nodo)\n",
    "    elif accion[1] == 1:\n",
    "        sucesor = moverAbajo(nodo)\n",
    "    elif accion[2] == 1:\n",
    "        sucesor = moverIzquierda(nodo)\n",
    "    else:\n",
    "        sucesor = moverDerecha(nodo)\n",
    "    return sucesor"
   ]
  },
  {
   "cell_type": "markdown",
   "metadata": {},
   "source": [
    "Normalmente, todas las acciones no se pueden aplicar a todos los estados. Crea una función `esposible(accion, nodo)` que tenga como parámetros de entrada un nodo y una acción y devuelva **True** si la acción se puede aplicar en ese estado o **False** si no se puede aplicar. "
   ]
  },
  {
   "cell_type": "code",
   "execution_count": 12,
   "metadata": {},
   "outputs": [
    {
     "name": "stdout",
     "output_type": "stream",
     "text": [
      "3   1   2   \n",
      "5   0   4   \n",
      "6   7   8   \n",
      "\n",
      "3   1   2   \n",
      "5   4   0   \n",
      "6   7   8   \n"
     ]
    }
   ],
   "source": [
    "def esposible(accion, nodo):\n",
    "    if nodo.estado[0] == 0 and (accion[3] == 1 or accion[1] == 1):\n",
    "        return True\n",
    "    elif nodo.estado[1] == 0 and (accion[0] == 0):\n",
    "        return True\n",
    "    elif nodo.estado[2] == 0 and (accion[2] == 1 or accion[1] == 1):\n",
    "        return True\n",
    "    elif nodo.estado[3] == 0 and (accion[2] == 0):\n",
    "        return True\n",
    "    elif nodo.estado[4] == 0:\n",
    "        return True\n",
    "    elif nodo.estado[5] == 0 and accion[3] == 0:\n",
    "        return True\n",
    "    elif nodo.estado[6] == 0 and accion[1] == 0 and accion[2] == 0:\n",
    "        return True\n",
    "    elif nodo.estado[7] == 0 and accion[1] == 0:\n",
    "        return True\n",
    "    elif nodo.estado[8] == 0 and accion[1] == 0 and accion[3] == 0:\n",
    "        return True\n",
    "    else:\n",
    "        return False\n",
    "    \n",
    "inicial = nodo([3,1,2,5,0,4,6,7,8],[0,0,0,0])\n",
    "mostrarMatriz(inicial)\n",
    "print()\n",
    "if esposible([0,0,0,1],inicial):\n",
    "    inicial = aplica([0,0,0,1],inicial)\n",
    "    mostrarMatriz(inicial)\n",
    "\n",
    "        "
   ]
  },
  {
   "cell_type": "markdown",
   "metadata": {},
   "source": [
    "Crea un nodo con el siguiente estado inicial y crea una lista con las cuatro acciones que hay realizar para llegar al estado final:\n",
    "\n",
    "|0 4 2| -->  |0 1 2| \n",
    "\n",
    "|1 3 5| -->|3 4 5|\n",
    "\n",
    "|6 7 8| --> |6 7 8|\n",
    "\n",
    "Utiliza la función esposible y la función aplica para ir generando los nodos sucesores y finalmente comprueba con la función esfinal(nodo) si el estado del último nodo es el estado final."
   ]
  },
  {
   "cell_type": "code",
   "execution_count": 13,
   "metadata": {},
   "outputs": [
    {
     "name": "stdout",
     "output_type": "stream",
     "text": [
      "0   4   2   \n",
      "1   3   5   \n",
      "6   7   8   \n",
      "\n",
      "0   1   2   \n",
      "3   4   5   \n",
      "6   7   8   \n"
     ]
    }
   ],
   "source": [
    "nodoinicial= nodo([0,4,2,1,3,5,6,7,8], [0,0,0,0])\n",
    "listaacciones=[[0,1,0,0],[0,0,0,1],[1,0,0,0],[0,0,1,0]]\n",
    "mostrarMatriz(nodoinicial)\n",
    "print()\n",
    "for act in listaacciones:\n",
    "    if esposible (act,nodoinicial):\n",
    "        nodoinicial=aplica(act,nodoinicial)\n",
    "    if esfinal(nodoinicial):\n",
    "        print('Es final')\n",
    "        break\n",
    "mostrarMatriz(nodoinicial)\n"
   ]
  },
  {
   "cell_type": "markdown",
   "metadata": {},
   "source": [
    "## Búsqueda en anchura\n",
    "Con todas estas funciones es hora de programar la búsqueda en anchura siguiendo el pseudocódigo de los apuntes. El primer nodo que encuentre que contenga el estado final será la **solución óptima**, es decir el camino tendrá el número mínimo de acciones para pasar del estado incial hasta el estado final.  "
   ]
  },
  {
   "cell_type": "markdown",
   "metadata": {},
   "source": [
    "Antes de crear el bucle iterativo tienes que crear una función para evitar bucles y no introducir nodos en la lista de abiertos que con estados que ya estan en abiertos o en cerrados. Crea una función que tenga como parametros una lista de nodos y un nodo y devuelva **True** si existe un nodo con el mismo estado en la lista o **False** en caso contrario."
   ]
  },
  {
   "cell_type": "code",
   "execution_count": 14,
   "metadata": {},
   "outputs": [
    {
     "name": "stdout",
     "output_type": "stream",
     "text": [
      "Esta en abiertos\n"
     ]
    }
   ],
   "source": [
    "def estaen(lista, nodo):     \n",
    "    for n in lista:\n",
    "        if n.estado == nodo.estado:\n",
    "            return True       \n",
    "    return False\n",
    "\n",
    "abiertos=[]\n",
    "ej1 = nodo([1,1,1,1,1,1,1,1,1],[0,0,0,0])\n",
    "ej2 = nodo ([2,2,2,2,2,2,2,2,2],[0,0,0,0])\n",
    "abiertos.append(ej1)\n",
    "abiertos.append(ej2)\n",
    "inicial = nodo ([2,2,2,2,2,2,2,2,2],[0,0,0,0])\n",
    "if estaen(abiertos,inicial):\n",
    "    print('Esta en abiertos')\n",
    "else:\n",
    "    print('No está en abiertos')"
   ]
  },
  {
   "cell_type": "markdown",
   "metadata": {},
   "source": [
    "Ahora ya dispones de todas las funciones necesarias para programa la búsqueda en anchura.\n",
    "Para comprobar en la práctica la complejidad del algoritmo vamos a comprobar el tiempo que tarda en ejecutarse y la memoria total que necesita."
   ]
  },
  {
   "cell_type": "code",
   "execution_count": 15,
   "metadata": {},
   "outputs": [
    {
     "name": "stdout",
     "output_type": "stream",
     "text": [
      "1   2   3   \n",
      "4   5   6   \n",
      "7   0   8   \n",
      "\n",
      "1   2   3   \n",
      "4   5   6   \n",
      "7   0   8   \n",
      "\n",
      "1   2   3   \n",
      "4   0   6   \n",
      "7   5   8   \n",
      "\n",
      "1   2   3   \n",
      "4   5   6   \n",
      "0   7   8   \n",
      "\n",
      "1   2   3   \n",
      "4   5   6   \n",
      "7   8   0   \n",
      "\n",
      "[[0, 0, 0, 1]]\n",
      "0.000637054443359375\n",
      "Tiempo total: 00:00:00\n"
     ]
    }
   ],
   "source": [
    "from collections import deque\n",
    "from IPython.display import display, clear_output\n",
    "import time\n",
    "\n",
    "start_time = time.time()\n",
    "nodoinicial = nodo([1,2,3,4,5,6,7,0,8], [])\n",
    "mostrarMatriz(nodoinicial)\n",
    "accion1 = [1,0,0,0]\n",
    "accion2 = [0,1,0,0]\n",
    "accion3 = [0,0,1,0]\n",
    "accion4 = [0,0,0,1]\n",
    "listaacciones = [accion1, accion2, accion3, accion4]\n",
    "abiertos = []\n",
    "abiertos.append(nodoinicial)\n",
    "cerrados=[]\n",
    "sucesores=[]\n",
    "nuevossucesores=[]\n",
    "while len(abiertos) > 0:\n",
    "    actual = abiertos[0]\n",
    "    del abiertos[0]\n",
    "    cerrados.append(actual)\n",
    "    if esfinal(actual):\n",
    "        break\n",
    "    else:\n",
    "        sucesores.clear()\n",
    "        nuevossucesores.clear()\n",
    "        \n",
    "        for act in listaacciones:\n",
    "            if esposible(act,actual):\n",
    "                sucesores.append(aplica(act,actual))\n",
    "        for i in range(len(sucesores)):\n",
    "            if estaen(abiertos,sucesores[i]) == False and estaen(cerrados,sucesores[i]) == False:\n",
    "                nuevossucesores.append(sucesores[i])\n",
    "        abiertos += (nuevossucesores) \n",
    "    print()\n",
    "    mostrarMatriz(actual)##muestras todos los nodos que coges con abiertos[0] hasta que llegas al estado final\n",
    "if len(abiertos) == 0:\n",
    "    print('No solucion')\n",
    "else:\n",
    "    print()\n",
    "    mostrarMatriz(actual)\n",
    "    print()\n",
    "    print(actual.camino) ##mostrar las acciones que aplicas pa pasar del estado inicial al final\n",
    "\n",
    "seconds = time.time() - start_time\n",
    "print(seconds)\n",
    "print('Tiempo total:', time.strftime(\"%H:%M:%S\",time.gmtime(seconds)))"
   ]
  },
  {
   "cell_type": "markdown",
   "metadata": {},
   "source": [
    "**Extra**. Vemos que la búsqueda en anchura tarda bastante tiempo en encontrar la soluciónm cuando hacen falta más 10-12 movimientos. Esto es debido, por una parte por la complejidad propia del algoritmo y por que no lo hemos programado bien del todo. Cuando buscamos si un nodo está en la lista de abiertos y en la lista de cerrados, se recorre toda la lista, por lo que tiene una complejidad O(n). Podemos acelerar el algoritmo si esa búsqueda la realizamos en O(log(n)). Para esto podemos hacer que la lista de abiertos y cerrados sean diccionarios. De esta forma la búsqueda de elementos será mucho más rápida. Tendrás que crear un código para cada estado para que sea la clave (debe ser único por cada estado). La lista de abiertos y cerrados pasan a ser diccionarios en los que guardamos los nodos. La clave será el código identificativo y el valor será el nodo. Si lo necesitas puedes añadir otros atributos a la clase nodo como la profundidad."
   ]
  },
  {
   "cell_type": "code",
   "execution_count": 18,
   "metadata": {},
   "outputs": [
    {
     "data": {
      "text/plain": [
       "[<matplotlib.lines.Line2D at 0x7f7c82f60580>]"
      ]
     },
     "execution_count": 18,
     "metadata": {},
     "output_type": "execute_result"
    },
    {
     "data": {
      "image/png": "[encoded data removed]",
      "text/plain": [
       "<Figure size 640x480 with 1 Axes>"
      ]
     },
     "metadata": {},
     "output_type": "display_data"
    }
   ],
   "source": [
    "def algoritmoAnchura (nodoinicial):\n",
    "    start_time = time.time()\n",
    "    accion1 = [1,0,0,0]\n",
    "    accion2 = [0,1,0,0]\n",
    "    accion3 = [0,0,1,0]\n",
    "    accion4 = [0,0,0,1]\n",
    "    listaacciones = [accion1, accion2, accion3, accion4]\n",
    "    abiertos = []\n",
    "    abiertos.append(nodoinicial)\n",
    "    cerrados=[]\n",
    "    sucesores=[]\n",
    "    nuevossucesores=[]\n",
    "    contador = 0\n",
    "    while len(abiertos) > 0:\n",
    "        actual = abiertos[0]\n",
    "        del abiertos[0]\n",
    "        cerrados.append(actual)\n",
    "        contador = contador + 1\n",
    "        if esfinal(actual):\n",
    "            seconds = time.time() - start_time\n",
    "            return contador\n",
    "        else:\n",
    "            sucesores.clear()\n",
    "            nuevossucesores.clear()\n",
    "            for act in listaacciones:\n",
    "                if esposible(act,actual):\n",
    "                    sucesores.append(aplica(act,actual))\n",
    "            for i in range(len(sucesores)):\n",
    "                if estaen(abiertos,sucesores[i]) == False and estaen(cerrados,sucesores[i]) == False:\n",
    "                    nuevossucesores.append(sucesores[i])\n",
    "            abiertos += (nuevossucesores) \n",
    "    return -1\n",
    "estado_inicial = [[1,2,3,4,5,0,7,8,6], [1,2,0,4,5,3,7,8,6], [1,0,2,4,5,3,7,8,6], \n",
    "                  [1,5,2,4,0,3,7,8,6], [1,5,2,4,8,3,7,0,6], [1,5,2,4,8,3,0,7,6], [1,5,2,0,8,3,4,7,6], \n",
    "                  [0,5,2,1,8,3,4,7,6], [5,0,2,1,8,3,4,7,6], [5,2,0,1,8,3,4,7,6], [5,2,3,1,8,0,4,7,6],\n",
    "                  [5,2,3,1,0,8,4,7,6], [5,2,3,1,7,8,4,0,6], [5,2,3,1,7,8,0,4,6]]\n",
    "import matplotlib.pyplot as plt\n",
    "x1 = range(1,14)\n",
    "y1 = [algoritmoAnchura(nodo(estado_inicial[i],[])) for i in range(len(estado_inicial)-1)] \n",
    "plt.plot(x1, y1, 'go--', linewidth=2, markersize=10) \n"
   ]
  },
  {
   "cell_type": "code",
   "execution_count": null,
   "metadata": {},
   "outputs": [],
   "source": []
  }
 ],
 "metadata": {
  "kernelspec": {
   "display_name": "Python 3 (ipykernel)",
   "language": "python",
   "name": "python3"
  },
  "language_info": {
   "codemirror_mode": {
    "name": "ipython",
    "version": 3
   },
   "file_extension": ".py",
   "mimetype": "text/x-python",
   "name": "python",
   "nbconvert_exporter": "python",
   "pygments_lexer": "ipython3",
   "version": "3.9.13"
  }
 },
 "nbformat": 4,
 "nbformat_minor": 4
}
