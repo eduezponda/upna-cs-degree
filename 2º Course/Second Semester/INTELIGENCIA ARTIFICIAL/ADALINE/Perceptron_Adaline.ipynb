{
 "cells": [
  {
   "cell_type": "markdown",
   "metadata": {},
   "source": [
    "## Preceptrón Adaline. Regresión lineal"
   ]
  },
  {
   "cell_type": "markdown",
   "metadata": {},
   "source": [
    "En el perceptrón adaline la función de activación del perceptrón es la función identidad $f(x)=x$, por lo tanto la salida del perceptrón es un valor real. Por tanto, podemos entrenar al perceptrón para predecir valores. El caso más sencillo es un perceptrón con una entrada: ![Adaline](adaline.jpg)"
   ]
  },
  {
   "cell_type": "markdown",
   "metadata": {},
   "source": [
    "Primero vamos a entrenar un perpectrón con una entrada para ajustarse a los siguientes datos:\n",
    "\n",
    "|x|y|\n",
    "|---|---| \n",
    "1|1\n",
    "2|3\n",
    "4|3"
   ]
  },
  {
   "cell_type": "markdown",
   "metadata": {},
   "source": [
    "En esta práctica vamos a utilizar la librería numpy para representar vectores. Es muy útil cuando trabajamos con vectores porque tiene algunas funciones como el producto de vectores que facilitan la implementación del algoritmo de aprendizaje."
   ]
  },
  {
   "cell_type": "code",
   "execution_count": 1,
   "metadata": {},
   "outputs": [],
   "source": [
    "import numpy as np"
   ]
  },
  {
   "cell_type": "code",
   "execution_count": 2,
   "metadata": {},
   "outputs": [
    {
     "name": "stdout",
     "output_type": "stream",
     "text": [
      "7\n"
     ]
    }
   ],
   "source": [
    "a = np.array([0, 2, 3])\n",
    "b = np.array([1, 2, 1])\n",
    "# Producto escalar de dos vectores\n",
    "c = np.dot(a,b)\n",
    "print(c)"
   ]
  },
  {
   "cell_type": "markdown",
   "metadata": {},
   "source": [
    "Con los arrays de numpy podemos hacer operaciones elemento a elemento. Además, el acceso a las matrices es diferente a Python estándar y podemos acceder a columnas completas."
   ]
  },
  {
   "cell_type": "code",
   "execution_count": 3,
   "metadata": {},
   "outputs": [
    {
     "name": "stdout",
     "output_type": "stream",
     "text": [
      "[-1  0  2]\n",
      "[1 0 4]\n"
     ]
    }
   ],
   "source": [
    "a = np.array([0, 2, 3])\n",
    "b = np.array([1, 2, 1])\n",
    "print((a-b))\n",
    "print((a-b)**2)"
   ]
  },
  {
   "cell_type": "markdown",
   "metadata": {},
   "source": [
    "Multiplicar dos vectores elemento a elemento:"
   ]
  },
  {
   "cell_type": "code",
   "execution_count": 4,
   "metadata": {},
   "outputs": [
    {
     "name": "stdout",
     "output_type": "stream",
     "text": [
      "[0 4 3]\n"
     ]
    }
   ],
   "source": [
    "c = np.multiply(a,b)\n",
    "print(c)"
   ]
  },
  {
   "cell_type": "markdown",
   "metadata": {},
   "source": [
    "Sumar los elementos de un vector:"
   ]
  },
  {
   "cell_type": "code",
   "execution_count": 5,
   "metadata": {},
   "outputs": [
    {
     "name": "stdout",
     "output_type": "stream",
     "text": [
      "5\n"
     ]
    }
   ],
   "source": [
    "c = np.sum(a)\n",
    "print(c)"
   ]
  },
  {
   "cell_type": "markdown",
   "metadata": {},
   "source": [
    "Accecer a elementos de una matriz:"
   ]
  },
  {
   "cell_type": "code",
   "execution_count": 6,
   "metadata": {},
   "outputs": [
    {
     "name": "stdout",
     "output_type": "stream",
     "text": [
      "[1 2 0]\n",
      "3\n"
     ]
    }
   ],
   "source": [
    "X = np.array([[0,1],[1,2],[3,0]])\n",
    "print(X[:,1]) #todos los elementos de las filas de la columna 1 de la matriz\n",
    "print(X[2,0])"
   ]
  },
  {
   "cell_type": "markdown",
   "metadata": {},
   "source": [
    "Primero vamos a definir los valores de entrada y de salida como arrays. En el vector de entrada añadimos una columna de unos correspondiente al valor de $x_0$."
   ]
  },
  {
   "cell_type": "code",
   "execution_count": 7,
   "metadata": {},
   "outputs": [],
   "source": [
    "X = np.array([[1,1],[1,2],[1,4]])\n",
    "y = np.array([1, 3, 3])"
   ]
  },
  {
   "cell_type": "markdown",
   "metadata": {},
   "source": [
    "Crea una función perceptron que tome como parámetros un vector de pesos $w$, un vector de entrada $x$ y devuelva el valor de salida $y$ del perceptrón. El valor de salida del perceptrón con w_ini = [-1, -1] es -2."
   ]
  },
  {
   "cell_type": "code",
   "execution_count": 8,
   "metadata": {},
   "outputs": [
    {
     "name": "stdout",
     "output_type": "stream",
     "text": [
      "-2\n"
     ]
    }
   ],
   "source": [
    "def perceptron(w,x):\n",
    "    return np.dot(w,x)\n",
    "w_ini = [-1, -1]\n",
    "print(perceptron(w_ini, X[0]))"
   ]
  },
  {
   "cell_type": "markdown",
   "metadata": {},
   "source": [
    "Completa la función coste que tiene como parámetros de entrada una matriz con los datos de entrada X, el vector con las salidas y y u vector de pesos de un perceptrón. La función coste calcula el error cuadrático medio entre la salida y la salida del perceptrón para todos los vectores de la matriz de datos. Siendo $m$ el número de datos de la matriz $X$ y $f(x)$ la salida del perceptrón:\n",
    "\\begin{equation}\n",
    "Err = \\frac{1}{2m}\\sum\\left(f\\left(x\\right) - y\\right)^2\n",
    "\\end{equation}"
   ]
  },
  {
   "cell_type": "code",
   "execution_count": 9,
   "metadata": {},
   "outputs": [
    {
     "name": "stdout",
     "output_type": "stream",
     "text": [
      "18.166666666666668\n"
     ]
    }
   ],
   "source": [
    "def coste(X, y, w):\n",
    "    loss = 0\n",
    "    for i in range(len(X)):\n",
    "        loss += (perceptron(w,X[i])-y[i])**2\n",
    "    return loss * 1/(2*len(X))\n",
    "# El valor del coste con w_ini = [-1, -1] es 18.15\n",
    "print(coste(X,y, w_ini))"
   ]
  },
  {
   "cell_type": "markdown",
   "metadata": {},
   "source": [
    "Para encontrar los parámetros del perpectrón que mejor se ajusten a los datos vamos a utilizar el algoritmo del descenso por gradiente. Para poder utilizarlo necesitamos los gradientes de la función de coste con respecto a cada parámetro del perceptrón. Completa la función gradientes en la que se devuelve el valor de los gradientes de $w_0$ y$w_1$:\n",
    "\n",
    "\\begin{equation}\n",
    "\\frac{\\partial J}{\\partial w_0} = \\frac{1}{m} \\sum_{x, y \\in D_{train}} \\left(\\left(w_0x_0 \\text{+}w_1x_1\\right) - y \\right) x_0  \\nonumber \n",
    "\\end{equation}\n",
    "\n",
    "\\begin{equation}\n",
    "\\frac{\\partial J}{\\partial w_1} = \\frac{1}{m} \\sum_{x, y \\in D_{train}} \\left(\\left(w_0x_0 \\text{+}w_1x_1\\right) - y \\right) x_1 \\nonumber\n",
    "\\end{equation}"
   ]
  },
  {
   "cell_type": "code",
   "execution_count": 10,
   "metadata": {},
   "outputs": [],
   "source": [
    "def gradientes(X,y,w):\n",
    "    gradientes = np.zeros(len(w))\n",
    "    m = len(X)\n",
    "    for i in range(len(w)):\n",
    "        gradientes[i] = (1/m) * np.sum(((np.dot(X, w) - y) * X[:, i]))\n",
    "    return gradientes"
   ]
  },
  {
   "cell_type": "code",
   "execution_count": 11,
   "metadata": {},
   "outputs": [
    {
     "name": "stdout",
     "output_type": "stream",
     "text": [
      "[ -5.66666667 -15.66666667]\n"
     ]
    }
   ],
   "source": [
    "#El valor de los gradientes es [ -5.66666667 -15.66666667]\n",
    "X = np.array([[1,1],[1,2],[1,4]])\n",
    "y = np.array([1, 3, 3])\n",
    "w_ini = [-1, -1]\n",
    "print(gradientes(X,y,w_ini))"
   ]
  },
  {
   "cell_type": "markdown",
   "metadata": {},
   "source": [
    "Crea la función de descenso por gradiente que tenga como parámetros de entrada la matriz X, el vector y, un vector de pesos incial del perceptrón, el valor del ratio de aprendizaje y el número de iteraciones y devuelva un vector con los valores de coste en todas las iteraciones y el vector de pesos aprendido."
   ]
  },
  {
   "cell_type": "code",
   "execution_count": 12,
   "metadata": {},
   "outputs": [],
   "source": [
    "def DescensoGradiente(X, y, w_ini, alpha = 0.1, iters = 100):\n",
    "    w = w_ini\n",
    "    Loss = []\n",
    "    for i in range(iters):\n",
    "        Loss.append(coste(X,y,w))\n",
    "        w -= alpha * gradientes(X,y,w)\n",
    "    return Loss, w     "
   ]
  },
  {
   "cell_type": "markdown",
   "metadata": {},
   "source": [
    "Ejecuta el algoritmo del descenso por gradiente e imprime los valores de la función de perdida. Si los valores descienden y convergen en un mínimo, entonces el algoritmo funciona correctamente."
   ]
  },
  {
   "cell_type": "code",
   "execution_count": 13,
   "metadata": {},
   "outputs": [
    {
     "data": {
      "image/png": "[encoded data removed]",
      "text/plain": [
       "<Figure size 640x480 with 1 Axes>"
      ]
     },
     "metadata": {},
     "output_type": "display_data"
    }
   ],
   "source": [
    "import matplotlib.pyplot as plt \n",
    "w_ini = [-1, -1]\n",
    "L, w = DescensoGradiente(X, y, w_ini)\n",
    "plt.plot(L)\n",
    "plt.show()"
   ]
  },
  {
   "cell_type": "markdown",
   "metadata": {},
   "source": [
    "Imprime los valores de los pesos del perceptrón y comprueba que coinciden con los valores obtenidos por la ecuación normal de Gauss que se encuentra en la siguiente celda:"
   ]
  },
  {
   "cell_type": "code",
   "execution_count": 14,
   "metadata": {},
   "outputs": [
    {
     "name": "stdout",
     "output_type": "stream",
     "text": [
      "[0.82563289 0.63125528]\n"
     ]
    }
   ],
   "source": [
    "print(w)"
   ]
  },
  {
   "cell_type": "code",
   "execution_count": 15,
   "metadata": {},
   "outputs": [
    {
     "name": "stdout",
     "output_type": "stream",
     "text": [
      "[1.         0.57142857]\n"
     ]
    }
   ],
   "source": [
    "from numpy.linalg import inv\n",
    "w_opt = np.matmul(np.matmul(inv(np.matmul(X.T, X)),X.T), y)\n",
    "print(w_opt)"
   ]
  },
  {
   "cell_type": "markdown",
   "metadata": {},
   "source": [
    "Prueba con diferentes valores de ratio de aprendizaje alpha y número de iteraciones para comprobar si el algoritmo de descenso por gradiente converge y se acerca más a los valores óptimos que se obtienen con la ecuación normal."
   ]
  },
  {
   "cell_type": "code",
   "execution_count": 16,
   "metadata": {},
   "outputs": [
    {
     "name": "stdout",
     "output_type": "stream",
     "text": [
      "[0.99994189 0.57144851]\n"
     ]
    }
   ],
   "source": [
    "L, w = DescensoGradiente(X, y, w_ini,0.05,1000)\n",
    "print(w)"
   ]
  },
  {
   "cell_type": "markdown",
   "metadata": {},
   "source": [
    "## Predicción del precio de los diamantes\n",
    "\n",
    "Este conjunto de datos clásico contiene los precios y otros atributos de casi 54.000 diamantes.\n",
    "![](diamante.jpg)\n",
    "\n",
    "Los atributos son los siguientes:\n",
    "\n",
    "- *Quilates* (0,2-5,01): El quilate es el peso físico del diamante medido en quilates métricos. Un quilate equivale a 0,20 gramos y se subdivide en 100 puntos.\n",
    "- *Talla* (0-4): La calidad de la talla. Cuanto más preciso sea el corte del diamante, más cautivador será el diamante a la vista y, por tanto, de alta calidad.\n",
    "- *Color* (0-7)): El color de los diamantes de calidad gema se presenta en muchas tonalidades. Va desde el incoloro hasta el amarillo claro o el marrón claro. Los diamantes incoloros son los más raros. Otros colores naturales (azul, rojo, rosa, por ejemplo) se conocen como \"de fantasía\", y su clasificación de color es diferente a la de los diamantes blancos incoloros.\n",
    "- *Claridad* (0-6): Los diamantes pueden tener características internas conocidas como inclusiones o externas conocidas como manchas. Los diamantes sin inclusiones o imperfecciones son raros; sin embargo, la mayoría de las características sólo pueden verse con aumento.\n",
    "- *Profundidad* (43-79): Es el porcentaje de profundidad total que equivale a z / media(x, y) = 2 * z / (x + y). La profundidad del diamante es su altura (en milímetros) medida desde el culet (punta inferior) hasta la tabla (superficie plana, superior), tal como se refiere en el diagrama etiquetado anterior.\n",
    "- *tabla* (43-95): Es la anchura de la parte superior del diamante en relación con el punto más ancho. Le da al diamante un fuego y un brillo impresionantes al reflejar las luces en todas las direcciones, lo cual, al ser visto por un observador, parece lustroso.\n",
    "- *x* (0 - 10.74): Longitud del diamante (en mm)\n",
    "- *y* (0 - 58.9): Anchura del diamante (en mm)\n",
    "- *z* (0 - 31.8): Profundidad del diamante (en mm)\n",
    "\n",
    "- *precio* ($326 - $18826): Es el precio del diamante en dólares estadounidenses. \n",
    "\n",
    "Vamos a entrenar un perceptrón Adaline con 9 entradas que sea capaz de predecir el precio de un diamante."
   ]
  },
  {
   "cell_type": "code",
   "execution_count": 17,
   "metadata": {},
   "outputs": [
    {
     "data": {
      "text/html": [
       "<div>\n",
       "<style scoped>\n",
       "    .dataframe tbody tr th:only-of-type {\n",
       "        vertical-align: middle;\n",
       "    }\n",
       "\n",
       "    .dataframe tbody tr th {\n",
       "        vertical-align: top;\n",
       "    }\n",
       "\n",
       "    .dataframe thead th {\n",
       "        text-align: right;\n",
       "    }\n",
       "</style>\n",
       "<table border=\"1\" class=\"dataframe\">\n",
       "  <thead>\n",
       "    <tr style=\"text-align: right;\">\n",
       "      <th></th>\n",
       "      <th>carat</th>\n",
       "      <th>cut</th>\n",
       "      <th>color</th>\n",
       "      <th>clarity</th>\n",
       "      <th>depth</th>\n",
       "      <th>table</th>\n",
       "      <th>price</th>\n",
       "      <th>x</th>\n",
       "      <th>y</th>\n",
       "      <th>z</th>\n",
       "    </tr>\n",
       "  </thead>\n",
       "  <tbody>\n",
       "    <tr>\n",
       "      <th>count</th>\n",
       "      <td>53909.000000</td>\n",
       "      <td>53909.000000</td>\n",
       "      <td>53909.000000</td>\n",
       "      <td>53909.000000</td>\n",
       "      <td>53909.000000</td>\n",
       "      <td>53909.000000</td>\n",
       "      <td>53909.000000</td>\n",
       "      <td>53909.000000</td>\n",
       "      <td>53909.000000</td>\n",
       "      <td>53909.000000</td>\n",
       "    </tr>\n",
       "    <tr>\n",
       "      <th>mean</th>\n",
       "      <td>0.797617</td>\n",
       "      <td>2.904469</td>\n",
       "      <td>4.353967</td>\n",
       "      <td>3.051661</td>\n",
       "      <td>61.749743</td>\n",
       "      <td>57.455852</td>\n",
       "      <td>3930.513680</td>\n",
       "      <td>5.731441</td>\n",
       "      <td>5.733764</td>\n",
       "      <td>3.539994</td>\n",
       "    </tr>\n",
       "    <tr>\n",
       "      <th>std</th>\n",
       "      <td>0.473759</td>\n",
       "      <td>1.116232</td>\n",
       "      <td>1.816157</td>\n",
       "      <td>1.647066</td>\n",
       "      <td>1.420093</td>\n",
       "      <td>2.226169</td>\n",
       "      <td>3987.145802</td>\n",
       "      <td>1.119369</td>\n",
       "      <td>1.116891</td>\n",
       "      <td>0.702085</td>\n",
       "    </tr>\n",
       "    <tr>\n",
       "      <th>min</th>\n",
       "      <td>0.200000</td>\n",
       "      <td>0.000000</td>\n",
       "      <td>0.000000</td>\n",
       "      <td>0.000000</td>\n",
       "      <td>50.800000</td>\n",
       "      <td>43.000000</td>\n",
       "      <td>326.000000</td>\n",
       "      <td>3.730000</td>\n",
       "      <td>3.680000</td>\n",
       "      <td>2.060000</td>\n",
       "    </tr>\n",
       "    <tr>\n",
       "      <th>25%</th>\n",
       "      <td>0.400000</td>\n",
       "      <td>2.000000</td>\n",
       "      <td>3.000000</td>\n",
       "      <td>2.000000</td>\n",
       "      <td>61.000000</td>\n",
       "      <td>56.000000</td>\n",
       "      <td>949.000000</td>\n",
       "      <td>4.710000</td>\n",
       "      <td>4.720000</td>\n",
       "      <td>2.910000</td>\n",
       "    </tr>\n",
       "    <tr>\n",
       "      <th>50%</th>\n",
       "      <td>0.700000</td>\n",
       "      <td>3.000000</td>\n",
       "      <td>4.000000</td>\n",
       "      <td>3.000000</td>\n",
       "      <td>61.800000</td>\n",
       "      <td>57.000000</td>\n",
       "      <td>2400.000000</td>\n",
       "      <td>5.700000</td>\n",
       "      <td>5.710000</td>\n",
       "      <td>3.530000</td>\n",
       "    </tr>\n",
       "    <tr>\n",
       "      <th>75%</th>\n",
       "      <td>1.040000</td>\n",
       "      <td>4.000000</td>\n",
       "      <td>6.000000</td>\n",
       "      <td>4.000000</td>\n",
       "      <td>62.500000</td>\n",
       "      <td>59.000000</td>\n",
       "      <td>5322.000000</td>\n",
       "      <td>6.540000</td>\n",
       "      <td>6.540000</td>\n",
       "      <td>4.040000</td>\n",
       "    </tr>\n",
       "    <tr>\n",
       "      <th>max</th>\n",
       "      <td>5.010000</td>\n",
       "      <td>4.000000</td>\n",
       "      <td>7.000000</td>\n",
       "      <td>7.000000</td>\n",
       "      <td>73.600000</td>\n",
       "      <td>79.000000</td>\n",
       "      <td>18823.000000</td>\n",
       "      <td>10.740000</td>\n",
       "      <td>31.800000</td>\n",
       "      <td>31.800000</td>\n",
       "    </tr>\n",
       "  </tbody>\n",
       "</table>\n",
       "</div>"
      ],
      "text/plain": [
       "              carat           cut         color       clarity         depth  \\\n",
       "count  53909.000000  53909.000000  53909.000000  53909.000000  53909.000000   \n",
       "mean       0.797617      2.904469      4.353967      3.051661     61.749743   \n",
       "std        0.473759      1.116232      1.816157      1.647066      1.420093   \n",
       "min        0.200000      0.000000      0.000000      0.000000     50.800000   \n",
       "25%        0.400000      2.000000      3.000000      2.000000     61.000000   \n",
       "50%        0.700000      3.000000      4.000000      3.000000     61.800000   \n",
       "75%        1.040000      4.000000      6.000000      4.000000     62.500000   \n",
       "max        5.010000      4.000000      7.000000      7.000000     73.600000   \n",
       "\n",
       "              table         price             x             y             z  \n",
       "count  53909.000000  53909.000000  53909.000000  53909.000000  53909.000000  \n",
       "mean      57.455852   3930.513680      5.731441      5.733764      3.539994  \n",
       "std        2.226169   3987.145802      1.119369      1.116891      0.702085  \n",
       "min       43.000000    326.000000      3.730000      3.680000      2.060000  \n",
       "25%       56.000000    949.000000      4.710000      4.720000      2.910000  \n",
       "50%       57.000000   2400.000000      5.700000      5.710000      3.530000  \n",
       "75%       59.000000   5322.000000      6.540000      6.540000      4.040000  \n",
       "max       79.000000  18823.000000     10.740000     31.800000     31.800000  "
      ]
     },
     "execution_count": 17,
     "metadata": {},
     "output_type": "execute_result"
    }
   ],
   "source": [
    "import pandas as pd \n",
    "from sklearn.utils import shuffle\n",
    "data = pd.read_csv(\"diamates.csv\")\n",
    "data = data.drop(['Unnamed: 0'], axis=1)\n",
    "data = shuffle(data)\n",
    "data.describe()"
   ]
  },
  {
   "cell_type": "code",
   "execution_count": 18,
   "metadata": {},
   "outputs": [
    {
     "data": {
      "text/html": [
       "<div>\n",
       "<style scoped>\n",
       "    .dataframe tbody tr th:only-of-type {\n",
       "        vertical-align: middle;\n",
       "    }\n",
       "\n",
       "    .dataframe tbody tr th {\n",
       "        vertical-align: top;\n",
       "    }\n",
       "\n",
       "    .dataframe thead th {\n",
       "        text-align: right;\n",
       "    }\n",
       "</style>\n",
       "<table border=\"1\" class=\"dataframe\">\n",
       "  <thead>\n",
       "    <tr style=\"text-align: right;\">\n",
       "      <th></th>\n",
       "      <th>carat</th>\n",
       "      <th>cut</th>\n",
       "      <th>color</th>\n",
       "      <th>clarity</th>\n",
       "      <th>depth</th>\n",
       "      <th>table</th>\n",
       "      <th>price</th>\n",
       "      <th>x</th>\n",
       "      <th>y</th>\n",
       "      <th>z</th>\n",
       "    </tr>\n",
       "  </thead>\n",
       "  <tbody>\n",
       "    <tr>\n",
       "      <th>44912</th>\n",
       "      <td>0.68</td>\n",
       "      <td>0</td>\n",
       "      <td>4</td>\n",
       "      <td>2</td>\n",
       "      <td>58.0</td>\n",
       "      <td>71.0</td>\n",
       "      <td>1633</td>\n",
       "      <td>5.85</td>\n",
       "      <td>5.70</td>\n",
       "      <td>3.35</td>\n",
       "    </tr>\n",
       "    <tr>\n",
       "      <th>41437</th>\n",
       "      <td>0.41</td>\n",
       "      <td>4</td>\n",
       "      <td>4</td>\n",
       "      <td>6</td>\n",
       "      <td>61.8</td>\n",
       "      <td>55.0</td>\n",
       "      <td>1230</td>\n",
       "      <td>4.78</td>\n",
       "      <td>4.76</td>\n",
       "      <td>2.95</td>\n",
       "    </tr>\n",
       "    <tr>\n",
       "      <th>13027</th>\n",
       "      <td>0.36</td>\n",
       "      <td>3</td>\n",
       "      <td>5</td>\n",
       "      <td>2</td>\n",
       "      <td>61.1</td>\n",
       "      <td>59.0</td>\n",
       "      <td>600</td>\n",
       "      <td>4.55</td>\n",
       "      <td>4.59</td>\n",
       "      <td>2.79</td>\n",
       "    </tr>\n",
       "    <tr>\n",
       "      <th>53049</th>\n",
       "      <td>0.70</td>\n",
       "      <td>1</td>\n",
       "      <td>3</td>\n",
       "      <td>5</td>\n",
       "      <td>60.5</td>\n",
       "      <td>62.0</td>\n",
       "      <td>2611</td>\n",
       "      <td>5.66</td>\n",
       "      <td>5.74</td>\n",
       "      <td>3.45</td>\n",
       "    </tr>\n",
       "    <tr>\n",
       "      <th>41945</th>\n",
       "      <td>0.40</td>\n",
       "      <td>3</td>\n",
       "      <td>5</td>\n",
       "      <td>6</td>\n",
       "      <td>60.2</td>\n",
       "      <td>59.0</td>\n",
       "      <td>1263</td>\n",
       "      <td>4.74</td>\n",
       "      <td>4.76</td>\n",
       "      <td>2.86</td>\n",
       "    </tr>\n",
       "    <tr>\n",
       "      <th>46963</th>\n",
       "      <td>0.57</td>\n",
       "      <td>1</td>\n",
       "      <td>4</td>\n",
       "      <td>3</td>\n",
       "      <td>58.2</td>\n",
       "      <td>66.0</td>\n",
       "      <td>1816</td>\n",
       "      <td>5.34</td>\n",
       "      <td>5.45</td>\n",
       "      <td>3.14</td>\n",
       "    </tr>\n",
       "    <tr>\n",
       "      <th>35582</th>\n",
       "      <td>0.31</td>\n",
       "      <td>2</td>\n",
       "      <td>3</td>\n",
       "      <td>6</td>\n",
       "      <td>63.1</td>\n",
       "      <td>57.0</td>\n",
       "      <td>907</td>\n",
       "      <td>4.31</td>\n",
       "      <td>4.25</td>\n",
       "      <td>2.70</td>\n",
       "    </tr>\n",
       "    <tr>\n",
       "      <th>52158</th>\n",
       "      <td>0.70</td>\n",
       "      <td>4</td>\n",
       "      <td>4</td>\n",
       "      <td>2</td>\n",
       "      <td>61.6</td>\n",
       "      <td>56.0</td>\n",
       "      <td>2478</td>\n",
       "      <td>5.69</td>\n",
       "      <td>5.73</td>\n",
       "      <td>3.52</td>\n",
       "    </tr>\n",
       "    <tr>\n",
       "      <th>50238</th>\n",
       "      <td>0.50</td>\n",
       "      <td>2</td>\n",
       "      <td>5</td>\n",
       "      <td>7</td>\n",
       "      <td>61.4</td>\n",
       "      <td>60.0</td>\n",
       "      <td>2238</td>\n",
       "      <td>5.07</td>\n",
       "      <td>5.10</td>\n",
       "      <td>3.12</td>\n",
       "    </tr>\n",
       "    <tr>\n",
       "      <th>25749</th>\n",
       "      <td>2.43</td>\n",
       "      <td>3</td>\n",
       "      <td>2</td>\n",
       "      <td>1</td>\n",
       "      <td>62.2</td>\n",
       "      <td>60.0</td>\n",
       "      <td>14727</td>\n",
       "      <td>8.59</td>\n",
       "      <td>8.53</td>\n",
       "      <td>5.33</td>\n",
       "    </tr>\n",
       "  </tbody>\n",
       "</table>\n",
       "</div>"
      ],
      "text/plain": [
       "       carat  cut  color  clarity  depth  table  price     x     y     z\n",
       "44912   0.68    0      4        2   58.0   71.0   1633  5.85  5.70  3.35\n",
       "41437   0.41    4      4        6   61.8   55.0   1230  4.78  4.76  2.95\n",
       "13027   0.36    3      5        2   61.1   59.0    600  4.55  4.59  2.79\n",
       "53049   0.70    1      3        5   60.5   62.0   2611  5.66  5.74  3.45\n",
       "41945   0.40    3      5        6   60.2   59.0   1263  4.74  4.76  2.86\n",
       "46963   0.57    1      4        3   58.2   66.0   1816  5.34  5.45  3.14\n",
       "35582   0.31    2      3        6   63.1   57.0    907  4.31  4.25  2.70\n",
       "52158   0.70    4      4        2   61.6   56.0   2478  5.69  5.73  3.52\n",
       "50238   0.50    2      5        7   61.4   60.0   2238  5.07  5.10  3.12\n",
       "25749   2.43    3      2        1   62.2   60.0  14727  8.59  8.53  5.33"
      ]
     },
     "execution_count": 18,
     "metadata": {},
     "output_type": "execute_result"
    }
   ],
   "source": [
    "data.head(10)"
   ]
  },
  {
   "cell_type": "code",
   "execution_count": 19,
   "metadata": {},
   "outputs": [],
   "source": [
    "y = np.array(data['price'])\n",
    "data = data.drop(['price'], axis=1)\n",
    "X = np.array(data)"
   ]
  },
  {
   "cell_type": "markdown",
   "metadata": {},
   "source": [
    "Imprimimos la gráfica Quilates - precio"
   ]
  },
  {
   "cell_type": "code",
   "execution_count": 20,
   "metadata": {
    "scrolled": true
   },
   "outputs": [
    {
     "data": {
      "image/png": "[encoded data removed]",
      "text/plain": [
       "<Figure size 640x480 with 1 Axes>"
      ]
     },
     "metadata": {},
     "output_type": "display_data"
    }
   ],
   "source": [
    "import matplotlib.pyplot as plt\n",
    "plt.plot(X[:,0],y, 'bo')\n",
    "plt.show()"
   ]
  },
  {
   "cell_type": "markdown",
   "metadata": {},
   "source": [
    "En la siguiente celda vamos a *normalizar* los valores de las columnas de la matriz X. Esto se hace para que el algoritmo de descenso por gradiente pueda converger más fácil. Debido a que el ratio de aprendizaje es común para todas las variables del problema, si en nuestro conjunto de datos existen columnas (variables) que tienen rango diferente, puede ocurrir que  el avance (alpha*gradiente) en alguna variable sea demasiado grande y otras variables sea pequeño y por tanto el algoritmo se queda oscilando sin llegar a converger al mínimo. Al normalizar todas las variables a un rango similar se evita este problema y el descenso por gradiente converge más fácilmente.\n",
    "\n",
    "La normalización que utilizamos se llama normalización por la media. A los valores se les resta la media y se divide por la desviación típica. \n",
    "\\begin{equation}\n",
    "x_i = \\frac{x_i-mean(x)}{std(x)}\n",
    "\\end{equation}\n",
    "Los valores de la variable transformada estén casi todos entre -1 y 1 y la desviación típica dela nueva variable es 1."
   ]
  },
  {
   "cell_type": "code",
   "execution_count": 21,
   "metadata": {},
   "outputs": [],
   "source": [
    "for c in range(len(X[0])):\n",
    "    X[:,c] = (X[:,c]-np.mean(X[:,c]))/np.std(X[:,c])"
   ]
  },
  {
   "cell_type": "markdown",
   "metadata": {},
   "source": [
    "Añadimos la columna de unos que representa el término de bias $x_0$ del perceptrón:"
   ]
  },
  {
   "cell_type": "code",
   "execution_count": 22,
   "metadata": {},
   "outputs": [],
   "source": [
    "m = len(X)\n",
    "X = np.c_[np.ones(m), X ]"
   ]
  },
  {
   "cell_type": "markdown",
   "metadata": {},
   "source": [
    "Modifica tus funciones gradientes y DescensoGradiente para que pueda trabajar con más 2 variables:"
   ]
  },
  {
   "cell_type": "code",
   "execution_count": 23,
   "metadata": {},
   "outputs": [],
   "source": [
    "def gradientes(X,y,w):\n",
    "    gradientes = np.zeros(len(w))\n",
    "    m = len(X)\n",
    "    for i in range(len(w)):\n",
    "        gradientes[i] = (1/m) * np.sum(((np.dot(X, w) - y) * X[:, i]))\n",
    "    return gradientes\n",
    "\n",
    "def DescensoGradiente(X, y, w_ini, alpha = 0.1, iters = 100):\n",
    "    w = w_ini\n",
    "    Loss = []\n",
    "    for i in range(iters):\n",
    "        Loss.append(coste(X,y,w))\n",
    "        w -= alpha * gradientes(X,y,w)\n",
    "    return Loss, w"
   ]
  },
  {
   "cell_type": "markdown",
   "metadata": {},
   "source": [
    "Como tenemos muchos datos vamos a crear dos conjuntos uno de entrenamiento y otro de test con 1000 ejemplos cada uno."
   ]
  },
  {
   "cell_type": "code",
   "execution_count": 24,
   "metadata": {},
   "outputs": [],
   "source": [
    "mtrain = 1000\n",
    "mtest = 1000\n",
    "X_train = X[:mtrain,:]\n",
    "y_train = y[:mtrain]\n",
    "\n",
    "X_test = X[mtrain+1:mtrain+mtest,:]\n",
    "y_test = y[mtrain+1:mtrain+mtest]"
   ]
  },
  {
   "cell_type": "markdown",
   "metadata": {},
   "source": [
    "Ejecuta el descenso por gradiente y comprueba que el valor del error desciende a lo largo de las iteraciones."
   ]
  },
  {
   "cell_type": "code",
   "execution_count": 25,
   "metadata": {},
   "outputs": [
    {
     "data": {
      "image/png": "[encoded data removed]",
      "text/plain": [
       "<Figure size 640x480 with 1 Axes>"
      ]
     },
     "metadata": {},
     "output_type": "display_data"
    }
   ],
   "source": [
    "w_ini = [0 for i in range(len(X[0]))]\n",
    "L, w = DescensoGradiente(X_train, y_train, w_ini)\n",
    "import matplotlib.pyplot as plt \n",
    "plt.plot(L)\n",
    "plt.show()"
   ]
  },
  {
   "cell_type": "markdown",
   "metadata": {},
   "source": [
    "Comparamos los valores de los pesos obtenidos con los valores obtenidos utilizando el método normal de Gauss:"
   ]
  },
  {
   "cell_type": "code",
   "execution_count": 26,
   "metadata": {},
   "outputs": [
    {
     "name": "stdout",
     "output_type": "stream",
     "text": [
      "[3866.04190716 2063.6327253   117.8226997   491.09936828  954.09404495\n",
      " -113.56857523   17.93239074  706.00658463  754.5576232   638.89326072]\n",
      "[  3882.22322537   5270.8855572     179.37161059    566.60560572\n",
      "    835.11334488   1553.57343944     34.65797958   3026.73749951\n",
      "   9833.18161583 -14201.20975509]\n"
     ]
    }
   ],
   "source": [
    "print(w)\n",
    "from numpy.linalg import inv\n",
    "w_opt = np.matmul(np.matmul(inv(np.matmul(X_train.T, X_train)),X_train.T), y_train)\n",
    "print(w_opt)"
   ]
  },
  {
   "cell_type": "markdown",
   "metadata": {},
   "source": [
    "Utilizando la función perceptron calcula el precio predicho para el conjunto de test con los parámetros $w_opt$ que has obtenido con la ecuación normal y llama al vector de predicciones y_p. Después obten las predicciones con los parámetros obtenidos con el descenso por gradiente y llamalos en y_pdg. En la siguiente celda se muestras los precios reales, los valores predichos por nuestro perceptrón y por el perceptrón con los pesos obtenidos por la ecuación normal en la gráfica quilates-precio:"
   ]
  },
  {
   "cell_type": "code",
   "execution_count": 27,
   "metadata": {},
   "outputs": [
    {
     "data": {
      "image/png": "[encoded data removed]",
      "text/plain": [
       "<Figure size 640x480 with 1 Axes>"
      ]
     },
     "metadata": {},
     "output_type": "display_data"
    }
   ],
   "source": [
    "w_opt = np.matmul(np.matmul(inv(np.matmul(X_train.T, X_train)),X_train.T), y_train)\n",
    "y_p = perceptron(X_test, w_opt)\n",
    "\n",
    "_, w_pdg = DescensoGradiente(X_train, y_train, w_ini)\n",
    "y_pdg = perceptron(X_test, w_pdg)\n",
    "\n",
    "plt.plot(X_test[:,1], y_test, 'bo', label='Precio Real')\n",
    "plt.plot(X_test[:,1], y_p, 'r.', label='Precio Predicho (Ecuación Normal)')\n",
    "plt.plot(X_test[:,1], y_pdg, 'g.', label='Precio Predicho (Descenso por Gradiente)')\n",
    "plt.legend()\n",
    "plt.show()"
   ]
  },
  {
   "cell_type": "markdown",
   "metadata": {},
   "source": [
    "*Extra*: Ya hemos dicho que es más difícil hacer que el algoritmo del descenso por gradiente converja cuando los datos no están normalizados, sin embargo en este problema se puede conseguir. Utilizando el conjunto de datos sin normalizar, encuentra los valores de alpha y número de iteraciones que hagan converger. ¿Qué valores de pesos del perceptrón obtienes?"
   ]
  },
  {
   "cell_type": "code",
   "execution_count": null,
   "metadata": {},
   "outputs": [],
   "source": []
  }
 ],
 "metadata": {
  "kernelspec": {
   "display_name": "Python 3 (ipykernel)",
   "language": "python",
   "name": "python3"
  },
  "language_info": {
   "codemirror_mode": {
    "name": "ipython",
    "version": 3
   },
   "file_extension": ".py",
   "mimetype": "text/x-python",
   "name": "python",
   "nbconvert_exporter": "python",
   "pygments_lexer": "ipython3",
   "version": "3.9.13"
  }
 },
 "nbformat": 4,
 "nbformat_minor": 2
}
