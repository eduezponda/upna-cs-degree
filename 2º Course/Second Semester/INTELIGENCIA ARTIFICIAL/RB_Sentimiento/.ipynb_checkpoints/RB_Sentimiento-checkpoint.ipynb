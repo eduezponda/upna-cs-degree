{
 "cells": [
  {
   "cell_type": "markdown",
   "metadata": {
    "id": "ItXfxkxvosLH"
   },
   "source": [
    "## Red Bayesiana para identificar el sentimiento de las revisiones de peliculas."
   ]
  },
  {
   "cell_type": "markdown",
   "metadata": {
    "id": "Eg62Pmz3o83v"
   },
   "source": [
    "En esta práctica vamos a crear una Red Bayesiana que ayude a identificar el sentimiento (opinión) de una pelicula que tiene un usuario a partir de la revisión que publicó en IMDB.\n",
    "\n",
    "Utilizaremos una base de datos de IMDB [IMDB dataset](https://www.kaggle.com/lakshmi25npathi/imdb-dataset-of-50k-movie-reviews) que contiene el texto de  50,000 revisiones de  [Internet Movie Database](https://www.imdb.com/). \n",
    "\n",
    "Todas las revisiones ya tienen una etiqueta *positive* o *negative*. Las revisiones están separadas en dos conjuntos: el conjunto de entrenamiento *train*, que utilizaremos para generar la Red Bayesiana y el conjunto de *test* que utilizaremos para comprobar la eficacia de la red a la hora de predecir la opinión del usuario. \n",
    "\n",
    "Este notebook utiliza  [nltk](https://www.nltk.org/)  para realizar operaciones con los textos. Si estas ejecutando este notebook en tu PC deberás instalar el paquete previamente."
   ]
  },
  {
   "cell_type": "code",
   "execution_count": 1,
   "metadata": {
    "id": "2ew7HTbPpCJH"
   },
   "outputs": [],
   "source": [
    "import numpy as np\n",
    "import pandas as pd\n",
    "import re\n",
    "import nltk\n",
    "import matplotlib.pyplot as plt"
   ]
  },
  {
   "cell_type": "markdown",
   "metadata": {
    "id": "iAsKG535pHep"
   },
   "source": [
    "La siguiente celda carga el IMDB dataset:"
   ]
  },
  {
   "cell_type": "code",
   "execution_count": 2,
   "metadata": {
    "id": "zXXx5Oc3pOmN"
   },
   "outputs": [
    {
     "data": {
      "text/html": [
       "<div>\n",
       "<style scoped>\n",
       "    .dataframe tbody tr th:only-of-type {\n",
       "        vertical-align: middle;\n",
       "    }\n",
       "\n",
       "    .dataframe tbody tr th {\n",
       "        vertical-align: top;\n",
       "    }\n",
       "\n",
       "    .dataframe thead th {\n",
       "        text-align: right;\n",
       "    }\n",
       "</style>\n",
       "<table border=\"1\" class=\"dataframe\">\n",
       "  <thead>\n",
       "    <tr style=\"text-align: right;\">\n",
       "      <th></th>\n",
       "      <th>review</th>\n",
       "      <th>sentiment</th>\n",
       "    </tr>\n",
       "  </thead>\n",
       "  <tbody>\n",
       "    <tr>\n",
       "      <th>0</th>\n",
       "      <td>One of the other reviewers has mentioned that ...</td>\n",
       "      <td>positive</td>\n",
       "    </tr>\n",
       "    <tr>\n",
       "      <th>1</th>\n",
       "      <td>A wonderful little production. &lt;br /&gt;&lt;br /&gt;The...</td>\n",
       "      <td>positive</td>\n",
       "    </tr>\n",
       "    <tr>\n",
       "      <th>2</th>\n",
       "      <td>I thought this was a wonderful way to spend ti...</td>\n",
       "      <td>positive</td>\n",
       "    </tr>\n",
       "    <tr>\n",
       "      <th>3</th>\n",
       "      <td>Basically there's a family where a little boy ...</td>\n",
       "      <td>negative</td>\n",
       "    </tr>\n",
       "    <tr>\n",
       "      <th>4</th>\n",
       "      <td>Petter Mattei's \"Love in the Time of Money\" is...</td>\n",
       "      <td>positive</td>\n",
       "    </tr>\n",
       "  </tbody>\n",
       "</table>\n",
       "</div>"
      ],
      "text/plain": [
       "                                              review sentiment\n",
       "0  One of the other reviewers has mentioned that ...  positive\n",
       "1  A wonderful little production. <br /><br />The...  positive\n",
       "2  I thought this was a wonderful way to spend ti...  positive\n",
       "3  Basically there's a family where a little boy ...  negative\n",
       "4  Petter Mattei's \"Love in the Time of Money\" is...  positive"
      ]
     },
     "execution_count": 2,
     "metadata": {},
     "output_type": "execute_result"
    }
   ],
   "source": [
    "imdb_data = pd.read_csv('IMDB Dataset.csv')\n",
    "imdb_data.head()"
   ]
  },
  {
   "cell_type": "markdown",
   "metadata": {
    "id": "l50X3GfjpU4r"
   },
   "source": [
    "## Conjunto de revisiones\n",
    "\n",
    "Cada ejemplo es un texto que representa la revisión de la pelicula y su *sentimiento* correspondiente. El texto no está procesado de ninguna forma.\n"
   ]
  },
  {
   "cell_type": "code",
   "execution_count": 3,
   "metadata": {},
   "outputs": [
    {
     "data": {
      "text/plain": [
       "positive    25000\n",
       "negative    25000\n",
       "Name: sentiment, dtype: int64"
      ]
     },
     "execution_count": 3,
     "metadata": {},
     "output_type": "execute_result"
    }
   ],
   "source": [
    "imdb_data['sentiment'].value_counts()"
   ]
  },
  {
   "cell_type": "code",
   "execution_count": 4,
   "metadata": {},
   "outputs": [],
   "source": [
    "#Dividir el dataset en un conjunto de entrenamiento para calcular las verosimilitudes y otro de test. \n",
    "#train dataset\n",
    "train_examples=list(imdb_data.review[:40000])\n",
    "train_labels=list(imdb_data.sentiment[:40000])\n",
    "#test dataset\n",
    "test_examples=list(imdb_data.review[40000:])\n",
    "test_labels=list(imdb_data.sentiment[40000:])\n"
   ]
  },
  {
   "cell_type": "code",
   "execution_count": 5,
   "metadata": {
    "id": "y8qCnve_-lkO",
    "scrolled": true
   },
   "outputs": [
    {
     "name": "stdout",
     "output_type": "stream",
     "text": [
      "Número de revisiones de entrenamiento: 40000, de test: 10000\n"
     ]
    }
   ],
   "source": [
    "print(\"Número de revisiones de entrenamiento: {}, de test: {}\".format(len(train_examples), len(test_examples)))"
   ]
  },
  {
   "cell_type": "markdown",
   "metadata": {
    "id": "RnKvHWW4-lkW"
   },
   "source": [
    "Vemos las 5 primeras revisiones"
   ]
  },
  {
   "cell_type": "code",
   "execution_count": 6,
   "metadata": {
    "id": "QtTS4kpEpjbi",
    "scrolled": true
   },
   "outputs": [
    {
     "data": {
      "text/plain": [
       "[\"One of the other reviewers has mentioned that after watching just 1 Oz episode you'll be hooked. They are right, as this is exactly what happened with me.<br /><br />The first thing that struck me about Oz was its brutality and unflinching scenes of violence, which set in right from the word GO. Trust me, this is not a show for the faint hearted or timid. This show pulls no punches with regards to drugs, sex or violence. Its is hardcore, in the classic use of the word.<br /><br />It is called OZ as that is the nickname given to the Oswald Maximum Security State Penitentary. It focuses mainly on Emerald City, an experimental section of the prison where all the cells have glass fronts and face inwards, so privacy is not high on the agenda. Em City is home to many..Aryans, Muslims, gangstas, Latinos, Christians, Italians, Irish and more....so scuffles, death stares, dodgy dealings and shady agreements are never far away.<br /><br />I would say the main appeal of the show is due to the fact that it goes where other shows wouldn't dare. Forget pretty pictures painted for mainstream audiences, forget charm, forget romance...OZ doesn't mess around. The first episode I ever saw struck me as so nasty it was surreal, I couldn't say I was ready for it, but as I watched more, I developed a taste for Oz, and got accustomed to the high levels of graphic violence. Not just violence, but injustice (crooked guards who'll be sold out for a nickel, inmates who'll kill on order and get away with it, well mannered, middle class inmates being turned into prison bitches due to their lack of street skills or prison experience) Watching Oz, you may become comfortable with what is uncomfortable viewing....thats if you can get in touch with your darker side.\",\n",
       " 'A wonderful little production. <br /><br />The filming technique is very unassuming- very old-time-BBC fashion and gives a comforting, and sometimes discomforting, sense of realism to the entire piece. <br /><br />The actors are extremely well chosen- Michael Sheen not only \"has got all the polari\" but he has all the voices down pat too! You can truly see the seamless editing guided by the references to Williams\\' diary entries, not only is it well worth the watching but it is a terrificly written and performed piece. A masterful production about one of the great master\\'s of comedy and his life. <br /><br />The realism really comes home with the little things: the fantasy of the guard which, rather than use the traditional \\'dream\\' techniques remains solid then disappears. It plays on our knowledge and our senses, particularly with the scenes concerning Orton and Halliwell and the sets (particularly of their flat with Halliwell\\'s murals decorating every surface) are terribly well done.',\n",
       " 'I thought this was a wonderful way to spend time on a too hot summer weekend, sitting in the air conditioned theater and watching a light-hearted comedy. The plot is simplistic, but the dialogue is witty and the characters are likable (even the well bread suspected serial killer). While some may be disappointed when they realize this is not Match Point 2: Risk Addiction, I thought it was proof that Woody Allen is still fully in control of the style many of us have grown to love.<br /><br />This was the most I\\'d laughed at one of Woody\\'s comedies in years (dare I say a decade?). While I\\'ve never been impressed with Scarlet Johanson, in this she managed to tone down her \"sexy\" image and jumped right into a average, but spirited young woman.<br /><br />This may not be the crown jewel of his career, but it was wittier than \"Devil Wears Prada\" and more interesting than \"Superman\" a great comedy to go see with friends.',\n",
       " \"Basically there's a family where a little boy (Jake) thinks there's a zombie in his closet & his parents are fighting all the time.<br /><br />This movie is slower than a soap opera... and suddenly, Jake decides to become Rambo and kill the zombie.<br /><br />OK, first of all when you're going to make a film you must Decide if its a thriller or a drama! As a drama the movie is watchable. Parents are divorcing & arguing like in real life. And then we have Jake with his closet which totally ruins all the film! I expected to see a BOOGEYMAN similar movie, and instead i watched a drama with some meaningless thriller spots.<br /><br />3 out of 10 just for the well playing parents & descent dialogs. As for the shots with Jake: just ignore them.\",\n",
       " 'Petter Mattei\\'s \"Love in the Time of Money\" is a visually stunning film to watch. Mr. Mattei offers us a vivid portrait about human relations. This is a movie that seems to be telling us what money, power and success do to people in the different situations we encounter. <br /><br />This being a variation on the Arthur Schnitzler\\'s play about the same theme, the director transfers the action to the present time New York where all these different characters meet and connect. Each one is connected in one way, or another to the next person, but no one seems to know the previous point of contact. Stylishly, the film has a sophisticated luxurious look. We are taken to see how these people live and the world they live in their own habitat.<br /><br />The only thing one gets out of all these souls in the picture is the different stages of loneliness each one inhabits. A big city is not exactly the best place in which human relations find sincere fulfillment, as one discerns is the case with most of the people we encounter.<br /><br />The acting is good under Mr. Mattei\\'s direction. Steve Buscemi, Rosario Dawson, Carol Kane, Michael Imperioli, Adrian Grenier, and the rest of the talented cast, make these characters come alive.<br /><br />We wish Mr. Mattei good luck and await anxiously for his next work.']"
      ]
     },
     "execution_count": 6,
     "metadata": {},
     "output_type": "execute_result"
    }
   ],
   "source": [
    "train_examples[:5]"
   ]
  },
  {
   "cell_type": "markdown",
   "metadata": {
    "id": "IFtaCHTdc-GY"
   },
   "source": [
    "que tienen los siguientes *labels*:"
   ]
  },
  {
   "cell_type": "code",
   "execution_count": 7,
   "metadata": {
    "id": "tvAjVXOWc6Mj"
   },
   "outputs": [
    {
     "data": {
      "text/plain": [
       "['positive', 'positive', 'positive', 'negative', 'positive']"
      ]
     },
     "execution_count": 7,
     "metadata": {},
     "output_type": "execute_result"
    }
   ],
   "source": [
    "train_labels[:5]"
   ]
  },
  {
   "cell_type": "markdown",
   "metadata": {
    "id": "PaOh4yrzMcd2"
   },
   "source": [
    "Primero procesamos el texto de las revisiones para eliminar las puntuaciones y otros símbolos:"
   ]
  },
  {
   "cell_type": "code",
   "execution_count": 5,
   "metadata": {
    "id": "pq2aagUp5zxc"
   },
   "outputs": [],
   "source": [
    "REPLACE_NO_SPACE = re.compile(\"(\\.)|(\\;)|(\\:)|(\\!)|(\\')|(\\?)|(\\,)|(\\\")|(\\()|(\\))|(\\[)|(\\])|(\\d+)\")\n",
    "REPLACE_WITH_SPACE = re.compile(\"(<br\\s*/><br\\s*/>)|(\\-)|(\\/)\")\n",
    "NO_SPACE = \"\"\n",
    "SPACE = \" \"\n",
    "\n",
    "def preprocess_reviews(reviews): \n",
    "    reviews = [REPLACE_NO_SPACE.sub(NO_SPACE, str(line).lower()) for line in reviews]\n",
    "    reviews = [REPLACE_WITH_SPACE.sub(SPACE, str(line)) for line in reviews]\n",
    "    return reviews\n",
    "\n",
    "train_reviews_clean = preprocess_reviews(train_examples)\n",
    "test_reviews_clean = preprocess_reviews(test_examples)"
   ]
  },
  {
   "cell_type": "markdown",
   "metadata": {
    "id": "FYM1HGQJMt5I"
   },
   "source": [
    "Además, vamos a eliminar de los textos las palabras más comunes del inglés (que se denominan stopwords) ya que no aportan información sobre si el texto es una opinión positiva o negativa. En el siguiente ejemplo vemos como se eliminan las palabras más comunes:"
   ]
  },
  {
   "cell_type": "code",
   "execution_count": 7,
   "metadata": {
    "id": "ZkFWlWfL6UGU",
    "scrolled": true
   },
   "outputs": [
    {
     "name": "stdout",
     "output_type": "stream",
     "text": [
      "['This', 'is', 'a', 'sample', 'sentence', ',', 'showing', 'off', 'the', 'stop', 'words', 'filtration', '.']\n",
      "['This', 'sample', 'sentence', ',', 'showing', 'stop', 'words', 'filtration', '.']\n"
     ]
    },
    {
     "name": "stderr",
     "output_type": "stream",
     "text": [
      "[nltk_data] Downloading package punkt to /home/eduardo/nltk_data...\n",
      "[nltk_data]   Package punkt is already up-to-date!\n",
      "[nltk_data] Downloading package stopwords to\n",
      "[nltk_data]     /home/eduardo/nltk_data...\n",
      "[nltk_data]   Package stopwords is already up-to-date!\n"
     ]
    }
   ],
   "source": [
    "nltk.download('punkt')\n",
    "nltk.download('stopwords')\n",
    "from nltk.corpus import stopwords\n",
    "from nltk.tokenize import word_tokenize\n",
    "\n",
    "ejemplo = \"This is a sample sentence, showing off the stop words filtration.\"\n",
    "stop_words = set(stopwords.words('english'))\n",
    "\n",
    "word_tokens = word_tokenize(ejemplo)\n",
    "filtered_sentence = [w for w in word_tokens if not w in stop_words]\n",
    "print(word_tokens)\n",
    "print(filtered_sentence)"
   ]
  },
  {
   "cell_type": "markdown",
   "metadata": {},
   "source": [
    "Convertimos cada review en una lista con las palabras procesadas:"
   ]
  },
  {
   "cell_type": "code",
   "execution_count": 8,
   "metadata": {
    "id": "e05akWjT6X0z"
   },
   "outputs": [],
   "source": [
    "#lista de todas las palabras conjunto de train\n",
    "train_reviews = []\n",
    "for review in train_reviews_clean:\n",
    "    tokens = nltk.word_tokenize(review)\n",
    "    filtered_sentence = [w for w in tokens if not w in stop_words]\n",
    "    train_reviews.append(filtered_sentence)"
   ]
  },
  {
   "cell_type": "code",
   "execution_count": 11,
   "metadata": {},
   "outputs": [
    {
     "data": {
      "text/plain": [
       "['petter',\n",
       " 'matteis',\n",
       " 'love',\n",
       " 'time',\n",
       " 'money',\n",
       " 'visually',\n",
       " 'stunning',\n",
       " 'film',\n",
       " 'watch',\n",
       " 'mr',\n",
       " 'mattei',\n",
       " 'offers',\n",
       " 'us',\n",
       " 'vivid',\n",
       " 'portrait',\n",
       " 'human',\n",
       " 'relations',\n",
       " 'movie',\n",
       " 'seems',\n",
       " 'telling',\n",
       " 'us',\n",
       " 'money',\n",
       " 'power',\n",
       " 'success',\n",
       " 'people',\n",
       " 'different',\n",
       " 'situations',\n",
       " 'encounter',\n",
       " 'variation',\n",
       " 'arthur',\n",
       " 'schnitzlers',\n",
       " 'play',\n",
       " 'theme',\n",
       " 'director',\n",
       " 'transfers',\n",
       " 'action',\n",
       " 'present',\n",
       " 'time',\n",
       " 'new',\n",
       " 'york',\n",
       " 'different',\n",
       " 'characters',\n",
       " 'meet',\n",
       " 'connect',\n",
       " 'one',\n",
       " 'connected',\n",
       " 'one',\n",
       " 'way',\n",
       " 'another',\n",
       " 'next',\n",
       " 'person',\n",
       " 'one',\n",
       " 'seems',\n",
       " 'know',\n",
       " 'previous',\n",
       " 'point',\n",
       " 'contact',\n",
       " 'stylishly',\n",
       " 'film',\n",
       " 'sophisticated',\n",
       " 'luxurious',\n",
       " 'look',\n",
       " 'taken',\n",
       " 'see',\n",
       " 'people',\n",
       " 'live',\n",
       " 'world',\n",
       " 'live',\n",
       " 'habitat',\n",
       " 'thing',\n",
       " 'one',\n",
       " 'gets',\n",
       " 'souls',\n",
       " 'picture',\n",
       " 'different',\n",
       " 'stages',\n",
       " 'loneliness',\n",
       " 'one',\n",
       " 'inhabits',\n",
       " 'big',\n",
       " 'city',\n",
       " 'exactly',\n",
       " 'best',\n",
       " 'place',\n",
       " 'human',\n",
       " 'relations',\n",
       " 'find',\n",
       " 'sincere',\n",
       " 'fulfillment',\n",
       " 'one',\n",
       " 'discerns',\n",
       " 'case',\n",
       " 'people',\n",
       " 'encounter',\n",
       " 'acting',\n",
       " 'good',\n",
       " 'mr',\n",
       " 'matteis',\n",
       " 'direction',\n",
       " 'steve',\n",
       " 'buscemi',\n",
       " 'rosario',\n",
       " 'dawson',\n",
       " 'carol',\n",
       " 'kane',\n",
       " 'michael',\n",
       " 'imperioli',\n",
       " 'adrian',\n",
       " 'grenier',\n",
       " 'rest',\n",
       " 'talented',\n",
       " 'cast',\n",
       " 'make',\n",
       " 'characters',\n",
       " 'come',\n",
       " 'alive',\n",
       " 'wish',\n",
       " 'mr',\n",
       " 'mattei',\n",
       " 'good',\n",
       " 'luck',\n",
       " 'await',\n",
       " 'anxiously',\n",
       " 'next',\n",
       " 'work']"
      ]
     },
     "execution_count": 11,
     "metadata": {},
     "output_type": "execute_result"
    }
   ],
   "source": [
    "train_reviews[4]"
   ]
  },
  {
   "cell_type": "markdown",
   "metadata": {
    "id": "Mvc0RwGUNTzG"
   },
   "source": [
    "## Red Bayesiana\n",
    "La RB que vamos a utilizar para predecir si la revisión fué escrita por un usuario con una opinión positiva de la pelicula tiene una variable oculta, el sentimiento del usuario *positivo* o *negativo* hacia la pelicula y muchas variables de evidencia, que son las palabras que aparecen en su comentario. ![Red Bayesiana](sentimiento.jpg)\n",
    "\n",
    "Por ejemplo, podemos pensar que si la opinión de es positiva entonces la palabra *good* tiene probabilidades altas de aparecer en el comentario. Es decir, que P(good|positivo) tendrá un valor alto. Para calcular el valor de las **verosimilitudes**, es decir de las probabilidades de que una palabra aparezca condicionado a que en el comentario sea positivo P(palabra|positivo)  vamos a utilizar el conjunto de entrenamiento (para el caso negativo igual). Para calcular la probabilidad de que una palabra aparezca condicionado a que sea un comentario positivo utilizaremos la siguiente división:\n",
    "\n",
    "$P(palabra|positivo) = \\frac{\\# palabra-y-positivo}{\\# palabra}$\n",
    "\n",
    "Por ejemplo, para la palabra good dividiremos el número de veces que aparece la palabra good en un comentario positivo entre el número de veces totales que aparece la palabra good. "
   ]
  },
  {
   "cell_type": "markdown",
   "metadata": {
    "id": "zhBTiz6lfuJm"
   },
   "source": [
    "Haz un diccionario 'conteo_palabra' en el que cuentes el número de veces que aparece una palabra en todas las revisiones de entrenamiento:"
   ]
  },
  {
   "cell_type": "code",
   "execution_count": 9,
   "metadata": {
    "id": "OUaiVJOqUVSW"
   },
   "outputs": [
    {
     "name": "stdout",
     "output_type": "stream",
     "text": [
      "23831\n"
     ]
    }
   ],
   "source": [
    "conteo_palabra = {}\n",
    "for review in train_reviews:\n",
    "    for word in review:\n",
    "        if word in conteo_palabra:\n",
    "            conteo_palabra[word] += 1\n",
    "        else:\n",
    "            conteo_palabra[word] = 1\n",
    "        \n",
    "print(conteo_palabra['good'])\n",
    "      "
   ]
  },
  {
   "cell_type": "markdown",
   "metadata": {
    "id": "vF6uCR-JgYIL"
   },
   "source": [
    "Ahora crea un diccionario en el que se almacenan las veces que aparece una palabra en un comentario positivo:"
   ]
  },
  {
   "cell_type": "code",
   "execution_count": 30,
   "metadata": {
    "id": "KIzfVUUHU5lW"
   },
   "outputs": [
    {
     "name": "stdout",
     "output_type": "stream",
     "text": [
      "11999\n"
     ]
    }
   ],
   "source": [
    "conteo_palabra_positivo = {}\n",
    "for i in range (len(train_reviews)):\n",
    "    if train_labels[i] == 'positive':\n",
    "        for word in train_reviews[i]:\n",
    "            if word in conteo_palabra_positivo:\n",
    "                conteo_palabra_positivo[word] += 1\n",
    "            else:\n",
    "                conteo_palabra_positivo[word] = 1\n",
    "conteo_palabra_negativo = {}\n",
    "for i in range (len(train_reviews)):\n",
    "    if train_labels[i] == 'negative':\n",
    "        for word in train_reviews[i]:\n",
    "            if word in conteo_palabra_negativo:\n",
    "                conteo_palabra_negativo[word] += 1\n",
    "            else:\n",
    "                conteo_palabra_negativo[word] = 1\n",
    "print(conteo_palabra_positivo['good'])"
   ]
  },
  {
   "cell_type": "markdown",
   "metadata": {
    "id": "beolJsmagPRL"
   },
   "source": [
    "Crea un función a la que le pasemos una palabra y devuelva la probabilidad:\n",
    "\n",
    "$P(palabra|positivo) = \\frac{\\# positivo-y-palabra}{\\# palabra}$\n",
    "\n",
    "Si ocurre que la palabra no ha aparecido nunca en un comentario positivo la función debe devolver un valor pequeño, por ejemplo 0.01."
   ]
  },
  {
   "cell_type": "code",
   "execution_count": 35,
   "metadata": {
    "id": "p90JyE2kVgcW"
   },
   "outputs": [
    {
     "name": "stdout",
     "output_type": "stream",
     "text": [
      "0.5035038395367378\n"
     ]
    }
   ],
   "source": [
    "def prob_pos_cond(word):\n",
    "    if word in conteo_palabra_positivo:\n",
    "        return conteo_palabra_positivo[word] / conteo_palabra[word]\n",
    "    return 0.01\n",
    "def prob_neg_cond(word):\n",
    "    if word in conteo_palabra_negativo:\n",
    "        return conteo_palabra_negativo[word]/ conteo_palabra[word]\n",
    "    return 0.01\n",
    "\n",
    "print(prob_pos_cond('good'))"
   ]
  },
  {
   "cell_type": "code",
   "execution_count": 36,
   "metadata": {
    "id": "TEhbjHkDklJx"
   },
   "outputs": [
    {
     "name": "stdout",
     "output_type": "stream",
     "text": [
      "0.5035038395367378\n",
      "0.5599214145383105\n",
      "0.7178082191780822\n",
      "0.8100303951367781\n",
      "0.13615502294747578\n",
      "0.08684396328547894\n",
      "0.18162911611785096\n"
     ]
    }
   ],
   "source": [
    "ejemplo = ['good', 'nice', 'awesome', 'terrific', 'horrible', 'worst', 'boring' ] \n",
    "for p in ejemplo:\n",
    "    print(prob_pos_cond(p))"
   ]
  },
  {
   "cell_type": "markdown",
   "metadata": {
    "id": "tUUi_GLlh5mU"
   },
   "source": [
    "La distribución de la Red Bayesiana la podemos expresar como:\n",
    "\n",
    "$P(sentimiento, palabra_1, palabra_2,...) = P(sentimiento) \\cdot \\prod_i P(palabra_i|sentimiento)$\n",
    "\n",
    "Por tanto, para calcular la probabilidad de que una revisión sea una opinión positiva hay que calcular el producto de $P(positivo) \\cdot \\prod_i P(palabra_i|positivo)$  para la revisión y ver si es mayor que la probabilidad de que la frase sea negativa $P(negativo) \\cdot \\prod_i P(palabra_i|negativo)$. \n",
    "Por la forma en la que calculamos P(palabra_i|positivo), tenemos que  $P(palabra_i|negativo) = 1 - P(palabra_i|positivo)$ (aunque ya vimos que esto no es cierto en general).\n",
    "\n",
    "Ten en cuenta que tienes que calcular  P(positive) y P(negative) para el conjunto de entrenamiento.\n",
    "\n",
    "### Importante:\n",
    "Como las probabilidades son valores entre 0 y 1 y las revisiones pueden tener muchas palabras, en lugar de realizar la multiplicación de las probabilidades, se calcula **la suma de los logaritmos de las probabilidades** para evitar llegar al cero float.\n",
    "\n",
    "Haz dos funciones diferentes, una que devuelva la probabilidad de que una review sea un comentario positivo y otra que devuelva la probabilidad de ser un comentario negativo (la probabilidad debe ser la suma de los logaritmos)."
   ]
  },
  {
   "cell_type": "code",
   "execution_count": 37,
   "metadata": {
    "id": "_e7Y_FLaV8z3"
   },
   "outputs": [],
   "source": [
    "import math\n",
    "def prob_frase_pos(frase):\n",
    "    prob = 0\n",
    "    for word in frase:\n",
    "        prob += math.log(prob_pos_cond(word))\n",
    "    return prob\n",
    "\n",
    "def prob_frase_neg(frase):\n",
    "    prob = 0\n",
    "    for word in frase:\n",
    "        prob += math.log(prob_neg_cond(word))\n",
    "    return prob"
   ]
  },
  {
   "cell_type": "markdown",
   "metadata": {
    "id": "PvcGI7N6kScD"
   },
   "source": [
    "Utilizando el propio conjunto de entrenamiento calcula el porcentaje de comentarios que la red bayesiana predice correctamente el sentimiento del comentario:"
   ]
  },
  {
   "cell_type": "code",
   "execution_count": 39,
   "metadata": {
    "id": "UdggqiWhXCYE"
   },
   "outputs": [
    {
     "name": "stdout",
     "output_type": "stream",
     "text": [
      "Porcentaje de acierto: 0.94565\n"
     ]
    }
   ],
   "source": [
    "# Comprobar el acierto sobre el conjunto de train\n",
    "aciertos=0\n",
    "for i in range (len(train_reviews)):\n",
    "    if prob_frase_pos(train_reviews[i]) > prob_frase_neg(train_reviews[i]) and train_labels[i] == 'positive':\n",
    "        aciertos += 1\n",
    "    if prob_frase_pos(train_reviews[i]) < prob_frase_neg(train_reviews[i]) and train_labels[i] == 'negative':\n",
    "        aciertos += 1\n",
    "print('Porcentaje de acierto:', aciertos/len(train_reviews))"
   ]
  },
  {
   "cell_type": "markdown",
   "metadata": {
    "id": "C7XeEyxCl07Z"
   },
   "source": [
    "Modifica las funciones para calcular la probabilidad de que una frase sea positiva o negativa para que el parámetro de entrada sea una revisión original del conjunto de test. La función debe procesar la frase, eliminar caracteres, eliminar las stop words y convertir la review en una lista de palabras. Además debes tener en cuenta que puede haber palabras en las revisiones de test que no han aparecido en el conjunto de entrenamiento. Para estos casos, no se suma ninguna probabilidad."
   ]
  },
  {
   "cell_type": "markdown",
   "metadata": {
    "id": "V-H6zjphmtAp"
   },
   "source": [
    "Calcula el porcentaje de acierto para el conjunto de revisiones de test."
   ]
  },
  {
   "cell_type": "code",
   "execution_count": 43,
   "metadata": {},
   "outputs": [
    {
     "name": "stdout",
     "output_type": "stream",
     "text": [
      "0.9772\n"
     ]
    }
   ],
   "source": [
    "test_reviews_clean = preprocess_reviews(test_examples)\n",
    "stop_words = set(stopwords.words('english'))\n",
    "test_reviews = []\n",
    "for review in test_reviews_clean:\n",
    "    tokens = nltk.word_tokenize(review)\n",
    "    filtered_sentence = [w for w in tokens if not w in stop_words]\n",
    "    test_reviews.append(filtered_sentence)\n",
    "conteo_palabra = {}\n",
    "for review in test_reviews:\n",
    "    for word in review:\n",
    "        if word in conteo_palabra:\n",
    "            conteo_palabra[word] += 1\n",
    "        else:\n",
    "            conteo_palabra[word] = 1\n",
    "conteo_palabra_positivo = {}\n",
    "for i in range (len(test_reviews)):\n",
    "    if test_labels[i] == 'positive':\n",
    "        for word in test_reviews[i]:\n",
    "            if word in conteo_palabra_positivo:\n",
    "                conteo_palabra_positivo[word] += 1\n",
    "            else:\n",
    "                conteo_palabra_positivo[word] = 1\n",
    "conteo_palabra_negativo = {}\n",
    "for i in range (len(test_reviews)):\n",
    "    if test_labels[i] == 'negative':\n",
    "        for word in test_reviews[i]:\n",
    "            if word in conteo_palabra_negativo:\n",
    "                conteo_palabra_negativo[word] += 1\n",
    "            else:\n",
    "                conteo_palabra_negativo[word] = 1\n",
    "\n",
    "def probabilidad (test_examples):\n",
    "    test_reviews_clean = preprocess_reviews(test_examples)\n",
    "    stop_words = set(stopwords.words('english'))\n",
    "    test_reviews = []\n",
    "    for review in test_reviews_clean:\n",
    "        tokens = nltk.word_tokenize(review)\n",
    "        filtered_sentence = [w for w in tokens if not w in stop_words]\n",
    "        test_reviews.append(filtered_sentence)\n",
    "    aciertos=0\n",
    "    for i in range (len(test_reviews)):\n",
    "        if prob_frase_pos(test_reviews[i]) > prob_frase_neg(test_reviews[i]) and test_labels[i] == 'positive':\n",
    "            aciertos += 1\n",
    "        if prob_frase_pos(test_reviews[i]) < prob_frase_neg(test_reviews[i]) and test_labels[i] == 'negative':\n",
    "            aciertos += 1\n",
    "    return aciertos / len(test_reviews)\n",
    "\n",
    "test_examples=list(imdb_data.review[40000:])\n",
    "test_labels=list(imdb_data.sentiment[40000:])\n",
    "print(probabilidad(test_examples))\n",
    "    "
   ]
  },
  {
   "cell_type": "code",
   "execution_count": null,
   "metadata": {},
   "outputs": [],
   "source": []
  }
 ],
 "metadata": {
  "colab": {
   "collapsed_sections": [],
   "name": "Copia de basic-text-classification.ipynb",
   "private_outputs": true,
   "provenance": [],
   "toc_visible": true
  },
  "kernelspec": {
   "display_name": "Python 3 (ipykernel)",
   "language": "python",
   "name": "python3"
  },
  "language_info": {
   "codemirror_mode": {
    "name": "ipython",
    "version": 3
   },
   "file_extension": ".py",
   "mimetype": "text/x-python",
   "name": "python",
   "nbconvert_exporter": "python",
   "pygments_lexer": "ipython3",
   "version": "3.9.13"
  }
 },
 "nbformat": 4,
 "nbformat_minor": 1
}
