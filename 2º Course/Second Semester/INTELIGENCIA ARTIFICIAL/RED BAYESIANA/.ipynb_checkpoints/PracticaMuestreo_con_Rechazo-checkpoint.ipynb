{
 "cells": [
  {
   "cell_type": "markdown",
   "metadata": {},
   "source": [
    "## Practica método de Muestreo aleatorio para la inferencia en Redes Bayesianas\n",
    "\n",
    "En esta práctica vamos a programar el método de muestreo aleatorio para la inferencia en Redes Bayesianas. "
   ]
  },
  {
   "cell_type": "markdown",
   "metadata": {},
   "source": [
    "En el método del muestreo aleatorio se generan N ejemplos de la distribución de la RB. Estos ejemplos se generan muestreando cada nodo de la red de arriba a abajo. Después,se utilizan las muestras que contienen la evidencia = e y la querie para estimar la probabilidad condicionada."
   ]
  },
  {
   "cell_type": "markdown",
   "metadata": {},
   "source": [
    "## Nodos y Grafos \n",
    "Para implementar los nodos de una Red Bayesiana y el Grafo vamos a utilizar clases y diccionarios de python. En la siguiente celda la clase nodo representa un nodo de la Red Bayesiana. Como información tiene:\n",
    "- padres: lista donde se almacenan los nodos padres\n",
    "- hijos: lista donde se almacenan los nodos hijos\n",
    "- p: lista con la tabla de probabilidades\n",
    "- state: El estado de la variable. En principio como es una variable aletaria desconocemos su valor, por eso se inicia a None. Si 'vemos' el valor de la variable, es decir si esa variable es una evidencia, conocemos su valor. Entonces podremos cambiar el estado al valor de la variable. En esta práctica las variables son binarias, por lo tanto el estado podrá ser 0 (positivo) o 1 (negativo).\n",
    "- num_states: el número de posibles estados\n",
    "- states: los valores de los estados (como vamos a trabajar con variables binarias los estados serán 0 o 1.\n"
   ]
  },
  {
   "cell_type": "code",
   "execution_count": 1,
   "metadata": {},
   "outputs": [],
   "source": [
    "import random\n",
    "class nodo:\n",
    "    def __init__(self, padres, hijos, p):\n",
    "        self.padres = padres\n",
    "        self.hijos = hijos\n",
    "        self.p = p\n",
    "        \n",
    "        self.num_states = 2\n",
    "        self.states = [0, 1]\n",
    "        self.state = None\n",
    "        \n",
    "    \n",
    "    def sample(self, estado_padres):\n",
    "        prob = random.random()\n",
    "        if (len(estado_padres) == 0):\n",
    "            if (prob < self.p[0]):\n",
    "                self.state = 0\n",
    "            else:\n",
    "                self.state = 1\n",
    "        elif (len(estado_padres) == 1):\n",
    "            if prob < self.p[estado_padres[0]][0]:\n",
    "                self.state = 0\n",
    "            else:\n",
    "                self.state = 1\n",
    "        else:\n",
    "            if prob < self.p[estado_padres[0]][estado_padres[1]][0]:\n",
    "                self.state = 0\n",
    "            else:\n",
    "                self.state = 1\n",
    "\n",
    "            "
   ]
  },
  {
   "cell_type": "markdown",
   "metadata": {},
   "source": [
    "En esta práctica vamos a trabajar con la RB que tenía las variables Nublado, Aspersor, Lluvia y Mojado. En la siguiente celda definimos la distribución de probabilidad de la variable Nublado y creamos un objeto nodo. Las listas de hijos y padres continen la información de las relaciones entre las variables. Vamos a crear unas etiquetas, valores enteros, para identificar cada nodo:\n",
    "- Nublado: 0\n",
    "- Aspersor: 1\n",
    "- Lluvia: 2\n",
    "- Mojado: 3"
   ]
  },
  {
   "cell_type": "code",
   "execution_count": 2,
   "metadata": {},
   "outputs": [],
   "source": [
    "# Nublado\n",
    "pN = [0.5, 0.5]\n",
    "Nublado = nodo([], [1,2], pN)"
   ]
  },
  {
   "cell_type": "code",
   "execution_count": 3,
   "metadata": {},
   "outputs": [],
   "source": [
    "# Aspersor\n",
    "pA = [[0.1, 0.9], [0.5, 0.5]] #probabilidad de que A=true/false dado que N=true o false (N es padre de A)\n",
    "Aspersor = nodo([0],[3], pA)"
   ]
  },
  {
   "cell_type": "markdown",
   "metadata": {},
   "source": [
    "Si quiero ver la probabilidad de que el aspersor se encienda si el cielo está nublado:"
   ]
  },
  {
   "cell_type": "code",
   "execution_count": 4,
   "metadata": {},
   "outputs": [
    {
     "name": "stdout",
     "output_type": "stream",
     "text": [
      "0.1\n"
     ]
    }
   ],
   "source": [
    "# pongo el estado de nublado a positivo:\n",
    "Nublado.state = 0\n",
    "print(Aspersor.p[Nublado.state][0]) #primera variable para decir si nublado, y segunda para ver aspersor encendido"
   ]
  },
  {
   "cell_type": "markdown",
   "metadata": {},
   "source": [
    "Completa la tabla con la distribución de la variable Lluvia y la variable Mojado y crea sus nodos:"
   ]
  },
  {
   "cell_type": "code",
   "execution_count": 5,
   "metadata": {},
   "outputs": [],
   "source": [
    "# Lluvia\n",
    "pL = [[0.8,0.2],[0.3,0.7]]\n",
    "Lluvia = nodo([0],[3],pL)"
   ]
  },
  {
   "cell_type": "code",
   "execution_count": 6,
   "metadata": {},
   "outputs": [],
   "source": [
    "#Mojado\n",
    "pM = [[[1,0],[0.9,0.1]],[[0.9,0.1],[0.01,0.99]]]\n",
    "Mojado = nodo([1,2],[],pM)"
   ]
  },
  {
   "cell_type": "markdown",
   "metadata": {},
   "source": [
    "Pon los estados de aspersor y lluvia con valor 1 y comprueba la probabilidad de que el suelo esté mojado condicionado a no aspersor y no lluvia: "
   ]
  },
  {
   "cell_type": "code",
   "execution_count": 7,
   "metadata": {},
   "outputs": [
    {
     "name": "stdout",
     "output_type": "stream",
     "text": [
      "0.01\n"
     ]
    }
   ],
   "source": [
    "Aspersor.state = 1\n",
    "Lluvia.state = 1\n",
    "print(Mojado.p[Aspersor.state][Lluvia.state][0])\n"
   ]
  },
  {
   "cell_type": "markdown",
   "metadata": {},
   "source": [
    "El Grafo lo guardamos en un diccionario en el que la clave es la etiqueta de cada nodo y el valor es el propio nodo:"
   ]
  },
  {
   "cell_type": "code",
   "execution_count": 8,
   "metadata": {},
   "outputs": [],
   "source": [
    "Grafo = {0: Nublado, 1:Aspersor, 2:Lluvia, 3:Mojado}"
   ]
  },
  {
   "cell_type": "code",
   "execution_count": 9,
   "metadata": {},
   "outputs": [
    {
     "name": "stdout",
     "output_type": "stream",
     "text": [
      "{0: 0, 1: 1, 2: 1, 3: None}\n"
     ]
    }
   ],
   "source": [
    "# Esta función pasa los estados de cada nodo del grafo a un diccionario y lo imprime\n",
    "def imprime(g):\n",
    "    totalstate={}\n",
    "    for nodo in g.keys():\n",
    "        totalstate[nodo] = g[nodo].state\n",
    "    print(totalstate)\n",
    "imprime(Grafo)"
   ]
  },
  {
   "cell_type": "markdown",
   "metadata": {},
   "source": [
    "Crea una función que recorra todos los nodos de un grafo y ponga todos sus estados a None:"
   ]
  },
  {
   "cell_type": "code",
   "execution_count": 10,
   "metadata": {},
   "outputs": [],
   "source": [
    "def reset_grafo(g):\n",
    "    totalstate={}\n",
    "    for nodo in g.keys():\n",
    "        g[nodo].state = None\n",
    "    return g\n",
    "g = reset_grafo({0: Nublado, 1:Aspersor, 2:Lluvia, 3:Mojado})"
   ]
  },
  {
   "cell_type": "markdown",
   "metadata": {},
   "source": [
    "Ahora vamos implementar un recorrido en anchura del grafo para generar una muestra. El objetivo es ir recorriendo en anhura los nodos del grafo, y en cada nodo mediante un número aleatorio modificar el estado del nodo. Para modificar el estado del nodo, primero debes volver a la celda inicial y completar el método sample(). Este nuevo nodo tiene como parámetro una lista con los estados de los nodos padres para poder acceder a la probabilidad condicionada y cambia el estado del nodo a 0 o 1 dependiendo del valor aleatorio que se genera dentro del método. Ten en cuenta que en nuestro ejemplo hay un nodo que no tiene ningún padre, otros nodos tiene un padre y otro nodo tiene dos padres. \n",
    "Comprueba que el método sample funciona:"
   ]
  },
  {
   "cell_type": "code",
   "execution_count": 21,
   "metadata": {},
   "outputs": [
    {
     "name": "stdout",
     "output_type": "stream",
     "text": [
      "0\n",
      "{0: 0, 1: 1, 2: 0, 3: 0}\n"
     ]
    }
   ],
   "source": [
    "Mojado.sample([0,1])\n",
    "print(Mojado.state)"
   ]
  },
  {
   "cell_type": "markdown",
   "metadata": {},
   "source": [
    "Completa la función recorrido_anchura en que recorras el grafo en anchura. Utiliza la versión iterativa con la que trabajamos en búsquedas con la lista de abiertos y cerrados. En este caso cada vez que tengas un nodo en actual se llama al método sample y se cambia el estado de ese nodo. Al acabar de recorrer el grafo, todas las variables tendrán un estado, es decir se habrá generado una muestra aleatoria. El nodo que se pasa como parámetro es el nodo raiz del grafo."
   ]
  },
  {
   "cell_type": "code",
   "execution_count": 31,
   "metadata": {},
   "outputs": [
    {
     "name": "stdout",
     "output_type": "stream",
     "text": [
      "{0: 0, 1: 1, 2: 1, 3: 1}\n"
     ]
    }
   ],
   "source": [
    "from collections import deque\n",
    "def recorrido_anchura(node, graph):\n",
    "    abiertos = deque([node])\n",
    "    cerrados = []\n",
    "    actual = None\n",
    "    while (len(abiertos) > 0):\n",
    "        actual = abiertos.popleft()\n",
    "        cerrados.append(actual)\n",
    "        estado_padres =  []\n",
    "        for i in range(len(actual.padres)):\n",
    "            estado_padres.append(graph[actual.padres[i]].state)\n",
    "        actual.sample(estado_padres)\n",
    "        sucesores = actual.hijos\n",
    "        nuevos_sucesores = []\n",
    "        for sucesor in sucesores:\n",
    "            sucesor = graph[sucesor]\n",
    "            if not sucesor in abiertos and not sucesor in cerrados:\n",
    "                nuevos_sucesores.append(sucesor)\n",
    "        abiertos.extend(nuevos_sucesores)\n",
    "    return graph\n",
    "reset_grafo(Grafo)\n",
    "imprime(recorrido_anchura(Nublado, Grafo))"
   ]
  },
  {
   "cell_type": "markdown",
   "metadata": {},
   "source": [
    "Cada muestra la vamos a representar mediante un diccionario, por ejemplo este diccionario es una muestra:\n",
    "\n",
    "{0:1, 1:0, 2:1, 3:0}\n",
    "\n",
    "Crea una función que primero resetea el grafo, después realiza un recorrido en anchura y finalmente devuelve una muestra con los estados de los nodos del grafo."
   ]
  },
  {
   "cell_type": "code",
   "execution_count": 25,
   "metadata": {},
   "outputs": [
    {
     "name": "stdout",
     "output_type": "stream",
     "text": [
      "{0: 1, 1: 1, 2: 1, 3: 1}\n"
     ]
    }
   ],
   "source": [
    "def sample_grafo(node, graph):\n",
    "    reset_grafo(graph)\n",
    "    states = recorrido_anchura(node,graph)\n",
    "    return states\n",
    "imprime(sample_grafo(Nublado,Grafo))"
   ]
  },
  {
   "cell_type": "markdown",
   "metadata": {},
   "source": [
    "Finalmente vamos a a crear una función que realice la inferencia aproximada utilizando el método del muestreo con rechazo. La función tendrá como parámetros una query, una evidencia y un grafo. Las queries y las evidencias las vamos a representar mediante diccionarios, por ejemplo: Si queremos saber $P(+m|\\neg n)$ entonces:\n",
    "- query = {3:0} # El valor de la variable Mojado es 0.\n",
    "- evidencia = {0:1} # El valor de la variable Nublado es 1.\n",
    "\n",
    "\n",
    "Si nos preguntan $P(+Ll| +a, +m)$\n",
    "- query = {2:0}\n",
    "- evidence = {1:0, 3:0}\n"
   ]
  },
  {
   "cell_type": "code",
   "execution_count": 32,
   "metadata": {},
   "outputs": [
    {
     "name": "stdout",
     "output_type": "stream",
     "text": [
      "0.41617143886187646\n"
     ]
    }
   ],
   "source": [
    "def match (graph, predicate):\n",
    "    for keys in predicate:\n",
    "        if graph[keys].state != predicate[keys]:\n",
    "            return False\n",
    "    return True\n",
    "\n",
    "def infer(query, evidence, graph, num = 20000):\n",
    "    n_evidence = 0\n",
    "    n_query_and_evidence = 0\n",
    "    for i in range(num):\n",
    "        sample = sample_grafo(Nublado,graph)\n",
    "        if (match(sample,evidence)):\n",
    "            n_evidence += 1\n",
    "            if (match(sample,query)):\n",
    "                n_query_and_evidence += 1\n",
    "    return n_query_and_evidence / n_evidence\n",
    "print(infer({2:0},{1:0, 3:0},Grafo))"
   ]
  },
  {
   "cell_type": "markdown",
   "metadata": {},
   "source": [
    "Comprueba $P(+m|\\neg n)$ y $P(+Ll| +a, +m)$ con los resultados que hemos obtenido utilizando el método de enumeración."
   ]
  },
  {
   "cell_type": "code",
   "execution_count": 33,
   "metadata": {},
   "outputs": [
    {
     "name": "stdout",
     "output_type": "stream",
     "text": [
      "0.6040060090135203\n",
      "0.4100515006215592\n"
     ]
    }
   ],
   "source": [
    "print(infer({3:0},{0:1},Grafo))\n",
    "print(infer({2:0},{1:0, 3:0},Grafo))\n"
   ]
  },
  {
   "cell_type": "code",
   "execution_count": null,
   "metadata": {},
   "outputs": [],
   "source": []
  }
 ],
 "metadata": {
  "kernelspec": {
   "display_name": "Python 3 (ipykernel)",
   "language": "python",
   "name": "python3"
  },
  "language_info": {
   "codemirror_mode": {
    "name": "ipython",
    "version": 3
   },
   "file_extension": ".py",
   "mimetype": "text/x-python",
   "name": "python",
   "nbconvert_exporter": "python",
   "pygments_lexer": "ipython3",
   "version": "3.9.13"
  }
 },
 "nbformat": 4,
 "nbformat_minor": 2
}
