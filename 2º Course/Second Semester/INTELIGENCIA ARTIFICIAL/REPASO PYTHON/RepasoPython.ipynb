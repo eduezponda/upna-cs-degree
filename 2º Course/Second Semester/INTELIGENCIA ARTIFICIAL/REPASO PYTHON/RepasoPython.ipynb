{
 "cells": [
  {
   "cell_type": "markdown",
   "metadata": {},
   "source": [
    "# Práctica 0. Repaso de Python"
   ]
  },
  {
   "cell_type": "markdown",
   "metadata": {},
   "source": [
    "Python es el lenguaje de uso principal en el desarrollo de aplicaciones de Inteligencia Artificial. Existen multitud de librerías como numpy, matplotlib, Pandas, TensorFlow o pyTorch desarrolladas para el procesamiento de datos, entrenamiento de redes neuronales, etc. Como este curso es una introducción a la I.A. realizaremos las prácticas en Python. En esta primera práctica vamos a repasar la características principales y haremos unos ejercicios para recordar el uso básico de algunas estructuras de datos como las listas o los diccionarios.\n",
    "Para consultar más fondo los fundamentos de Python la ayuda oficial se encuentra en:\n",
    "https://docs.python.org/3/tutorial/datastructures.html"
   ]
  },
  {
   "cell_type": "markdown",
   "metadata": {},
   "source": [
    "En las siguientes celdas mostramos la sintaxis para dar valor a una variable, crear condiciones y dos formas diferentes de hacer bucles:"
   ]
  },
  {
   "cell_type": "code",
   "execution_count": 1,
   "metadata": {},
   "outputs": [
    {
     "name": "stdout",
     "output_type": "stream",
     "text": [
      "a: 1\n"
     ]
    }
   ],
   "source": [
    "a = 1\n",
    "if a == 1:\n",
    "    print('a:', a)"
   ]
  },
  {
   "cell_type": "code",
   "execution_count": 2,
   "metadata": {},
   "outputs": [
    {
     "name": "stdout",
     "output_type": "stream",
     "text": [
      "10\n",
      "9\n",
      "8\n",
      "7\n",
      "6\n",
      "5\n",
      "4\n",
      "3\n",
      "2\n",
      "1\n"
     ]
    }
   ],
   "source": [
    "i = 10\n",
    "while i <= 10 and i > 0:\n",
    "    print(i)\n",
    "    i -= 1"
   ]
  },
  {
   "cell_type": "code",
   "execution_count": 3,
   "metadata": {},
   "outputs": [
    {
     "name": "stdout",
     "output_type": "stream",
     "text": [
      "0\n",
      "2\n",
      "4\n",
      "6\n",
      "8\n"
     ]
    }
   ],
   "source": [
    "for i in range(0,10,2):\n",
    "    print(i)"
   ]
  },
  {
   "cell_type": "markdown",
   "metadata": {},
   "source": [
    "Un tipo de dato muy util en python son las listas. En este ejemplo puedes ver como se pueden utilizar a modo de pila:"
   ]
  },
  {
   "cell_type": "code",
   "execution_count": 4,
   "metadata": {},
   "outputs": [
    {
     "name": "stdout",
     "output_type": "stream",
     "text": [
      "[3, 4, 5, 6, 7]\n",
      "[3, 4, 5, 6]\n"
     ]
    }
   ],
   "source": [
    "lista = [3, 4, 5]\n",
    "lista.append(6)\n",
    "lista.append(7)\n",
    "print(lista)\n",
    "lista.pop()\n",
    "print(lista)"
   ]
  },
  {
   "cell_type": "markdown",
   "metadata": {},
   "source": [
    "Para poder utilizar una lista como cola, tendremos que importar el tipo deque:"
   ]
  },
  {
   "cell_type": "code",
   "execution_count": 5,
   "metadata": {},
   "outputs": [
    {
     "name": "stdout",
     "output_type": "stream",
     "text": [
      "deque(['Esto', 'es', 'una', 'lista'])\n",
      "deque(['es', 'una', 'lista', 'de', 'strings'])\n"
     ]
    }
   ],
   "source": [
    "from collections import deque\n",
    "cola = deque(['Esto', 'es', 'una', 'lista'])\n",
    "print(cola)\n",
    "cola.append('de')\n",
    "cola.append('strings')\n",
    "cola.popleft() \n",
    "print(cola)"
   ]
  },
  {
   "cell_type": "markdown",
   "metadata": {},
   "source": [
    "Podemos crear listas de listas, listas de objetos, etc."
   ]
  },
  {
   "cell_type": "code",
   "execution_count": 6,
   "metadata": {},
   "outputs": [
    {
     "name": "stdout",
     "output_type": "stream",
     "text": [
      "[[0, 1, 2], [3, 4, 5], [6, 7, 8]]\n",
      "[[0, 1, 99], [3, 4, 5], [6, 7, 8]]\n"
     ]
    }
   ],
   "source": [
    "matriz = [[0, 1, 2], [3, 4, 5], [6, 7, 8]]\n",
    "print(matriz)\n",
    "matriz[0][2] = 99\n",
    "print(matriz)"
   ]
  },
  {
   "cell_type": "markdown",
   "metadata": {},
   "source": [
    "Las listas son un tipo de dato que tiene diferentes métodos como append, extend, insert, remove, index, pop, len, etc.\n",
    "\n",
    "**Ejercicio**. Crea una función que encuentre un elemento en una matriz que hemos representado como lista anidada. La función debe devolver la fila y columna en la que se encuentra el elemento. "
   ]
  },
  {
   "cell_type": "code",
   "execution_count": 7,
   "metadata": {},
   "outputs": [
    {
     "name": "stdout",
     "output_type": "stream",
     "text": [
      "El valor 5  esta en la posición ( 1 , 1 )\n"
     ]
    }
   ],
   "source": [
    "milista = [[0, 1, 2, 3], [4, 5, 6, 7], [8, 9, 10, 11], [12, 13, 14, 15]]\n",
    "\n",
    "def encuentravalor(lista, valor):\n",
    "    for i in range (0, len(lista), 1):\n",
    "        for j in range (0, len(lista), 1):\n",
    "            if (lista[i][j] == valor):\n",
    "                return [i, j]\n",
    "    return [-1, -1]\n",
    "\n",
    "fil, col = encuentravalor(milista, 5)\n",
    "print('El valor', 5, ' esta en la posición (', fil, ',', col, ')')"
   ]
  },
  {
   "cell_type": "markdown",
   "metadata": {},
   "source": [
    "Podemos comprobar directamente si dos listas son iguales:"
   ]
  },
  {
   "cell_type": "code",
   "execution_count": 8,
   "metadata": {},
   "outputs": [
    {
     "name": "stdout",
     "output_type": "stream",
     "text": [
      "Iguales\n"
     ]
    }
   ],
   "source": [
    "lista1 = [0, [1, 2], 3]\n",
    "lista2 = [0, [1, 2], 3]\n",
    "if lista1 == lista2:\n",
    "    print('Iguales')"
   ]
  },
  {
   "cell_type": "markdown",
   "metadata": {},
   "source": [
    "Sin embargo, no hay un método que nos diga cual es el elemento o elementos diferentes entre dos listas. \n",
    "**Ejercicio**: Haz una función que tenga dos listas como parámetros y devuelva una lista con los elementos diferentes."
   ]
  },
  {
   "cell_type": "code",
   "execution_count": 9,
   "metadata": {},
   "outputs": [
    {
     "name": "stdout",
     "output_type": "stream",
     "text": [
      "[[1, 4], [1, 2]]\n"
     ]
    }
   ],
   "source": [
    "milista1 = [0, [1, 4], 3]\n",
    "milista2 = [0, [1, 2], 3]\n",
    "\n",
    "def buscadiferentes(lista1, lista2):\n",
    "    miLista = []\n",
    "    for i in range (0, len(lista1),1):\n",
    "            if not lista1[i] == lista2 [i]:\n",
    "                miLista.append(lista1[i])\n",
    "                miLista.append(lista2[i])\n",
    "            \n",
    "    return miLista\n",
    "\n",
    "lista = []\n",
    "lista = buscadiferentes(milista1,milista2)\n",
    "print(lista)\n",
    "\n"
   ]
  },
  {
   "cell_type": "markdown",
   "metadata": {},
   "source": [
    "**Ejercicio.** Crea un funcion que devuelva los indices de los elementos más parecidos. Por ejemplo, si el input es [0.21, 11.3, 2.01, 8.0, 10.0, 3.0, 15.2], la función debe devolver la lista [2, 5]."
   ]
  },
  {
   "cell_type": "code",
   "execution_count": 10,
   "metadata": {},
   "outputs": [
    {
     "name": "stdout",
     "output_type": "stream",
     "text": [
      "Lista de valores : [0.21, 11.3, 2.01, 8.0, 10.0, 3.0, 15.2]\n",
      "Indices del par de valores más cercanos:\n",
      "[2, 5]\n"
     ]
    }
   ],
   "source": [
    "def parCercano(nums):\n",
    "    dif = abs(nums[0]-nums[1])\n",
    "    posx = posy = -1\n",
    "    for i in range(0, len(nums), 1):\n",
    "        for j in range(i+1, len(nums), 1):\n",
    "            if (abs(nums[i]-nums[j]) < dif):\n",
    "                posx = i\n",
    "                posy = j\n",
    "                dif = abs(nums[i]-nums[j])\n",
    "    return [posx,posy]\n",
    " \n",
    "nums = [0.21, 11.3, 2.01, 8.0, 10.0, 3.0, 15.2]\n",
    "print(\"Lista de valores :\",nums)\n",
    "print(\"Indices del par de valores más cercanos:\")\n",
    "print(parCercano(nums))"
   ]
  },
  {
   "cell_type": "markdown",
   "metadata": {},
   "source": [
    "En python, las listas y otros tipos de datos se copian por **referencia**, por lo tanto si queremos copiar una lista, y modificar la nueva lista manteniendo la original, debemos utilizar la función deepcopy de la libreria copy."
   ]
  },
  {
   "cell_type": "code",
   "execution_count": 11,
   "metadata": {},
   "outputs": [
    {
     "name": "stdout",
     "output_type": "stream",
     "text": [
      "[0, [1, 4], 3]\n",
      "Iguales\n"
     ]
    }
   ],
   "source": [
    "milista1 = [0, [1, 2], 3]\n",
    "milista2 = milista1\n",
    "milista2[1][1] = 4\n",
    "print(milista2)\n",
    "\n",
    "if milista1 == milista2:\n",
    "    print('Iguales')\n",
    "else:\n",
    "    print('Diferentes')"
   ]
  },
  {
   "cell_type": "code",
   "execution_count": 12,
   "metadata": {},
   "outputs": [
    {
     "name": "stdout",
     "output_type": "stream",
     "text": [
      "[0, [1, 4], 3]\n",
      "[0, [1, 2], 3]\n",
      "Diferentes\n"
     ]
    }
   ],
   "source": [
    "import copy\n",
    "milista1 = [0, [1, 2], 3]\n",
    "milista2 = copy.deepcopy(milista1)\n",
    "milista2[1][1] = 4\n",
    "print(milista2)\n",
    "print(milista1)\n",
    "if milista1 == milista2:\n",
    "    print('Iguales')\n",
    "else:\n",
    "    print('Diferentes')"
   ]
  },
  {
   "cell_type": "markdown",
   "metadata": {},
   "source": [
    "Otro tipo de datos muy útil son los diccionarios. Un diccionario en Python es una colección de elementos, donde cada uno tiene una clave `key` y un valor `value`."
   ]
  },
  {
   "cell_type": "code",
   "execution_count": 13,
   "metadata": {},
   "outputs": [
    {
     "name": "stdout",
     "output_type": "stream",
     "text": [
      "3\n",
      "dict_keys(['a', 'b', 'c', 'x'])\n",
      "dict_values([3, 4, 7, 1000])\n"
     ]
    }
   ],
   "source": [
    "d = {'a':3, 'b':4, 'c': 7}\n",
    "print(d['a'])\n",
    "# añadir un nuevo elemento al diccionario\n",
    "d['x'] = 1000\n",
    "print(d.keys())\n",
    "print(d.values())"
   ]
  },
  {
   "cell_type": "markdown",
   "metadata": {},
   "source": [
    "Los diccionarios almancenan las claves ordenadas mediante un código lo que hace que **la búsqueda de elementos en un diccionario sea más rápido que en una lista**. Esto implica que las claves del diccionario deben ser únicas. Es decir, una vez que hemos introducido un elemento en un diccionario e intentamos crear otro con la misma clave , simplemente modificaremos el valor del que ya tenemos. Las claves pueden ser números o cadenas de texto y lo valores pueden ser cualquier tipo de dato python, listas, listas anidadas u objetos de una clase que hemos definido."
   ]
  },
  {
   "cell_type": "code",
   "execution_count": 14,
   "metadata": {},
   "outputs": [
    {
     "name": "stdout",
     "output_type": "stream",
     "text": [
      "g no se encuentra en el diccionario\n"
     ]
    }
   ],
   "source": [
    "if 'g' in d:\n",
    "    print(d.value())\n",
    "else:\n",
    "    print('g no se encuentra en el diccionario')"
   ]
  },
  {
   "cell_type": "markdown",
   "metadata": {},
   "source": [
    "Existen otras librerias para generar número aleatorios, controlar el tiempo de ejecución, etc:"
   ]
  },
  {
   "cell_type": "code",
   "execution_count": 15,
   "metadata": {},
   "outputs": [
    {
     "name": "stdout",
     "output_type": "stream",
     "text": [
      "10000000\n"
     ]
    }
   ],
   "source": [
    "import random\n",
    "a = [random.random() for i in range(10**7)]\n",
    "print(len(a))"
   ]
  },
  {
   "cell_type": "code",
   "execution_count": 16,
   "metadata": {},
   "outputs": [
    {
     "name": "stdout",
     "output_type": "stream",
     "text": [
      "4.118185703561039e-08\n",
      "Tiempo utilizado en encontrar el mínimo: 0.07582640647888184\n"
     ]
    }
   ],
   "source": [
    "import time\n",
    "start = time.time()\n",
    "print(min(a))\n",
    "total = time.time() - start\n",
    "print('Tiempo utilizado en encontrar el mínimo:', total)"
   ]
  },
  {
   "cell_type": "code",
   "execution_count": 17,
   "metadata": {},
   "outputs": [
    {
     "name": "stdout",
     "output_type": "stream",
     "text": [
      "Está\n",
      "Tiempo utilizado en encontrar un número en la lista: 0.04538583755493164\n"
     ]
    }
   ],
   "source": [
    "# tiempo para buscar un número:\n",
    "start = time.time()\n",
    "if a[9999999] in a:\n",
    "    print('Está')\n",
    "total = time.time() - start\n",
    "print('Tiempo utilizado en encontrar un número en la lista:', total)"
   ]
  },
  {
   "cell_type": "code",
   "execution_count": 18,
   "metadata": {},
   "outputs": [
    {
     "name": "stdout",
     "output_type": "stream",
     "text": [
      "Está\n",
      "Tiempo utilizado en encontrar una clave en el diccionario: 0.00011372566223144531\n"
     ]
    }
   ],
   "source": [
    "diccionario = {}\n",
    "# Creo un diccionario en el que las claves son los números \n",
    "# que quiero encontrar y los valores de cada clave es \n",
    "# la propia clave al cuadrado más una constante. \n",
    "# Este proceso le va a llevar un tiempo.\n",
    "for num in a:\n",
    "    diccionario[num] = num**2 + 0.23\n",
    "# Buscamos una clave específica:\n",
    "start = time.time()\n",
    "if a[9999999] in diccionario:\n",
    "    print('Está')\n",
    "total = time.time() - start\n",
    "print('Tiempo utilizado en encontrar una clave en el diccionario:', total)\n"
   ]
  },
  {
   "cell_type": "markdown",
   "metadata": {},
   "source": [
    "Las **clases** de Python proveen todas las características normales de la **Programación Orientada a Objetos**. Al crear una nueva clase, se crea un nuevo tipo de objeto, permitiendo crear nuevas instancias de ese tipo. "
   ]
  },
  {
   "cell_type": "code",
   "execution_count": 19,
   "metadata": {},
   "outputs": [
    {
     "name": "stdout",
     "output_type": "stream",
     "text": [
      "120\n"
     ]
    }
   ],
   "source": [
    "class Rectangle():\n",
    "    def __init__(self, l, w):\n",
    "        self.length = l\n",
    "        self.width  = w\n",
    "\n",
    "    def rectangle_area(self):\n",
    "        return self.length*self.width\n",
    "\n",
    "newRectangle = Rectangle(12, 10)\n",
    "print(newRectangle.rectangle_area())"
   ]
  },
  {
   "cell_type": "markdown",
   "metadata": {},
   "source": [
    "**Ejercicio**. Escribe una clase que almacene una lista de elementos y que tenga un método `parsuma(target)` que tome como parámetro un número. El método debe devolver los indices de la lista que sumen el número."
   ]
  },
  {
   "cell_type": "code",
   "execution_count": 20,
   "metadata": {},
   "outputs": [
    {
     "name": "stdout",
     "output_type": "stream",
     "text": [
      "index1=0, index2=3\n"
     ]
    }
   ],
   "source": [
    "class miLista:\n",
    "    def __init__(self, lista):\n",
    "        self.l = lista\n",
    "    def parsuma(self, target):\n",
    "        for i in range(0, len(self.l), 1):\n",
    "            for j in range (i+1, len(self.l), 1):\n",
    "                if ((self.l[i] + self.l[j]) == target):\n",
    "                    return i, j\n",
    "    \n",
    "obj = miLista([10,20,10,40,50,60,70])\n",
    "print(\"index1=%d, index2=%d\" % obj.parsuma(50))"
   ]
  },
  {
   "cell_type": "markdown",
   "metadata": {},
   "source": [
    "**Ejercicio**. Utilizando la clase del ejercicio anterior añadele un método que devuelva la suma de toda la lista de números.\n",
    "Crea 10 objetos que contengan una lista aleatoria de 10 números enteros (utiliza random.randint()) y utilizando la función lambda obtén el objeto cuya suma es menor."
   ]
  },
  {
   "cell_type": "code",
   "execution_count": 21,
   "metadata": {},
   "outputs": [
    {
     "name": "stdout",
     "output_type": "stream",
     "text": [
      "343\n"
     ]
    }
   ],
   "source": [
    "import random\n",
    "\n",
    "class miLista:\n",
    "    def __init__(self, lista):\n",
    "        self.l = lista\n",
    "    def parsuma(self, target):\n",
    "        for i in range(0, len(self.l), 1):\n",
    "            for j in range (i+1, len(self.l), 1):\n",
    "                if ((self.l[i] + self.l[j]) == target):\n",
    "                    return i, j   \n",
    "    def suma(self):\n",
    "        sum = 0\n",
    "        for i in range(len(self.l)):\n",
    "            sum = sum + self.l[i]\n",
    "        return sum\n",
    "\n",
    "#https://www.pythoncentral.io/how-to-generate-a-random-number-in-python/\n",
    "\n",
    "listaObjetos = []\n",
    "for i in range(10):\n",
    "    a = [random.randint(1, 100) for i in range(0,10)]\n",
    "    listaObjetos.append(miLista(a))\n",
    "    \n",
    "ind = min(listaObjetos, key=lambda item: item.suma())\n",
    "print(ind.suma())"
   ]
  },
  {
   "cell_type": "markdown",
   "metadata": {},
   "source": [
    "**Tres en raya.** En este ejercicio vamos a hacer un pequeño juego del tres en raya. Primero creamos una clase juego que tiene la información básica del juego: el tablero y el turno del jugador:"
   ]
  },
  {
   "cell_type": "code",
   "execution_count": 22,
   "metadata": {},
   "outputs": [],
   "source": [
    "class juego:\n",
    "    def __init__(self, tablero, jugador):\n",
    "        self.tablero = tablero\n",
    "        self.turno = jugador\n",
    "    def cambiaturno(jugador):\n",
    "        self.turno = jugador"
   ]
  },
  {
   "cell_type": "markdown",
   "metadata": {},
   "source": [
    "Para jugar, primero hay que crear una instancia del juego:"
   ]
  },
  {
   "cell_type": "code",
   "execution_count": 23,
   "metadata": {},
   "outputs": [],
   "source": [
    "tableroinicial = [['', '', ''], ['', '', ''], ['', '', '']]\n",
    "turno = 'o'\n",
    "Unjuego = juego(tableroinicial, turno)"
   ]
  },
  {
   "cell_type": "markdown",
   "metadata": {},
   "source": [
    "**Añade un método imprime** a la clase juego para puedas imprimir el tablero del juego de esta forma:\n",
    "\n",
    "|x o x| \n",
    "\n",
    "|x o x|\n",
    "\n",
    "|o x o|"
   ]
  },
  {
   "cell_type": "code",
   "execution_count": 24,
   "metadata": {},
   "outputs": [],
   "source": [
    "class juego:\n",
    "    def __init__(self, tablero, jugador):\n",
    "        self.tablero = tablero\n",
    "        self.turno = jugador\n",
    "    def cambiaturno(jugador):\n",
    "        self.turno = jugador\n",
    "    def imprime(self):\n",
    "        for i in range(3):\n",
    "            print(\"|\", end = \" \")\n",
    "            for j in range(3):\n",
    "                print(self.tablero[i][j], end = \" \")\n",
    "            print(\"|\")\n",
    "        print()"
   ]
  },
  {
   "cell_type": "code",
   "execution_count": 25,
   "metadata": {},
   "outputs": [
    {
     "name": "stdout",
     "output_type": "stream",
     "text": [
      "| x o x |\n",
      "| x o x |\n",
      "| o x o |\n",
      "\n"
     ]
    }
   ],
   "source": [
    "tableroinicial = [[' ', ' ', ' '], [' ', ' ', ' '], [' ', ' ', ' ']]\n",
    "tableroinicial = [['x', 'o', 'x'], ['x', 'o', 'x'], ['o', 'x', 'o']]\n",
    "turno = 'o'\n",
    "Unjuego = juego(tableroinicial, turno)\n",
    "Unjuego.imprime()"
   ]
  },
  {
   "cell_type": "markdown",
   "metadata": {},
   "source": [
    "**Añade un método que se llame mueve** y tenga como parámetros la fila y la columna donde el jugador que tiene el turno en ese momento va a colocar la ficha. Si la casilla está vacia, modificará el estado del tablero con la nueva ficha y cambiará el turno del jugador, es decir si self.turno = 'o', ahora valdrá 'x'. Además, devolverá **return True** para validar que se ha producirdo el movimiento de forma correcta. En caso de que la casilla este ocupada, se imprimirá un mensaje avisando y devolverá **return False**. "
   ]
  },
  {
   "cell_type": "code",
   "execution_count": 26,
   "metadata": {},
   "outputs": [],
   "source": [
    "class juego:\n",
    "    def __init__(self, tablero, jugador):\n",
    "        self.tablero = tablero\n",
    "        self.turno = jugador\n",
    "    def cambiaturno(jugador):\n",
    "        self.turno = jugador\n",
    "    def imprime(self):\n",
    "        for i in range(3):\n",
    "            print(\"|\", end = \" \")\n",
    "            for j in range(3):\n",
    "                print(self.tablero[i][j], end = \" \")\n",
    "            print(\"|\")\n",
    "        print()\n",
    "    def mueve(self, fil, col):\n",
    "        if ((self.tablero[fil][col] == \"x\") or (self.tablero[fil][col] == \"o\")):\n",
    "            print (\"\\nError! - La casilla [{}, {}] esta ocupada. \\n\".format(fil, col))\n",
    "            return False\n",
    "        self.tablero[fil][col] = self.turno\n",
    "        if (self.turno == \"x\"):\n",
    "            self.turno = \"o\"\n",
    "        else:\n",
    "            self.turno = \"x\"\n",
    "        return True\n",
    "    def devolverTurno (self):\n",
    "        return self.turno\n",
    "    "
   ]
  },
  {
   "cell_type": "markdown",
   "metadata": {},
   "source": [
    "Comprueba que el método que has añadido funciona correctamente:"
   ]
  },
  {
   "cell_type": "code",
   "execution_count": 27,
   "metadata": {},
   "outputs": [
    {
     "name": "stdout",
     "output_type": "stream",
     "text": [
      "|       |\n",
      "|       |\n",
      "|       |\n",
      "\n",
      "|       |\n",
      "|   o   |\n",
      "|       |\n",
      "\n",
      "\n",
      "Error! - La casilla [1, 1] esta ocupada. \n",
      "\n",
      "|       |\n",
      "|   o   |\n",
      "|   x   |\n",
      "\n"
     ]
    }
   ],
   "source": [
    "tableroinicial = [[' ', ' ', ' '], [' ', ' ', ' '], [' ', ' ', ' ']]\n",
    "turno = 'o'\n",
    "Unjuego = juego(tableroinicial, turno)\n",
    "Unjuego.imprime()\n",
    "Unjuego.mueve(1,1)\n",
    "Unjuego.imprime()\n",
    "Unjuego.mueve(2,1)\n",
    "Unjuego.mueve(1,1)\n",
    "Unjuego.imprime()"
   ]
  },
  {
   "cell_type": "markdown",
   "metadata": {},
   "source": [
    "Ahora tienes que hacer una **función en la que tenga como parámetro un objeto juego y decida si el juego ha acabado o si se pueden seguir poniendo fichas**. La función debe devolver **True** o **False**. Además, si la partida ha terminado se debe imprimir un mensaje indicando si la partida ha resultado en empate o que jugador ha ganado la partida. Para ayudarte te dejo una lista de todos los conjuntos de posiciones del tablero en los que se puede hacer tres en raya, simplemente tienes que mirar si las fichas que están colocadas en esas posiciones son la misma.\n"
   ]
  },
  {
   "cell_type": "code",
   "execution_count": 28,
   "metadata": {},
   "outputs": [],
   "source": [
    "listapos = [[[0,0], [0,1], [0,2]], [[1,0], [1,1], [1,2]], [[2,0], [2,1], [2,2]],\n",
    "            [[0,0], [1,0], [2,0]], [[0,1], [1,1], [2,1]], [[0,2], [1,2], [2,2]], \n",
    "            [[0,0], [1,1], [2,2]], [[0,2], [1,1], [2,0]]]"
   ]
  },
  {
   "cell_type": "code",
   "execution_count": 29,
   "metadata": {},
   "outputs": [],
   "source": [
    "def finaljuego(juego):\n",
    "    listapos = [[0,0], [0,1], [0,2], [1,0], [1,1], [1,2], [2,0], [2,1], [2,2],\n",
    "            [0,0], [1,0], [2,0], [0,1], [1,1], [2,1], [0,2], [1,2], [2,2], \n",
    "            [0,0], [1,1], [2,2], [0,2], [1,1], [2,0]]    \n",
    "    espacio = False\n",
    "    for i in range (0,len(listapos), 3):\n",
    "        x = True\n",
    "        o = True\n",
    "        for j in range (i, i + 3, 1):\n",
    "            if juego.tablero [listapos[j][0]] [listapos[j][1]] == 'x':\n",
    "                o = False\n",
    "\n",
    "            elif juego.tablero [listapos[j][0]] [listapos[j][1]] == 'o':\n",
    "                x = False\n",
    "\n",
    "            else:\n",
    "                espacio = True\n",
    "                x = False\n",
    "                o = False\n",
    "        if x == True:\n",
    "            print ('El ganador es x')\n",
    "            return True\n",
    "        elif o == True:\n",
    "            print ('El ganador es o')\n",
    "            return True\n",
    "        \n",
    "    if espacio == True:\n",
    "        return False\n",
    "    else:\n",
    "        print ('Empate')\n",
    "        return True"
   ]
  },
  {
   "cell_type": "code",
   "execution_count": 30,
   "metadata": {},
   "outputs": [
    {
     "name": "stdout",
     "output_type": "stream",
     "text": [
      "| x o o |\n",
      "| x o   |\n",
      "| x x   |\n",
      "\n",
      "El ganador es x\n",
      "True\n"
     ]
    }
   ],
   "source": [
    "tableroinicial = [['x', 'o', 'o'], ['x', 'o', ' '], ['x', 'x', ' ']]\n",
    "turno = 'o'\n",
    "Unjuego = juego(tableroinicial, turno)\n",
    "Unjuego.imprime()\n",
    "print(finaljuego(Unjuego))"
   ]
  },
  {
   "cell_type": "markdown",
   "metadata": {},
   "source": [
    "**Crea un bucle para jugar al tres en raya**, en el que se van introduciendo por el teclado la posición (fila y columna) de la ficha. Puedes utilizar la función input. La función input devuelve información tipo string, por lo tanto, debes transformar a tipo entero el dato que has leído."
   ]
  },
  {
   "cell_type": "code",
   "execution_count": 31,
   "metadata": {},
   "outputs": [
    {
     "name": "stdout",
     "output_type": "stream",
     "text": [
      "Introduce la fila y columna:1,1\n",
      "1 1\n"
     ]
    }
   ],
   "source": [
    "fil, col = input('Introduce la fila y columna:').split(\",\")\n",
    "print(fil, col)\n",
    "fil_entero = int(fil)"
   ]
  },
  {
   "cell_type": "code",
   "execution_count": 32,
   "metadata": {},
   "outputs": [
    {
     "name": "stdout",
     "output_type": "stream",
     "text": [
      "|       |\n",
      "|       |\n",
      "|       |\n",
      "\n",
      "Introduce la fila y columna:1,1\n",
      "1 1\n",
      "|       |\n",
      "|   o   |\n",
      "|       |\n",
      "\n",
      "Introduce la fila y columna:0,0\n",
      "0 0\n",
      "| x     |\n",
      "|   o   |\n",
      "|       |\n",
      "\n",
      "Introduce la fila y columna:1,0\n",
      "1 0\n",
      "| x     |\n",
      "| o o   |\n",
      "|       |\n",
      "\n",
      "Introduce la fila y columna:2,2\n",
      "2 2\n",
      "| x     |\n",
      "| o o   |\n",
      "|     x |\n",
      "\n",
      "Introduce la fila y columna:1,2\n",
      "1 2\n",
      "| x     |\n",
      "| o o o |\n",
      "|     x |\n",
      "\n",
      "El ganador es o\n"
     ]
    }
   ],
   "source": [
    "tableroinicial = [[' ', ' ', ' '], [' ', ' ', ' '], [' ', ' ', ' ']]\n",
    "turno = 'o'\n",
    "Unjuego = juego(tableroinicial, turno)\n",
    "Unjuego.imprime()\n",
    "\n",
    "while finaljuego(Unjuego) == False:\n",
    "    fil, col = input('Introduce la fila y columna:').split(\",\")\n",
    "    print(fil, col)\n",
    "    fil_entero = int(fil)\n",
    "    col_entero = int (col)\n",
    "    while True:\n",
    "        b = Unjuego.mueve(fil_entero,col_entero)\n",
    "        if b:\n",
    "            break \n",
    "        else:\n",
    "            fil, col = input('Introduce la fila y columna:').split(\",\")\n",
    "            print(fil, col)\n",
    "            fil_entero = int(fil)\n",
    "            col_entero = int (col)\n",
    "        \n",
    "    Unjuego.imprime()\n",
    "\n",
    "    "
   ]
  },
  {
   "cell_type": "markdown",
   "metadata": {},
   "source": [
    "**Modifica el bucle** que has creado anteriormente para que uno de los jugadores sea **aleatorio** y el otro introduzca su jugada por teclado. Con la función `random.randint` puedes generar de forma aleatoria un valor entre 0 y 2. Para simplificar haz que el jugador que pone 'o' sea el jugador aleatorio. ¿Puedes ganar al aleatorio?"
   ]
  },
  {
   "cell_type": "code",
   "execution_count": 33,
   "metadata": {},
   "outputs": [
    {
     "name": "stdout",
     "output_type": "stream",
     "text": [
      "0\n"
     ]
    }
   ],
   "source": [
    "import random\n",
    "fila_aleat = random.randint(0,2)\n",
    "print(fila_aleat)"
   ]
  },
  {
   "cell_type": "code",
   "execution_count": 34,
   "metadata": {},
   "outputs": [
    {
     "name": "stdout",
     "output_type": "stream",
     "text": [
      "|       |\n",
      "|       |\n",
      "|       |\n",
      "\n",
      "|       |\n",
      "| o     |\n",
      "|       |\n",
      "\n",
      "Introduce la fila y columna:1,2\n",
      "1 2\n",
      "|       |\n",
      "| o   x |\n",
      "|       |\n",
      "\n",
      "\n",
      "Error! - La casilla [1, 0] esta ocupada. \n",
      "\n",
      "\n",
      "Error! - La casilla [1, 2] esta ocupada. \n",
      "\n",
      "|       |\n",
      "| o o x |\n",
      "|       |\n",
      "\n",
      "Introduce la fila y columna:0,2\n",
      "0 2\n",
      "|     x |\n",
      "| o o x |\n",
      "|       |\n",
      "\n",
      "\n",
      "Error! - La casilla [1, 2] esta ocupada. \n",
      "\n",
      "\n",
      "Error! - La casilla [0, 2] esta ocupada. \n",
      "\n",
      "|     x |\n",
      "| o o x |\n",
      "|   o   |\n",
      "\n",
      "Introduce la fila y columna:2,2\n",
      "2 2\n",
      "|     x |\n",
      "| o o x |\n",
      "|   o x |\n",
      "\n",
      "El ganador es x\n"
     ]
    }
   ],
   "source": [
    "\n",
    "\n",
    "import random\n",
    "\n",
    "tableroinicial = [[' ', ' ', ' '], [' ', ' ', ' '], [' ', ' ', ' ']]\n",
    "turno = 'o'\n",
    "Unjuego = juego(tableroinicial, turno)\n",
    "Unjuego.imprime()\n",
    "\n",
    "while finaljuego(Unjuego) == False:\n",
    "    if Unjuego.devolverTurno() == 'x':\n",
    "        fil, col = input('Introduce la fila y columna:').split(\",\")\n",
    "        print(fil, col)\n",
    "        fil_entero = int(fil)\n",
    "        col_entero = int (col)\n",
    "    else:\n",
    "        fil_entero = random.randint(0,2)\n",
    "        col_entero = random.randint(0,2)\n",
    "    while True:\n",
    "        b = Unjuego.mueve(fil_entero,col_entero)\n",
    "        if b:\n",
    "            break\n",
    "        elif Unjuego.devolverTurno() == 'x':\n",
    "            fil, col = input('Introduce la fila y columna:').split(\",\")\n",
    "            print(fil, col)\n",
    "            fil_entero = int(fil)\n",
    "            col_entero = int (col)\n",
    "        else:\n",
    "            fil_entero = random.randint(0,2)\n",
    "            col_entero = random.randint(0,2)\n",
    "        \n",
    "    Unjuego.imprime()\n",
    "\n"
   ]
  },
  {
   "cell_type": "markdown",
   "metadata": {},
   "source": [
    "Para finalizar vamos a crear **nuestra primera Inteligencia Artificial** que juegue al 3 en raya. Nuestra IA va a seguir una estrategia muy simple: va a poner su ficha en la posición opuesta de la última ficha que ha puesto su contrincante. Es decir si el contrincante acaba de poner la siguiente ficha[['x', ' ', ' '], [' ', ' ', ' '], [' ', ' ', ' ']], la Ia pondrá la ficha en [[' ', ' ', ' '], [' ', ' ', ' '], [' ', ' ', 'o']]. \n",
    "Para crear la IA tienes que crear una nueva clase que le llamaremos 'jugadorIA'. Esta nueva clase tendrá como atributos el tablero actual del juego y el tipo de ficha con la que juega la IA. Además, tendrá un método 'movimiento' en que devolverá la fil y columna donde va a poner la ficha siguiendo su entrategia. Para jugar con esta IA tendrás que modificar el bucle del juego para que en lugar del jugador aleatorio, se llame al jugadorIA para que haga su jugada. "
   ]
  },
  {
   "cell_type": "code",
   "execution_count": 36,
   "metadata": {},
   "outputs": [
    {
     "name": "stdout",
     "output_type": "stream",
     "text": [
      "|       |\n",
      "|       |\n",
      "|       |\n",
      "\n",
      "Introduce la fila y columna:0,0\n",
      "0 0\n",
      "| x     |\n",
      "|       |\n",
      "|       |\n",
      "\n",
      "| x     |\n",
      "|       |\n",
      "|     o |\n",
      "\n",
      "Introduce la fila y columna:2,2\n",
      "2 2\n",
      "\n",
      "Error! - La casilla [2, 2] esta ocupada. \n",
      "\n",
      "Introduce la fila y columna:0,2\n",
      "0 2\n",
      "| x   x |\n",
      "|       |\n",
      "|     o |\n",
      "\n",
      "| x   x |\n",
      "|       |\n",
      "| o   o |\n",
      "\n",
      "Introduce la fila y columna:0,1\n",
      "0 1\n",
      "| x x x |\n",
      "|       |\n",
      "| o   o |\n",
      "\n",
      "El ganador es x\n"
     ]
    }
   ],
   "source": [
    "class jugadorIA:\n",
    "    def __init__(self, tablero, ficha):\n",
    "        self.tablero = tablero\n",
    "        self.ficha = ficha\n",
    "    def tablero_actual(self, tablero):\n",
    "        self. tablero = tablero\n",
    "    def movimiento(self,fil,col):\n",
    "        if fil == 0:\n",
    "            fil = 2\n",
    "        elif fil == 2:\n",
    "            fil = 0\n",
    "        if col == 0:\n",
    "            col = 2\n",
    "        elif col == 2:\n",
    "            col = 0\n",
    "        return fil, col\n",
    "import random\n",
    "\n",
    "tableroinicial = [[' ', ' ', ' '], [' ', ' ', ' '], [' ', ' ', ' ']]\n",
    "turno = 'x'\n",
    "Unjuego = juego(tableroinicial, turno)\n",
    "Unjuego.imprime()\n",
    "JugadorIA = jugadorIA(tableroinicial,0)\n",
    "\n",
    "while finaljuego(Unjuego) == False:\n",
    "    if Unjuego.devolverTurno() == 'x':\n",
    "        fil, col = input('Introduce la fila y columna:').split(\",\")\n",
    "        print(fil, col)\n",
    "        fil_entero = int(fil)\n",
    "        col_entero = int (col)\n",
    "    else:\n",
    "        fil_entero,col_entero = JugadorIA.movimiento(fil_entero,col_entero)\n",
    "        \n",
    "    while True:\n",
    "        b = Unjuego.mueve(fil_entero,col_entero)\n",
    "        if b:\n",
    "            break\n",
    "        elif Unjuego.devolverTurno() == 'x':\n",
    "            fil, col = input('Introduce la fila y columna:').split(\",\")\n",
    "            print(fil, col)\n",
    "            fil_entero = int(fil)\n",
    "            col_entero = int (col)\n",
    "        else:\n",
    "            fil_entero = random.randint(0,2)\n",
    "            col_entero = random.randint(0,2)\n",
    "        \n",
    "    Unjuego.imprime()"
   ]
  },
  {
   "cell_type": "code",
   "execution_count": null,
   "metadata": {},
   "outputs": [],
   "source": []
  },
  {
   "cell_type": "code",
   "execution_count": null,
   "metadata": {},
   "outputs": [],
   "source": []
  }
 ],
 "metadata": {
  "kernelspec": {
   "display_name": "Python 3 (ipykernel)",
   "language": "python",
   "name": "python3"
  },
  "language_info": {
   "codemirror_mode": {
    "name": "ipython",
    "version": 3
   },
   "file_extension": ".py",
   "mimetype": "text/x-python",
   "name": "python",
   "nbconvert_exporter": "python",
   "pygments_lexer": "ipython3",
   "version": "3.9.13"
  }
 },
 "nbformat": 4,
 "nbformat_minor": 2
}
