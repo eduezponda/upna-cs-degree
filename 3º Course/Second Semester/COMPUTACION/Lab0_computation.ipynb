{
 "cells": [
  {
   "cell_type": "markdown",
   "metadata": {
    "id": "wExalObQU-aU"
   },
   "source": [
    "# Lesson 0: INTRODUCTION\n"
   ]
  },
  {
   "cell_type": "markdown",
   "metadata": {
    "id": "edkvUW-uVFr8"
   },
   "source": [
    "## Exercise 1\n",
    "Given the vectors $a = (4,3,8,1)$ and $b = (2,2,1,6)$:\n",
    "\n",
    "\n",
    "1.   Get the sum of vectors $a$ and $b$.\n",
    "2.   Create a vector $c$ whose components are the values of $a$ multiplied by each corresponding element of $b$.\n",
    "3.   Create a vector $d$ whose components are the values of $a$ powered to each corresponding element of $b$.\n",
    "\n"
   ]
  },
  {
   "cell_type": "code",
   "execution_count": 1,
   "metadata": {
    "id": "KF8XVH8lVFDi"
   },
   "outputs": [
    {
     "name": "stdout",
     "output_type": "stream",
     "text": [
      "[6 5 9 7]\n",
      "[8 6 8 6]\n",
      "[16  9  8  1]\n"
     ]
    }
   ],
   "source": [
    "import numpy as np\n",
    "a = np.array([4, 3, 8, 1])\n",
    "b = np.array([2, 2, 1, 6])\n",
    "print(a+b)\n",
    "c = a * b\n",
    "d = np.power(a,b)\n",
    "print(c)\n",
    "print(d)"
   ]
  },
  {
   "cell_type": "markdown",
   "metadata": {
    "id": "Ga_Y_jdvVsDK"
   },
   "source": [
    "## Exercise 2\n",
    "Given $A = \\begin{pmatrix} 1 & 2 & -1 \\\\ 1 & 0 & 1 \\\\ 4 & -4 & 5 \\end{pmatrix}$\n",
    "1.   Get its transposed matrix $A^T$.\n",
    "2.   Check if $A$ has an inverse $A^{-1}$ and, if it does, get its value.\n",
    "3.   Get the eigenvalues and eigenvectors of $A$.\n",
    "4.   Check if, for each eigenvalue $\\lambda$ and each corresponding eigenvector $v$, $Av = \\lambda v$."
   ]
  },
  {
   "cell_type": "code",
   "execution_count": 2,
   "metadata": {
    "id": "lePh_25FU6CD",
    "scrolled": true
   },
   "outputs": [
    {
     "name": "stdout",
     "output_type": "stream",
     "text": [
      "[[ 0.66666667 -1.          0.33333333]\n",
      " [-0.16666667  1.5        -0.33333333]\n",
      " [-0.66666667  2.         -0.33333333]]\n",
      "[[ 1  1  4]\n",
      " [ 2  0 -4]\n",
      " [-1  1  5]]\n"
     ]
    }
   ],
   "source": [
    "a = np.matrix([[1, 2 ,-1],[1, 0, 1], [4, -4, 5]])\n",
    "print(a.I)\n",
    "print(a.T)\n",
    "#print(np.transpose(a))\n",
    "#print(np.linalg.inv(A))\n",
    "eigenvalues, eigenvectors = np.linalg.eig(a)\n"
   ]
  },
  {
   "cell_type": "markdown",
   "metadata": {
    "id": "fsrBI5JeWJG1"
   },
   "source": [
    "### Exercise 3 \n",
    "Construct a matrix $A$ of size $2 \\times 3$ with random numbers.\n",
    "1.   Construct a matrix $B$ as the matrix $A$ followed by an identity matrix at its right.\n",
    "2.   Construct a matrix $C$ removing the odd columns of matrix $B$.\n",
    "3.   Construct a matrix $D$ as the intersection of the first row of $B$ and its third and forth columns."
   ]
  },
  {
   "cell_type": "code",
   "execution_count": 3,
   "metadata": {
    "id": "mlBATYhiWj4W"
   },
   "outputs": [],
   "source": [
    "a = np.random.rand(2,3);\n",
    "b = np.concatenate((a, np.eye(2)), axis=1)\n",
    "c = b[:, ::2]\n",
    "d = b[0,2:4]"
   ]
  },
  {
   "cell_type": "markdown",
   "metadata": {
    "id": "FYqJbPF5WkFs"
   },
   "source": [
    "## Exercise 4\n",
    "Construct a matrix $A$ of size $4 \\times 4$ with random numbers.\n",
    "1.  Get the sum of the elements on each row.\n",
    "2.  Get the sum of the elements on each column.\n",
    "3.  Get the sum of the elements in its principal diagonal.\n",
    "4.  Extract the submatrix whose diagonal are the elements $A_{1, 1}$ and $A_{2, 2}$."
   ]
  },
  {
   "cell_type": "code",
   "execution_count": 4,
   "metadata": {
    "id": "3l3VlmxmWxep"
   },
   "outputs": [
    {
     "name": "stdout",
     "output_type": "stream",
     "text": [
      "[[0.81179243 0.61940946 0.96965195 0.08903004]\n",
      " [0.61694332 0.64646297 0.3285516  0.23695673]\n",
      " [0.38119703 0.52745018 0.01650032 0.68544934]\n",
      " [0.96212031 0.51499616 0.72055206 0.36705169]]\n",
      "\n",
      "[2.48988388 1.82891461 1.61059686 2.56472022]\n",
      "\n",
      "[2.77205309 2.30831876 2.03525593 1.37848779]\n",
      "\n",
      "1.8418074042982906\n",
      "\n",
      "[[0.81179243 0.61940946]\n",
      " [0.61694332 0.64646297]]\n"
     ]
    }
   ],
   "source": [
    "a = np.random.rand(4,4)\n",
    "print(a)\n",
    "print()\n",
    "print(np.sum(a,axis=1)) # por fila\n",
    "print()\n",
    "print(np.sum(a,axis=0)) # por columna\n",
    "print() \n",
    "print(np.trace(a))\n",
    "print()\n",
    "print(a[:2,:2])\n",
    "\n"
   ]
  },
  {
   "cell_type": "markdown",
   "metadata": {
    "id": "zpjqGF73WxkK"
   },
   "source": [
    "## Exercise 5\n",
    "\n",
    "Using matrices $M = \\begin{pmatrix} 1& 2 & 3 & 3 \\\\ 2 & 2 & 0 & 0 \\\\ 5 & 6 & 3 & 1 \\\\ 0 & 2 & 0 & 5 \\end{pmatrix}$ and $N = \\begin{pmatrix} 1& 2 & 3 & 3 \\\\ -1 & 2 & 0 & 0 \\\\ 5 & 6 & 3 & 1 \\\\ 0 & 2 & 0 & 4 \\end{pmatrix}$\n",
    "\n",
    "1.  Construct a matrix $O$ whose elements $(i,j)$ are $O_{i,j} = 2M_{i,j} - 3N_{i,j}$\n",
    "1.  Construct a matrix $P$ whose elements $(i,j)$ are $P_{i,j} = \\frac{1}{3}M_{i,j}^3$\n",
    "1.  Construct a matrix $Q$ whose elements $(i,j)$ are $Q_{i,j} = N_{i,j}-\\frac{1+ \\sqrt{5}}{2}$\n"
   ]
  },
  {
   "cell_type": "code",
   "execution_count": 5,
   "metadata": {
    "id": "vlNdH8FsX_-Y"
   },
   "outputs": [],
   "source": [
    "m = np.matrix([[1,2,3,3],[2,2,0,0],[5,6,3,1],[0,2,0,5]])\n",
    "n = np.matrix([[1,2,3,3],[-1,2,0,0],[5,6,3,1],[0,2,0,4]])\n",
    "o = 2*m-3*n\n",
    "p = 1/3*np.power(m,3)\n",
    "q = n - ((1+np.power(5,1/2))/2)"
   ]
  },
  {
   "cell_type": "markdown",
   "metadata": {
    "id": "pik6tTt_YAET"
   },
   "source": [
    "## Exercise 6\n",
    "\n",
    "Using the matrix $M$ from exercise 5, add to its third row the values of the first row multiplied by 3. Then, switch the first and third resulting columns."
   ]
  },
  {
   "cell_type": "code",
   "execution_count": 6,
   "metadata": {
    "id": "wfJDWn1hYXRP"
   },
   "outputs": [
    {
     "name": "stdout",
     "output_type": "stream",
     "text": [
      "[[1 2 3 3]\n",
      " [2 2 0 0]\n",
      " [5 6 3 1]\n",
      " [0 2 0 5]]\n",
      "[[ 1  2  3  3]\n",
      " [ 2  2  0  0]\n",
      " [ 8 12 12 10]\n",
      " [ 0  2  0  5]]\n"
     ]
    }
   ],
   "source": [
    "print(m)\n",
    "m[2,:]+=3*m[0,:]\n",
    "print(m)"
   ]
  },
  {
   "cell_type": "markdown",
   "metadata": {
    "id": "7ZTZJCSbYXX3"
   },
   "source": [
    "## Exercise 7\n",
    "Using the matrix $N$ from exercise 5, find the minimum value of each row. Additionaly, sort the elements of each column in $N$ in descending order."
   ]
  },
  {
   "cell_type": "code",
   "execution_count": 8,
   "metadata": {
    "id": "1dN0IUcLYoyu"
   },
   "outputs": [],
   "source": [
    "minValuesRow = np.min(n, axis=1)\n",
    "columnasOrdenadas = np.sort(n, axis=0)[::-1]"
   ]
  },
  {
   "cell_type": "markdown",
   "metadata": {
    "id": "6QcxrHMcYnmy"
   },
   "source": [
    "## Exercise 8\n",
    "Using the vectors $A = (1,3,5,7)$ and $B = (2,4,6,8)$, construct the matrix $C = \\begin{pmatrix} 2& 4 & 6 & 8 \\\\ 6 & 12 & 18 & 24 \\\\ 10 & 20 & 30 & 40 \\\\ 14 & 28 & 42 & 56 \\end{pmatrix}$"
   ]
  },
  {
   "cell_type": "code",
   "execution_count": 9,
   "metadata": {
    "id": "LHR19JwRY_1U"
   },
   "outputs": [],
   "source": [
    "a = np.matrix([1,3,5,7])\n",
    "b = np.matrix([2,4,6,8])\n",
    "c = np.zeros((4,4))\n",
    "multiplicar = np.array([1,3,5,7])\n",
    "for i in range(4):\n",
    "    c[i,:] =  c[i,:] + multiplicar[i]*b"
   ]
  },
  {
   "cell_type": "markdown",
   "metadata": {
    "id": "95HrjAU0Y_-Y"
   },
   "source": [
    "## Exercise 9\n",
    "Construct a random matrix $X$ of size $5 \\times 5$. With a single instruction, replace all values of the principal diagonal with zeroes."
   ]
  },
  {
   "cell_type": "code",
   "execution_count": 10,
   "metadata": {
    "id": "FM3guk0oZFz5"
   },
   "outputs": [
    {
     "name": "stdout",
     "output_type": "stream",
     "text": [
      "[[0.         0.61844321 0.21554199 0.50246547 0.61428446]\n",
      " [0.96822562 0.         0.06625661 0.08958586 0.21465932]\n",
      " [0.23925002 0.09536228 0.         0.71948919 0.03809379]\n",
      " [0.20790485 0.2656813  0.37000341 0.         0.38102169]\n",
      " [0.8594782  0.927752   0.58334397 0.34483594 0.        ]]\n"
     ]
    }
   ],
   "source": [
    "x = np.random.rand(5,5)\n",
    "np.fill_diagonal(x,0)\n",
    "print(x)"
   ]
  },
  {
   "cell_type": "markdown",
   "metadata": {
    "id": "KfIUCfozZF6s"
   },
   "source": [
    "## Exercise 10\n",
    "\n",
    "Given the matrix $X = \\begin{pmatrix} 1&2&3&4 \\\\ 5&6&7&8 \\\\ 9&10&11&12 \\\\ 13&14&15&16 \\end{pmatrix}$, construct matrix $Y = \\begin{pmatrix} 1&1&1&1 \\\\ 1&6&1&1 \\\\ 1&1&11&1 \\\\ 1&1&1&16 \\end{pmatrix}$"
   ]
  },
  {
   "cell_type": "code",
   "execution_count": 11,
   "metadata": {
    "id": "MFUIPIvAZnDp"
   },
   "outputs": [
    {
     "name": "stdout",
     "output_type": "stream",
     "text": [
      "[[ 1.  1.  1.  1.]\n",
      " [ 1.  6.  1.  1.]\n",
      " [ 1.  1. 11.  1.]\n",
      " [ 1.  1.  1. 16.]]\n"
     ]
    }
   ],
   "source": [
    "x=np.matrix([[1,2,3,4],[5,6,7,8],[9,10,11,12],[13,14,15,16]])\n",
    "y=np.zeros((4,4))\n",
    "for i in range(4):\n",
    "    y[:,i]=np.squeeze(x[:, 1] - x[:, 0])\n",
    "np.fill_diagonal(y,np.diag(x))\n",
    "print(y)"
   ]
  },
  {
   "cell_type": "markdown",
   "metadata": {
    "id": "ryfebh85ZnJw"
   },
   "source": [
    "## Exercise 11\n",
    "Using the vector $v = (2,4,6,8)$ and the matrix $M = \\begin{pmatrix} 1&1&1&1 \\\\2&2&2&2 \\\\ 3&3&3&3 \\\\ 4&4&4&4 \\end{pmatrix}$, construct, in a single instruction, matrix $W = \\begin{pmatrix} 2&1&1&1 \\\\2&4&2&2 \\\\ 3&3&6&3 \\\\ 4&4&4&8 \\end{pmatrix}$.\n"
   ]
  },
  {
   "cell_type": "code",
   "execution_count": 12,
   "metadata": {
    "id": "5dFZcphOaN29"
   },
   "outputs": [
    {
     "name": "stdout",
     "output_type": "stream",
     "text": [
      "[[2 1 1 1]\n",
      " [2 4 2 2]\n",
      " [3 3 6 3]\n",
      " [4 4 4 8]]\n"
     ]
    }
   ],
   "source": [
    "v=np.array([2,4,6,8])\n",
    "m=np.matrix([[1,1,1,1],[2,2,2,2],[3,3,3,3],[4,4,4,4]])\n",
    "w = np.concatenate((m[:, 0], m[:, 1], m[:, 2], m[:, 3]), axis=1)\n",
    "np.fill_diagonal(w,v)\n",
    "print(w)"
   ]
  },
  {
   "cell_type": "markdown",
   "metadata": {
    "id": "untuXX_xabLJ"
   },
   "source": [
    "## Exercise 12\n",
    "Given matrix $X = \\begin{pmatrix} 1&-2&-3&4 \\\\ -5&6&7&-8 \\\\ -9&-10&11&12 \\\\ 13&-14&-15&-16 \\end{pmatrix}$, set all negative elements to 20."
   ]
  },
  {
   "cell_type": "code",
   "execution_count": 14,
   "metadata": {
    "id": "2Xx2-7WMal4c"
   },
   "outputs": [],
   "source": [
    "x=np.matrix([[1,-2,-3,4],[-5,6,7,-8],[-9,-10,11,12],[13,-14,-15,-16]])\n",
    "x[x<0]=20"
   ]
  },
  {
   "cell_type": "markdown",
   "metadata": {
    "id": "-jQIN2fxal_6"
   },
   "source": [
    "## Exercise 13\n",
    "Given the matrix $X$ on exercise 12, set all elements greater than -5 and less than 6 to 11."
   ]
  },
  {
   "cell_type": "code",
   "execution_count": 13,
   "metadata": {
    "id": "c6fR8U5qa4xx"
   },
   "outputs": [],
   "source": [
    "x[(x>-5) & (x<6)] = 11"
   ]
  },
  {
   "cell_type": "markdown",
   "metadata": {
    "id": "spo_IK6Va5Ei"
   },
   "source": [
    "# EXERCISES WITH POLYNOMIALS\n",
    "\n",
    "## Exercise 14\n",
    "\n",
    "Given the polynomials \n",
    "\n",
    "$p(x) = x^6 - 15x^4 + 85x^4 - 225x^3 + 274x^2 - 120x \\\\\n",
    "q(x) = x^3-9x^2-26x-24$\n",
    "\n",
    "1.  Represent the polynomials as `ndarrays`\n",
    "2.  Get the values $p(-2), p(-3), q(-1)$\n",
    "3.  Get $p(x)+q(x)$\n",
    "4.  Get $p(x)-q(x)$\n",
    "5.  Get $p(x)+q(x)-p(x)*q(x)$\n",
    "6.  Get the result of $p$ divided by $q$."
   ]
  },
  {
   "cell_type": "code",
   "execution_count": 15,
   "metadata": {
    "id": "pxB4JYR-buXe"
   },
   "outputs": [
    {
     "name": "stdout",
     "output_type": "stream",
     "text": [
      "[   1  -15   85 -224  265 -146  -25]\n",
      "[   1  -15   85 -226  283  -94   25]\n",
      "    9      8       7       6       5        4       3        2\n",
      "-1 x + 24 x - 194 x + 626 x - 479 x - 1054 x + 195 x + 3995 x - 3146 x - 25\n",
      "(poly1d([  1.,  -6.,  57., 157.]), poly1d([3019., 5387., 3925.]))\n"
     ]
    }
   ],
   "source": [
    "p=np.array([1,-15,85,-225,274,-120,0])\n",
    "q=np.array([1,-9,-26,-25])\n",
    "z=np.array([1,5])\n",
    "p1 = np.polyval(p,-2)\n",
    "p2 = np.polyval(p,2)\n",
    "q1 = np.polyval(q,-1)\n",
    "print(np.polyadd(p,q))\n",
    "print(np.polysub(p,q))\n",
    "p=np.poly1d(p)\n",
    "q=np.poly1d(q)\n",
    "print(p+q-p*q) #devuelve\n",
    "print(p/q) #np.polydiv ->devuelve cociente y division"
   ]
  },
  {
   "cell_type": "markdown",
   "metadata": {
    "id": "IucPvnSNbufg"
   },
   "source": [
    "## Exercise 15\n",
    "\n",
    "Given the polynomial $r(x) = (x-2)^2 (x+3)(x-7)$\n",
    "1.  Represent $r$ symbolically.*\n",
    "2.  Convert the symbolic representation to numerical.\n",
    "3.  Get the value of $r$ divided by $s(x) = x^2 -4x-21$\n",
    "4.  Get the symbolic expression of the result of the previous task."
   ]
  },
  {
   "cell_type": "code",
   "execution_count": 23,
   "metadata": {
    "id": "Pqu178KBcJH2"
   },
   "outputs": [
    {
     "name": "stdout",
     "output_type": "stream",
     "text": [
      "   4     3     2\n",
      "1 x - 8 x - 1 x + 68 x - 84\n",
      "9.0\n"
     ]
    }
   ],
   "source": [
    "r1=np.array([1,-2])\n",
    "r2=np.array([1,3])\n",
    "r3=np.array([1,-7])\n",
    "\n",
    "r4=np.polymul(r2,r3)\n",
    "r5=np.polynomial.polynomial.polypow(r1,2)\n",
    "r=np.polymul(r4,r5)\n",
    "print(np.poly1d(r))\n",
    "\n",
    "s=np.array([1,-4,-21])\n",
    "cociente,resto=np.polydiv(r,s)\n",
    "print(np.polyval(cociente,5)) #x=5"
   ]
  },
  {
   "cell_type": "markdown",
   "metadata": {
    "id": "kSg-Sk3vcJOn"
   },
   "source": [
    "## Exercise 16\n",
    "Find the absolute minimum of the polynomial $p(x) = x^2 + x + 1$.\n"
   ]
  },
  {
   "cell_type": "code",
   "execution_count": 24,
   "metadata": {},
   "outputs": [
    {
     "name": "stdout",
     "output_type": "stream",
     "text": [
      "0.75\n"
     ]
    }
   ],
   "source": [
    "p=np.array([1,1,1]) #a=1 b=1 c=1; x=-b/2a\n",
    "print(np.polyval(p,-1/2))"
   ]
  },
  {
   "cell_type": "code",
   "execution_count": null,
   "metadata": {},
   "outputs": [],
   "source": []
  }
 ],
 "metadata": {
  "colab": {
   "provenance": []
  },
  "kernelspec": {
   "display_name": "Python 3 (ipykernel)",
   "language": "python",
   "name": "python3"
  },
  "language_info": {
   "codemirror_mode": {
    "name": "ipython",
    "version": 3
   },
   "file_extension": ".py",
   "mimetype": "text/x-python",
   "name": "python",
   "nbconvert_exporter": "python",
   "pygments_lexer": "ipython3",
   "version": "3.11.5"
  }
 },
 "nbformat": 4,
 "nbformat_minor": 1
}
