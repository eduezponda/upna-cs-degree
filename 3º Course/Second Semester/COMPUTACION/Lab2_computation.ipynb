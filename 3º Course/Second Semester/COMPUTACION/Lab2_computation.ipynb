{
 "cells": [
  {
   "cell_type": "markdown",
   "metadata": {
    "id": "d3o88vUabWXF"
   },
   "source": [
    "# **Lab 2:** Newton-Rhapson for approximate equation solving\n"
   ]
  },
  {
   "cell_type": "markdown",
   "metadata": {
    "id": "AC1m4eySbfVC"
   },
   "source": [
    "In this practice we continue with the implementation of the methods of locating zeros seen in the theory. In this case, the practice consists of two parts.\n",
    "\n",
    "## 1. Finding the interval\n",
    "\n",
    "Given a polynomial $P(x)$ of odd deggree, find an interval $[a, b]$ in which the given polynomial contains at least a zero."
   ]
  },
  {
   "cell_type": "code",
   "execution_count": 8,
   "metadata": {
    "id": "BEU4cdvHbP5u"
   },
   "outputs": [],
   "source": [
    "#SECANT METHOD\n",
    "import sympy as sp\n",
    "def root_interval(P, err):\n",
    "    a = -50\n",
    "    b = 50\n",
    "\n",
    "    root = b - (P.subs(x, b) * (b - a)) / (P.subs(x, b) - P.subs(x, a))\n",
    "    \n",
    "    maxIter = 500\n",
    "    n = 0\n",
    "\n",
    "    while abs(P.subs(x, root)) >= err and n < maxIter:\n",
    "        a = b\n",
    "        b = root\n",
    "\n",
    "        if P.subs(x, b) - P.subs(x, a) == 0:\n",
    "            break\n",
    "\n",
    "        root = b - (P.subs(x, b) * (b - a)) / (P.subs(x, b) - P.subs(x, a))\n",
    "        n += 1\n",
    "\n",
    "    if n < maxIter:\n",
    "        return a, b\n",
    "    else:\n",
    "        return None"
   ]
  },
  {
   "cell_type": "markdown",
   "metadata": {
    "id": "fJD7zBTScD-m"
   },
   "source": [
    "## 2. Newton-Raphson method\n",
    "\n",
    "\n",
    "A program must be implemented in which, given a polynomial $P(x)$ and a tolerance $err$, it calculates an interval $[a,b]$ using the above program and returns the result of applying the **Newton-Raphson method** to that polynomial in that interval. It will be necessary having into account that the method may no converge, so a maximum number of iterations must be considered ($maxIter$)."
   ]
  },
  {
   "cell_type": "code",
   "execution_count": 18,
   "metadata": {
    "id": "mMJ1gMbPcjfw"
   },
   "outputs": [
    {
     "name": "stdout",
     "output_type": "stream",
     "text": [
      "Root found in the interval [-6, -4]: -5.0\n",
      "Value at root: 0\n"
     ]
    },
    {
     "data": {
      "text/plain": [
       "-5.0"
      ]
     },
     "execution_count": 18,
     "metadata": {},
     "output_type": "execute_result"
    }
   ],
   "source": [
    "def newtonRaphson(P, interval, err, maxIter):\n",
    "    a, b = interval\n",
    "    root = (a + b) / 2\n",
    "    n = 0\n",
    "    while abs(P.subs(x, root)) >= err and n < maxIter:\n",
    "        root = root - P.subs(x, root) / P.diff(x).subs(x, root)\n",
    "        n += 1\n",
    "    if n < maxIter:\n",
    "        return root\n",
    "    else:\n",
    "        return None\n",
    "\n",
    "def find_root(P, interval, err, maxIter):\n",
    "    a, b = interval\n",
    "    root = newtonRaphson(P, interval, err, maxIter)\n",
    "    if root is not None and a <= root <= b:\n",
    "        print(f\"Root found in the interval [{a}, {b}]: {root}\")\n",
    "        print(f\"Value at root: {P.subs(x, root)}\")\n",
    "        return root\n",
    "    else:\n",
    "        print(\"Newton-Raphson method did not converge or the root is outside the specified interval.\")\n",
    "        return None\n",
    "\n",
    "x = sp.Symbol('x')\n",
    "P = 0.25 * x**3 + 1.25 * x**2 - 0.25 * x - 1.25\n",
    "err = 0.001\n",
    "maxIter = 500\n",
    "interval = [-6, -4]\n",
    "\n",
    "find_root(P, interval, err, maxIter)\n"
   ]
  },
  {
   "cell_type": "markdown",
   "metadata": {
    "id": "lONf-bXzc5QA"
   },
   "source": [
    "NOTE: Check the results obtained for the polynomial: \n",
    "\n",
    "$$ P(x) = 0.25x^3 + 1.25x^2 - 0.25x - 1.25 $$\n",
    "\n",
    "(whose roots are in $\\{-1, 1, -5\\}$). \n",
    "\n",
    "In particular, use the method to find the root contained in the interval $[a,b] = [-6,-4]$."
   ]
  },
  {
   "cell_type": "markdown",
   "metadata": {},
   "source": []
  }
 ],
 "metadata": {
  "colab": {
   "provenance": []
  },
  "kernelspec": {
   "display_name": "Python 3 (ipykernel)",
   "language": "python",
   "name": "python3"
  },
  "language_info": {
   "codemirror_mode": {
    "name": "ipython",
    "version": 3
   },
   "file_extension": ".py",
   "mimetype": "text/x-python",
   "name": "python",
   "nbconvert_exporter": "python",
   "pygments_lexer": "ipython3",
   "version": "3.11.5"
  }
 },
 "nbformat": 4,
 "nbformat_minor": 1
}
