{
 "cells": [
  {
   "cell_type": "markdown",
   "metadata": {
    "id": "d3o88vUabWXF"
   },
   "source": [
    "# **Lab 3:** Approximate solution of equations by Horner and Sturm methods"
   ]
  },
  {
   "cell_type": "markdown",
   "metadata": {
    "id": "AC1m4eySbfVC"
   },
   "source": [
    "## 1. Horner's Method\n",
    "\n",
    "Implement Horner's Method so that, given a polynomial $P(x)$ of\n",
    "any degree and a point $x_0 \\in \\mathbb{R}$, determine another polynomial $Q(x)$ such that\n",
    "\n",
    "$$ P(x) = (x-x_0) \\: Q(x) + P(x_0) $$"
   ]
  },
  {
   "cell_type": "code",
   "execution_count": 1,
   "metadata": {
    "id": "3XNimY7kgBuz"
   },
   "outputs": [],
   "source": [
    "import numpy as np"
   ]
  },
  {
   "cell_type": "code",
   "execution_count": 2,
   "metadata": {
    "id": "BEU4cdvHbP5u"
   },
   "outputs": [],
   "source": [
    "def Horner(P, x_0):\n",
    "    b = np.empty(len(P.coeffs)-1) #coeficientes de Q vacios con una posicion menos que P\n",
    "    b[0] = P.coeffs[0] #añado primera posicion\n",
    "    for i in range(1, len(P.coeffs)-1): #añado el resto (al ser un for->[1...len-2])\n",
    "        b[i] = P.coeffs[i] + b[i-1] * x_0\n",
    "    return np.poly1d(b)"
   ]
  },
  {
   "cell_type": "code",
   "execution_count": 3,
   "metadata": {
    "id": "PWwmHjFLci_E"
   },
   "outputs": [
    {
     "name": "stdout",
     "output_type": "stream",
     "text": [
      "True\n",
      "True\n"
     ]
    }
   ],
   "source": [
    "# para comprobar\n",
    "P = np.poly1d([5,7,2,3])\n",
    "x_0 = [0,3]\n",
    "for x0 in x_0:\n",
    "    Q = Horner(P, x0)\n",
    "    print(np.polyadd(np.polymul(np.array([1, - x0]), Q), np.polyval(P, x0)) == P)"
   ]
  },
  {
   "cell_type": "markdown",
   "metadata": {
    "id": "YNKiH7RJ_z1x"
   },
   "source": [
    "Use it with the polynomial:\n",
    "\n",
    "$ P(x) = 5x^3+7x^2+2x+3$ con $x_0=0$ y $x_0 = 3$"
   ]
  },
  {
   "cell_type": "code",
   "execution_count": null,
   "metadata": {
    "id": "lY_dJRA__roe"
   },
   "outputs": [],
   "source": []
  },
  {
   "cell_type": "markdown",
   "metadata": {
    "id": "fJD7zBTScD-m"
   },
   "source": [
    "## 2. Sturm's Method"
   ]
  },
  {
   "cell_type": "markdown",
   "metadata": {
    "id": "Fhkx2Z_RXEOh"
   },
   "source": [
    "1. Implement Sturm's Method to, given a polynomial $P(x)$, **construct the sequence of Sturm polynomials**. Make a function that returns a list of polynomials (ndarrays)."
   ]
  },
  {
   "cell_type": "code",
   "execution_count": 2,
   "metadata": {
    "id": "0ynq1Qi6XQJJ"
   },
   "outputs": [],
   "source": [
    "def SturmSequence(P):\n",
    "    seq = []\n",
    "    seq.append(P)\n",
    "    dividendo = P\n",
    "    i = -1\n",
    "    while dividendo.order > 1:\n",
    "        if i == -1:\n",
    "            divisor = dividendo.deriv()\n",
    "            seq.append(divisor)\n",
    "        else:\n",
    "            q, r = np.polydiv(dividendo, divisor)\n",
    "            seq.append(-r)  \n",
    "            dividendo=divisor\n",
    "            divisor=-r \n",
    "        i+=1\n",
    "    return seq"
   ]
  },
  {
   "cell_type": "code",
   "execution_count": 4,
   "metadata": {
    "colab": {
     "base_uri": "https://localhost:8080/"
    },
    "id": "iHG9nt1FkM7u",
    "outputId": "f03167ac-accf-4e8c-df58-abd75e20d564"
   },
   "outputs": [
    {
     "data": {
      "text/plain": [
       "[poly1d([  1,  -9,  24, -36]),\n",
       " poly1d([  3, -18,  24]),\n",
       " poly1d([ 2., 12.]),\n",
       " poly1d([-240.])]"
      ]
     },
     "execution_count": 4,
     "metadata": {},
     "output_type": "execute_result"
    }
   ],
   "source": [
    "P = np.poly1d([1,-9,24,-36])\n",
    "seq = SturmSequence(P)\n",
    "seq"
   ]
  },
  {
   "cell_type": "markdown",
   "metadata": {
    "id": "IieM_FlRXQRI"
   },
   "source": [
    "2. Complement the implementation of section 1, to, using Sturm's Method, **find the number of positive and negative roots** of $P(x)$ in a given interval. Make a function that returns the values `pos` and `neg`.\n",
    "\n",
    "NOTE: Assume that all roots are simple."
   ]
  },
  {
   "cell_type": "code",
   "execution_count": 6,
   "metadata": {},
   "outputs": [],
   "source": [
    "from sympy import Integer\n",
    "\n",
    "def numberOfRoots(P,a,b): \n",
    "    seq = SturmSequence(P) \n",
    "    roots = np.zeros(3) #número de cambios de signo en x=a, x=0 y x=b\n",
    "    intervalo=[a,0,b]\n",
    "    for i in range(len(intervalo)):\n",
    "        signo_actual = 'None'\n",
    "        signo_anterior = 'None'\n",
    "        for j in range(len(seq)):\n",
    "            valor = np.polyval(seq[j], intervalo[i])\n",
    "            if valor > 0:\n",
    "                signo_actual = 'positivo'\n",
    "                if signo_anterior == 'None':\n",
    "                    signo_anterior = signo_actual                   \n",
    "            elif valor < 0:\n",
    "                signo_actual = 'negativo'\n",
    "                if signo_anterior == 'None':\n",
    "                    signo_anterior = signo_actual\n",
    "            if signo_actual != signo_anterior:\n",
    "                roots[i] += 1\n",
    "                signo_anterior = signo_actual\n",
    "    return tuple(roots)"
   ]
  },
  {
   "cell_type": "code",
   "execution_count": 7,
   "metadata": {
    "id": "3zvNburnneSb"
   },
   "outputs": [
    {
     "data": {
      "text/plain": [
       "(2.0, 2.0, 1.0)"
      ]
     },
     "execution_count": 7,
     "metadata": {},
     "output_type": "execute_result"
    }
   ],
   "source": [
    "P = np.poly1d([1,-9,24,-36])\n",
    "neg, x0, pos = numberOfRoots(P,-100,100)\n",
    "(neg, x0, pos)"
   ]
  },
  {
   "cell_type": "markdown",
   "metadata": {
    "id": "beETGstmXo70"
   },
   "source": [
    "3. Use the implementation of section 2 to **separate the roots of a given polynomial** (i.e., find intervals containing one and only one\n",
    "polynomial** (i.e. to find intervals containing one and only one root). Make a function that returns a list of intervals.\n",
    "\n",
    "NOTE: Assume that all the roots of the polynomial are real and simple."
   ]
  },
  {
   "cell_type": "code",
   "execution_count": 8,
   "metadata": {
    "id": "EdluqdqPYcpe"
   },
   "outputs": [],
   "source": [
    "def setRootsNegative(P,numeroRaices,intervals):\n",
    "    i=0\n",
    "    a=0\n",
    "    while i<numeroRaices:\n",
    "        neg=pos=0\n",
    "        while neg==pos:\n",
    "            a-=1\n",
    "            neg,x0,pos = numberOfRoots(P,a,a+1)\n",
    "        intervals.append([a+1,a])\n",
    "        i+=1\n",
    "    return intervals\n",
    "def setRootsPositive(P,numeroRaices,intervals):\n",
    "    i=0\n",
    "    b=0\n",
    "    while i<numeroRaices:\n",
    "        neg=pos=0\n",
    "        while neg==pos:\n",
    "            b+=1\n",
    "            neg,x0,pos = numberOfRoots(P,b-1,b)\n",
    "        intervals.append([b-1,b])\n",
    "        i+=1\n",
    "    return intervals\n",
    "    \n",
    "def SturmIntervals(P):\n",
    "    intervals=[]\n",
    "    neg,x0,pos = numberOfRoots(P,-100,100)\n",
    "    if neg!=x0:\n",
    "        numeroRaices=neg-x0\n",
    "        intervals=setRootsNegative(P,numeroRaices,intervals)\n",
    "    if x0!=pos:\n",
    "        numeroRaices = x0-pos\n",
    "        intervals=setRootsPositive(P,numeroRaices,intervals)\n",
    "    return intervals"
   ]
  },
  {
   "cell_type": "code",
   "execution_count": 9,
   "metadata": {
    "id": "Vj-z3ILJoTMy"
   },
   "outputs": [
    {
     "name": "stdout",
     "output_type": "stream",
     "text": [
      "[[5, 6]]\n",
      "[[0, -1], [-2, -3], [0, 1], [1, 2], [2, 3], [5, 6]]\n"
     ]
    }
   ],
   "source": [
    "P = np.poly1d([1,-9,24,-36]) #6\n",
    "intervals = SturmIntervals(P)\n",
    "print(intervals)\n",
    "P = np.poly1d([1,-9.5,18,33.5,-97,18,36]) #-2,-1/2,1,2,3,6\n",
    "intervals = SturmIntervals(P)\n",
    "print(intervals)"
   ]
  },
  {
   "cell_type": "markdown",
   "metadata": {
    "id": "G7tezQfrDIFl"
   },
   "source": [
    "Compute the intervals of separation of the roots of the following polynomials:\n",
    "\n",
    "$$P_1(x) = x^3-9x^2+24x-36$$\n",
    "$$P_2(x) = x^6 - 9.5x^5 + 18x^4 + 33.5x^3 - 97x^2 + 18x +36$$"
   ]
  }
 ],
 "metadata": {
  "colab": {
   "provenance": []
  },
  "kernelspec": {
   "display_name": "Python 3 (ipykernel)",
   "language": "python",
   "name": "python3"
  },
  "language_info": {
   "codemirror_mode": {
    "name": "ipython",
    "version": 3
   },
   "file_extension": ".py",
   "mimetype": "text/x-python",
   "name": "python",
   "nbconvert_exporter": "python",
   "pygments_lexer": "ipython3",
   "version": "3.11.5"
  }
 },
 "nbformat": 4,
 "nbformat_minor": 1
}
