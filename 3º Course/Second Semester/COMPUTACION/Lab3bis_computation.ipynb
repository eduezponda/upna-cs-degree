{
 "cells": [
  {
   "cell_type": "code",
   "execution_count": 1,
   "metadata": {},
   "outputs": [],
   "source": [
    "# Import necessary libraries\n",
    "from sympy import *"
   ]
  },
  {
   "cell_type": "markdown",
   "metadata": {},
   "source": [
    "# Regula-Falsi and Secant methods"
   ]
  },
  {
   "cell_type": "markdown",
   "metadata": {},
   "source": [
    "Implement the Regula-Falsi method so that, given an interval $[a, b]$ with $f(a)f(b) < 0$, it finds a root $p \\in [a, b]$:"
   ]
  },
  {
   "cell_type": "code",
   "execution_count": 2,
   "metadata": {},
   "outputs": [
    {
     "name": "stdout",
     "output_type": "stream",
     "text": [
      "Root found:  0.360571651383406\n",
      "0.000375123007953782\n"
     ]
    }
   ],
   "source": [
    "def regula_falsi(f, a, b):\n",
    "    p = a\n",
    "    while abs(f.subs(x, p).evalf()) > 0.001:\n",
    "        if f.subs(x,a).evalf() > 0:\n",
    "            p = a - ((f.subs(x, a).evalf() * (b - a)) / (f.subs(x, b).evalf() - f.subs(x, a).evalf()))\n",
    "        else:\n",
    "            p = b - ((f.subs(x, b).evalf() * (a - b)) / (f.subs(x, a).evalf() - f.subs(x, b).evalf()))\n",
    "\n",
    "        if f.subs(x, p).evalf() * f.subs(x, a).evalf() < 0:\n",
    "            b = p\n",
    "        else:\n",
    "            a = p\n",
    "    print('Root found: ',p)\n",
    "    return p\n",
    "\n",
    "x = Symbol('x')\n",
    "f = 3*x + sin(x) - exp(x)\n",
    "a = 0\n",
    "b = 0.5\n",
    "print(f.subs(x,regula_falsi(f, a, b)).evalf())\n"
   ]
  },
  {
   "cell_type": "markdown",
   "metadata": {},
   "source": [
    "Implement the Secant method so that, given two initial values $p_0$ and $p_1$, a root $p$ is returned:"
   ]
  },
  {
   "cell_type": "code",
   "execution_count": 3,
   "metadata": {},
   "outputs": [
    {
     "name": "stdout",
     "output_type": "stream",
     "text": [
      "Root found:  0.360436443380589\n",
      "3.68775986946956e-5\n",
      "Root found:  -3.18302117724287\n",
      "0.00196438866572635\n"
     ]
    }
   ],
   "source": [
    "def secant(f, p_0, p_1):\n",
    "    p = p_0\n",
    "    aux = p_1\n",
    "    while abs(f.subs(x, p).evalf()-f.subs(x,aux).evalf()) > 0.001:\n",
    "        if f.subs(x,p_0).evalf() > 0:\n",
    "            p = p_0 - ((f.subs(x, p_0).evalf() * (p_1 - p_0)) / (f.subs(x, p_1).evalf() - f.subs(x, p_0).evalf()))\n",
    "        else:\n",
    "            p = p_1 - ((f.subs(x, p_1).evalf() * (p_0 - p_1)) / (f.subs(x, p_0).evalf() - f.subs(x, p_1).evalf()))\n",
    "\n",
    "        if f.subs(x, p).evalf() * f.subs(x, p_0).evalf() < 0:\n",
    "            aux = p_1\n",
    "            p_1 = p\n",
    "        else:\n",
    "            aux = p_0\n",
    "            p_0 = p\n",
    "    print('Root found: ',p)\n",
    "    return p\n",
    "\n",
    "x = Symbol('x')\n",
    "f = 3*x + sin(x) - exp(x)\n",
    "p_0 = 0\n",
    "p_1 = 0.5\n",
    "print(f.subs(x,secant(f,p_0,p_1)).evalf())\n",
    "f = x**7 -3*x**6 - 12*x**5 + 12*x**4 - 27*x**3 + 34*x**2 - 14*x +18\n",
    "p_0 = -4\n",
    "p_1 = -3\n",
    "print(f.subs(x,secant(f,p_0,p_1)).evalf())"
   ]
  },
  {
   "cell_type": "markdown",
   "metadata": {},
   "source": [
    "# Convergence of the secant method"
   ]
  },
  {
   "cell_type": "markdown",
   "metadata": {},
   "source": [
    "Program a function which would be able to predict if, given a function $f(x)$ with a root $p \\in [p_0-\\delta, p_0+\\delta]$, if the secant method could be able to find $p$:\n",
    "\n",
    "**Note**: Remember that you can find the derivatives of different order for any given function $f$ using the using the library scipy. You can follow [this example](https://docs.sympy.org/latest/tutorials/intro-tutorial/calculus.html). Additionaly, you can find if a function $f$ is continuous in a domain using the function [`continuous_domain`](https://docs.sympy.org/latest/modules/calculus/index.html#sympy.calculus.util.continuous_domain) function of scipy. `continuous_domain` returns either an Interval (if continuous in all the domain) or a Union of the Intervals in which it is continuous."
   ]
  },
  {
   "cell_type": "code",
   "execution_count": 4,
   "metadata": {},
   "outputs": [
    {
     "name": "stdout",
     "output_type": "stream",
     "text": [
      "True\n"
     ]
    }
   ],
   "source": [
    "from sympy import Interval\n",
    "from sympy.calculus.util import continuous_domain\n",
    "\n",
    "def convergence_secant(f, p_0, delta):\n",
    "    x = Symbol('x')\n",
    "    domain = Interval(p_0 - delta, p_0 + delta)\n",
    "    if continuous_domain(diff(f, x, x), x, domain) == domain and diff(f, x).subs(x, p_0).evalf() != 0 and f.subs(x, p_0).evalf() == 0:\n",
    "        return True\n",
    "    return False\n",
    "\n",
    "x = Symbol('x')\n",
    "f = x**2 - 4\n",
    "p_0 = 2\n",
    "delta = 0.1\n",
    "print(convergence_secant(f, p_0, delta))\n"
   ]
  },
  {
   "cell_type": "markdown",
   "metadata": {},
   "source": [
    "Program a function which, given a function $f$ with a root $p$ near a value $p_0$, finds the root in the \"most efficient way\". That is:\n",
    "\n",
    "1. Check if the secant method would be guaranteed to convergence to $p$ given two initial estimates $p_0$, $p_1$.\n",
    "2. If it did, apply the secant method to find $p$.\n",
    "3. If the convergence is not guaranteed, find an interval $[a, b]$ around $p_0$ where there is a change of sign. \n",
    "4. Use the Regula-Falsi method for finding the root $p$ in $[a, b]$. "
   ]
  },
  {
   "cell_type": "code",
   "execution_count": 5,
   "metadata": {},
   "outputs": [],
   "source": [
    "def find_interval(f, p_0):\n",
    "    step = 0.25\n",
    "    continuous_intervals = continuous_domain(f, x, S.Reals)\n",
    "    number_to_check = 0\n",
    "    if continuous_intervals == S.Reals:\n",
    "        domainAllRealNumbers = True\n",
    "    else:\n",
    "        domainAllRealNumbers = False\n",
    "    a = max(p_0 - step, 0.1)\n",
    "    b = p_0 + step \n",
    "    maxIter = 500\n",
    "    iteraciones = 0\n",
    "    while f.subs(x,a).evalf() * f.subs(x,b).evalf() > 0 and iteraciones < maxIter:\n",
    "        if domainAllRealNumbers or a - step > 0:\n",
    "            a -= step\n",
    "        else: \n",
    "            a += step\n",
    "        b += step\n",
    "        iteraciones += 1 \n",
    "    if iteraciones == maxIter:\n",
    "        return None, None\n",
    "    return a, b"
   ]
  },
  {
   "cell_type": "code",
   "execution_count": 6,
   "metadata": {},
   "outputs": [],
   "source": [
    "def find_root_efficiently(f, p_0, p_1):\n",
    "    delta = 10\n",
    "    if convergence_secant(f, p_0, delta) or convergence_secant(f, p_1, delta):\n",
    "        p = secant(f, p_0, p_1)\n",
    "    else: \n",
    "        a, b = find_interval(f, p_0)\n",
    "        if a != None and b != None:\n",
    "            p = regula_falsi(f, a, b)\n",
    "        else:\n",
    "            print('Root not founded')\n",
    "            p = None\n",
    "    return p"
   ]
  },
  {
   "cell_type": "markdown",
   "metadata": {},
   "source": [
    "Use the previous function in order to find roots for the following functions:"
   ]
  },
  {
   "cell_type": "markdown",
   "metadata": {},
   "source": [
    "**List of functions**:\n",
    "\n",
    "1. $f_1(x)=2.3 x^5 + 2.3 x^4 + 3.2 x + 3.2$\n",
    "2. $f_4(x)=e^{-x} - \\ln x$, for $x > 0$\n",
    "3. $f_5(x)=\\ln x + x$, for $x > 0$\n",
    "4. $f_8(x)=\\ln x + \\sqrt{x}$, for $x > 0$\n",
    "5. $f_7(x)=(x-1)^2 - \\sqrt{x}$, for $x > 0$\n",
    "6. $f_9(x)=e^x - \\sin x$, for $x > 0$"
   ]
  },
  {
   "cell_type": "code",
   "execution_count": 7,
   "metadata": {},
   "outputs": [
    {
     "name": "stdout",
     "output_type": "stream",
     "text": [
      "Root found:  -0.999818308044073\n"
     ]
    }
   ],
   "source": [
    "f1 = 2.3*x**5 + 2.3*x**4 + 3.2*x +3.2\n",
    "p_0 = -5\n",
    "p_1 = 3\n",
    "p = find_root_efficiently(f1,p_0,p_1)"
   ]
  },
  {
   "cell_type": "code",
   "execution_count": 8,
   "metadata": {},
   "outputs": [
    {
     "name": "stdout",
     "output_type": "stream",
     "text": [
      "Root found:  1.31018253369852\n"
     ]
    }
   ],
   "source": [
    "f4 = exp(-x) - log(x)\n",
    "p_0 = 1\n",
    "p_1 = 3\n",
    "p = find_root_efficiently(f4,p_0,p_1)"
   ]
  },
  {
   "cell_type": "code",
   "execution_count": 9,
   "metadata": {},
   "outputs": [
    {
     "name": "stdout",
     "output_type": "stream",
     "text": [
      "Root found:  0.567181397950368\n"
     ]
    }
   ],
   "source": [
    "f5 = log(x) + x\n",
    "p_0 = 1\n",
    "p_1 = 3\n",
    "p = find_root_efficiently(f5,p_0,p_1)"
   ]
  },
  {
   "cell_type": "code",
   "execution_count": 10,
   "metadata": {},
   "outputs": [
    {
     "name": "stdout",
     "output_type": "stream",
     "text": [
      "Root found:  0.495055310470358\n"
     ]
    }
   ],
   "source": [
    "f8 = log(x) + sqrt(x)\n",
    "p_0 = 1\n",
    "p_1 = 3\n",
    "p = find_root_efficiently(f8,p_0,p_1)"
   ]
  },
  {
   "cell_type": "code",
   "execution_count": 11,
   "metadata": {},
   "outputs": [
    {
     "name": "stdout",
     "output_type": "stream",
     "text": [
      "Root found:  0.275542877558864\n"
     ]
    }
   ],
   "source": [
    "f7 = (x - 1)**2 - sqrt(x)\n",
    "p_0 = 1\n",
    "p_1 = 3\n",
    "p = find_root_efficiently(f7,p_0,p_1)"
   ]
  },
  {
   "cell_type": "code",
   "execution_count": 12,
   "metadata": {},
   "outputs": [
    {
     "name": "stdout",
     "output_type": "stream",
     "text": [
      "Root found:  -3.18399423809415\n"
     ]
    }
   ],
   "source": [
    "f9 = exp(x) - sin(x)\n",
    "p_0 = 1\n",
    "p_1 = 3\n",
    "p = find_root_efficiently(f9,p_0,p_1)"
   ]
  }
 ],
 "metadata": {
  "kernelspec": {
   "display_name": "Python 3 (ipykernel)",
   "language": "python",
   "name": "python3"
  },
  "language_info": {
   "codemirror_mode": {
    "name": "ipython",
    "version": 3
   },
   "file_extension": ".py",
   "mimetype": "text/x-python",
   "name": "python",
   "nbconvert_exporter": "python",
   "pygments_lexer": "ipython3",
   "version": "3.11.5"
  },
  "vscode": {
   "interpreter": {
    "hash": "49cb93f377a7abe7414b7b0f21fb3017538004a126cf690fb524202736b7fb92"
   }
  }
 },
 "nbformat": 4,
 "nbformat_minor": 2
}
