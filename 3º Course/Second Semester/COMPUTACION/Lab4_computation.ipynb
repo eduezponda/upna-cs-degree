{
  "cells": [
    {
      "cell_type": "markdown",
      "metadata": {
        "id": "d3o88vUabWXF"
      },
      "source": [
        "# **LAB 4:** Introduction to genetic algorithms"
      ]
    },
    {
      "cell_type": "markdown",
      "metadata": {
        "id": "i9L5QrJQLSNj"
      },
      "source": [
        "The aim of this practice is to become familiar with the basic ideas behind a **genetic algorithm**. Therefore, we will consider the problem of calculating the inverse of a matrix using genetic algorithms. In general, for any possible matrix, this can be a very complex problem, since the elements of the inverse matrix can be given by any real number.\n",
        "\n",
        "Therefore, in this first practice, we are going to restrict ourselves to binary matrices (i.e., containing only zeros and ones) and such that their inverses are assumed to exist and to contain only the values in ${-1, 0, 1, 2}$ (although not necessarily all of them).\n",
        "Let us consider the matrix:\n",
        "\n",
        "\\begin{equation}\n",
        "A =\n",
        "    \\begin{pmatrix}\n",
        "        0 & 1 & 0 & 1 & 1 & 0 \\\\\n",
        "        1 & 0 & 1 & 0 & 1 & 0 \\\\\n",
        "        0 & 1 & 0 & 1 & 0 & 0 \\\\\n",
        "        0 & 0 & 1 & 0 & 1 & 1 \\\\\n",
        "        1 & 1 & 0 & 1 & 0 & 0 \\\\\n",
        "        0 & 0 & 0 & 1 & 0 & 0\n",
        "    \\end{pmatrix}\n",
        "\\end{equation}"
      ]
    },
    {
      "cell_type": "markdown",
      "metadata": {
        "id": "Xr4R_C3wONIZ"
      },
      "source": [
        "The genetic algorithm to be implemented shall consider the following components:"
      ]
    },
    {
      "cell_type": "markdown",
      "metadata": {
        "id": "5jfa2RIiOPup"
      },
      "source": [
        "1. ***ENCODING.*** Determine the representation for each of the population individuals."
      ]
    },
    {
      "cell_type": "code",
      "execution_count": 224,
      "metadata": {
        "id": "mzkgxIpwOZxq",
        "colab": {
          "base_uri": "https://localhost:8080/"
        },
        "outputId": "79079210-4973-4154-c19f-04426ff49cc4"
      },
      "outputs": [
        {
          "output_type": "stream",
          "name": "stdout",
          "text": [
            "010110101010010100001011110100000100\n"
          ]
        }
      ],
      "source": [
        "# Import necessary libraries\n",
        "import numpy as np\n",
        "\n",
        "A = np.array([[0, 1, 0, 1, 1, 0],\n",
        "              [1, 0, 1, 0, 1, 0],\n",
        "              [0, 1, 0, 1, 0, 0],\n",
        "              [0, 0, 1, 0, 1, 1],\n",
        "              [1, 1, 0, 1, 0, 0],\n",
        "              [0, 0, 0, 1, 0, 0]])\n",
        "\n",
        "def encode_string(matrix):\n",
        "    encoded_string = \"\"\n",
        "    encoding_scheme = {-1:'-1', 0: '0', 1: '1', 2: '2'}\n",
        "    for row in matrix:\n",
        "        for element in row:\n",
        "            encoded_string += encoding_scheme[element]\n",
        "    return encoded_string\n",
        "\n",
        "\n",
        "encoded_A = encode_string(A)\n",
        "print(encoded_A)"
      ]
    },
    {
      "cell_type": "markdown",
      "metadata": {
        "id": "vL9apZdOOZ_Z"
      },
      "source": [
        "2. ***FITNESS FUNCTION.*** Define the function to be used."
      ]
    },
    {
      "cell_type": "code",
      "execution_count": 225,
      "metadata": {
        "id": "Q8kPvX4xOx3l"
      },
      "outputs": [],
      "source": [
        "import numpy as np\n",
        "\n",
        "def fitness(A, population):\n",
        "    fitness_scores = np.zeros(len(population), dtype=int)\n",
        "\n",
        "    for k, individual in enumerate(population):\n",
        "        try:\n",
        "            inverse_A = np.linalg.inv(A)\n",
        "            inverse_individual = np.linalg.inv(individual)\n",
        "\n",
        "            identity_matrix = np.eye(len(A))\n",
        "            fitness_score = np.sum(np.isclose(inverse_A * inverse_individual, identity_matrix))\n",
        "            fitness_scores[k] = fitness_score\n",
        "        except np.linalg.LinAlgError as e:\n",
        "            fitness_scores[k] = 0\n",
        "\n",
        "    return fitness_scores\n"
      ]
    },
    {
      "cell_type": "markdown",
      "metadata": {
        "id": "LIKKWmXyN_3H"
      },
      "source": [
        "3. ***INITIAL POPULATION.*** Consider a population of 10 individuals (i.e. 10 matrices of dimension $6\\times 6$ whose values are in $\\{-1, 0, 1, 1, 2\\}$, randomly initialised)."
      ]
    },
    {
      "cell_type": "code",
      "execution_count": 226,
      "metadata": {
        "id": "72FjmebEOACP",
        "colab": {
          "base_uri": "https://localhost:8080/"
        },
        "outputId": "ed0ace89-987c-476d-dd4b-f02246d437cf"
      },
      "outputs": [
        {
          "output_type": "stream",
          "name": "stdout",
          "text": [
            "[20 18 18 16 17 16 18 16 19 18]\n"
          ]
        }
      ],
      "source": [
        "val_min, val_max = -1, 2\n",
        "num_population = 10\n",
        "\n",
        "N = 6\n",
        "population = np.random.randint(low=val_min,\n",
        "                               high=val_max+1,\n",
        "                               size=(num_population, N, N))\n",
        "\n",
        "print(fitness(A, population))"
      ]
    },
    {
      "cell_type": "markdown",
      "metadata": {
        "id": "UFE0Ea6eOOCc"
      },
      "source": [
        "4. ***PARENT SELECTION.*** Select a method for choosing progenitors in order to create the new individuals. This function must make use of the previously defined fitness function."
      ]
    },
    {
      "cell_type": "code",
      "execution_count": 227,
      "metadata": {
        "id": "ekkiCOKZOOMT",
        "colab": {
          "base_uri": "https://localhost:8080/"
        },
        "outputId": "a2ef08c9-b150-495f-8bda-664dbee03df4"
      },
      "outputs": [
        {
          "output_type": "stream",
          "name": "stdout",
          "text": [
            "0\n"
          ]
        }
      ],
      "source": [
        "import random\n",
        "\n",
        "def progenitorSelection(population): #ROULETTE METHOD\n",
        "  probabilities = np.zeros(len(population))\n",
        "  fit = fitness(A, population)\n",
        "  sumaProbabilities = np.sum(fit)\n",
        "  for i in range(len(fit)):\n",
        "      probabilities[i] = max(fit[i] - (np.mean(fit) - np.std(fit)*2),0)\n",
        "  sumaProbabilities = 0\n",
        "  p = random.random()\n",
        "  for i in range(len(probabilities)):\n",
        "    sumaProbabilities += probabilities[i]\n",
        "    if p <= sumaProbabilities:\n",
        "      return i\n",
        "  return 0\n",
        "\n",
        "print(progenitorSelection(population))"
      ]
    },
    {
      "cell_type": "markdown",
      "metadata": {
        "id": "KEhnbrJSOiTE"
      },
      "source": [
        "5. ***CROSSOVER METHOD.*** Set a strategy for crossover matrices (e. g., one-point crossover or two-point crossover). Crossover probability: 0.95."
      ]
    },
    {
      "cell_type": "code",
      "execution_count": 228,
      "metadata": {
        "id": "t2XG2Uv0OiY9",
        "colab": {
          "base_uri": "https://localhost:8080/"
        },
        "outputId": "08a8b4f6-0ebf-4d73-e0ee-9925e05f1b95"
      },
      "outputs": [
        {
          "output_type": "stream",
          "name": "stdout",
          "text": [
            "[[ 0 -1  0  0  0  0]\n",
            " [ 1 -1  0 -1  1  2]\n",
            " [ 2  0  0 -1 -1  1]\n",
            " [ 0 -1 -1 -1  1  2]\n",
            " [ 1 -1 -1  2  2  2]\n",
            " [ 1 -1 -1  1  1 -1]]\n",
            "[[ 1  2 -1  2  0  0]\n",
            " [ 0  1 -1  0  0  0]\n",
            " [ 2 -1 -1 -1  2  2]\n",
            " [-1  0 -1  0  2 -1]\n",
            " [-1  1  0  1  1  0]\n",
            " [ 2  0  1  0  1  2]]\n",
            "[[0, -1, 0, 0, 0, 0], [1, -1, 0, -1, 1, 2], [2, 0, 0, -1, -1, 1], [0, -1, -1, 0, 2, -1], [-1, 1, 0, 1, 1, 0], [2, 0, 1, 0, 1, 2]]\n",
            "[[1, 2, -1, 2, 0, 0], [0, 1, -1, 0, 0, 0], [2, -1, -1, -1, 2, 2], [-1, 0, -1, -1, 1, 2], [1, -1, -1, 2, 2, 2], [1, -1, -1, 1, 1, -1]]\n"
          ]
        }
      ],
      "source": [
        "def crossover(chromosome1, chromosome2, prob_cross):\n",
        "  if random.random() <= prob_cross:\n",
        "    randomIndex = random.randint(0, len(chromosome1)*len(chromosome1) - 1)\n",
        "    cross_chromosome1=[]\n",
        "    cross_chromosome2=[]\n",
        "    for i in range(len(chromosome1)):\n",
        "      row1=[]\n",
        "      row2=[]\n",
        "      for j in range(len(chromosome2)):\n",
        "        if i*len(chromosome1) + j < randomIndex:\n",
        "          row1.append(chromosome1[i][j])\n",
        "          row2.append(chromosome2[i][j])\n",
        "        else:\n",
        "          row1.append(chromosome2[i][j])\n",
        "          row2.append(chromosome1[i][j])\n",
        "      cross_chromosome1.append(row1)\n",
        "      cross_chromosome2.append(row2)\n",
        "    return cross_chromosome1, cross_chromosome2\n",
        "  else:\n",
        "    return chromosome1, chromosome2\n",
        "\n",
        "\n",
        "print(population[0])\n",
        "print(population[1])\n",
        "cross_chromosome1, cross_chromosome2 = crossover(population[0], population[1], 0.95)\n",
        "print(cross_chromosome1)\n",
        "print(cross_chromosome2)"
      ]
    },
    {
      "cell_type": "markdown",
      "metadata": {
        "id": "tdfmpNJwOo5Y"
      },
      "source": [
        "6. ***MUTATION METHOD.*** Set a mutation mechanism. For example, each gen mutates with a probability of $p=0.01$. Then, in each iteration, approximately a 1\\% of genes will mutate."
      ]
    },
    {
      "cell_type": "code",
      "execution_count": 229,
      "metadata": {
        "id": "h7VCiTCxOo-u",
        "colab": {
          "base_uri": "https://localhost:8080/"
        },
        "outputId": "81a054ce-bd22-4e7f-ad3b-e9643ac9e5b7"
      },
      "outputs": [
        {
          "output_type": "stream",
          "name": "stdout",
          "text": [
            "[[ 0 -1  0  0  0  0]\n",
            " [ 1 -1  0 -1  1  2]\n",
            " [ 2  0  0 -1 -1  1]\n",
            " [ 0 -1 -1 -1  1  2]\n",
            " [ 1  0 -1  2  2  2]\n",
            " [ 1 -1 -1  1  1 -1]]\n",
            "[[ 0 -1  0  0  0  0]\n",
            " [ 1 -1  0 -1  1  2]\n",
            " [ 2  0  0 -1 -1  1]\n",
            " [ 0 -1 -1 -1  1  2]\n",
            " [ 1  0 -1  2  2  2]\n",
            " [ 1 -1 -1  1  1 -1]]\n"
          ]
        }
      ],
      "source": [
        "def mutation(chromosome, prob_mut):\n",
        "    mutated_chromosome = chromosome\n",
        "    for i in range(len(chromosome)):\n",
        "        for j in range(len(chromosome[i])):\n",
        "            if random.random() <= prob_mut:\n",
        "              mutated_chromosome[i][j] = random.uniform(-1, 2)\n",
        "    return mutated_chromosome\n",
        "\n",
        "\n",
        "mutate_chromosome1 = mutation(population[0], 0.01)\n",
        "print(population[0])\n",
        "print(mutate_chromosome1)"
      ]
    },
    {
      "cell_type": "markdown",
      "metadata": {
        "id": "Qu7nw6ShO0Hq"
      },
      "source": [
        "7. ***SURVIVAL SELECTION OR SUBSTITUTION.*** Establish a method for selecting which individuals will be part of the next population. Take into account both the individuals of the existing population as well as the new ones generated by crossover and which may have mutated."
      ]
    },
    {
      "cell_type": "code",
      "execution_count": 230,
      "metadata": {
        "id": "NZNF_P9LO0N3",
        "colab": {
          "base_uri": "https://localhost:8080/"
        },
        "outputId": "3f47f8e2-0730-4cb2-fd73-8eaf0480ddd3"
      },
      "outputs": [
        {
          "output_type": "stream",
          "name": "stdout",
          "text": [
            "[[[ 0  1  2  0  0 -1]\n",
            "  [ 0  0 -1 -1  2  1]\n",
            "  [ 0 -1  0 -1  1 -1]\n",
            "  [ 0  0 -1 -1  1  0]\n",
            "  [ 1  0  0  0  2 -1]\n",
            "  [ 1  0  2  0 -1 -1]]\n",
            "\n",
            " [[ 1 -1 -1  0  0  1]\n",
            "  [ 0 -1 -1  1  2  2]\n",
            "  [ 1  0 -1  2  1  0]\n",
            "  [ 0 -1  1 -1  0  0]\n",
            "  [ 0  2 -1  1  2  2]\n",
            "  [ 1  1 -1  1  2  2]]]\n"
          ]
        }
      ],
      "source": [
        "import pdb\n",
        "def survivorSelection(population, new_individuals): #generational model (same size population)\n",
        "  #pdb.set_trace()\n",
        "  bigValue = 1000\n",
        "  lowValue = -1\n",
        "  fitPopulation = fitness(A,population)\n",
        "  fitNewIndividuals = fitness(A,new_individuals)\n",
        "  sizeOfNewIndividuals = len(new_individuals)\n",
        "  indexToEliminate = []\n",
        "  newPopulation = []\n",
        "  for i in range(sizeOfNewIndividuals):\n",
        "    if np.min(fitPopulation) < np.max(fitNewIndividuals):\n",
        "      maxIndexNewIndividuals = np.argmax(fitNewIndividuals)\n",
        "      minIndexPopulation = np.argmin(fitPopulation)\n",
        "      fitPopulation[minIndexPopulation] = bigValue\n",
        "      fitNewIndividuals[maxIndexNewIndividuals] = lowValue\n",
        "      newPopulation.append(new_individuals[maxIndexNewIndividuals])\n",
        "      indexToEliminate.append(minIndexPopulation)\n",
        "  for i in range(len(population)):\n",
        "    if i not in indexToEliminate:\n",
        "      newPopulation.append(population[i])\n",
        "  return newPopulation\n",
        "\n",
        "val_min, val_max = -1, 2\n",
        "num_population = 2\n",
        "N = 6\n",
        "new_individuals = np.random.randint(low=val_min,\n",
        "                               high=val_max+1,\n",
        "                               size=(num_population, N, N))\n",
        "population = np.random.randint(low=val_min,\n",
        "                               high=val_max+1,\n",
        "                               size=(num_population, N, N))\n",
        "#print(population)\n",
        "print(new_individuals)\n",
        "newPopulation = survivorSelection(population, new_individuals)\n",
        "#print(newPopulation)"
      ]
    },
    {
      "cell_type": "markdown",
      "metadata": {
        "id": "C1n0FpL1O_w-"
      },
      "source": [
        "### ***MAIN LOOP***\n",
        "\n",
        "The genetic algorithm must stop, either when it finds a solution, or when it has reached a maximum number of iterations (e.g. $200$). In the latter case, the algorithm must return the individual with the best {fitness} among the population that exists at the time of stopping the execution.\n",
        "For parent selection, use the roulette method with generational replacement (i.e. descendants replace parents in the population)."
      ]
    },
    {
      "cell_type": "code",
      "execution_count": 233,
      "metadata": {
        "id": "05Ncsy8xO_3v",
        "colab": {
          "base_uri": "https://localhost:8080/"
        },
        "outputId": "db8d15d9-c9dc-4b67-c240-e6732e315353"
      },
      "outputs": [
        {
          "output_type": "stream",
          "name": "stdout",
          "text": [
            "[16 16 16 16 20 18 17 17 20 16]\n",
            "[16 16 16 16 20 18 17 17 20 16]\n",
            "[16 16 16 16 20 18 17 17 20 16]\n",
            "[16 16 16 16 20 18 17 17 20 16]\n",
            "[16 16 16 16 20 18 17 17 20 16]\n",
            "[16 16 16 16 20 18 17 17 20 16]\n",
            "[16 16 16 16 20 18 17 17 20 16]\n",
            "[16 16 16 16 20 18 17 17 20 16]\n",
            "[16 16 16 16 20 18 17 17 20 16]\n",
            "[16 16 16 16 20 18 17 17 20 16]\n",
            "[16 16 16 16 20 18 17 17 20 16]\n",
            "[16 16 16 16 20 18 17 17 20 16]\n",
            "[16 16 16 16 20 18 17 17 20 16]\n",
            "[16 16 16 16 20 18 17 17 20 16]\n",
            "[16 16 16 16 20 18 17 17 20 16]\n",
            "[16 16 16 16 20 18 17 17 20 16]\n",
            "[16 16 16 16 20 18 17 17 20 16]\n",
            "[16 16 16 16 20 18 17 17 20 16]\n",
            "[16 16 16 16 20 18 17 17 20 16]\n",
            "[16 16 16 16 20 18 17 17 20 16]\n",
            "[16 16 16 16 20 18 17 17 20 16]\n",
            "[16 16 16 16 20 18 17 17 20 16]\n",
            "[16 16 16 16 20 18 17 17 20 16]\n",
            "[16 16 16 16 20 18 17 17 20 16]\n",
            "[16 16 16 16 20 18 17 17 20 16]\n",
            "[16 16 16 16 20 18 17 17 20 16]\n",
            "[16 16 16 16 20 18 17 17 20 16]\n",
            "[16 16 16 16 20 18 17 17 20 16]\n",
            "[16 16 16 16 20 18 17 17 20 16]\n",
            "[16 16 16 16 20 18 17 17 20 16]\n",
            "[16 16 16 16 20 18 17 17 20 16]\n",
            "[16 16 16 16 20 18 17 17 20 16]\n",
            "[16 16 16 16 20 18 17 17 20 16]\n",
            "[16 16 16 16 20 18 17 17 20 16]\n",
            "[16 16 16 16 20 18 17 17 20 16]\n",
            "[16 16 16 16 20 18 17 17 20 16]\n",
            "[16 16 16 16 20 18 17 17 20 16]\n",
            "[16 16 16 16 20 18 17 17 20 16]\n",
            "[16 16 16 16 20 18 17 17 20 16]\n",
            "[16 16 16 16 20 18 17 17 20 16]\n",
            "[16 16 16 16 20 18 17 17 20 16]\n",
            "[16 16 16 16 20 18 17 17 20 16]\n",
            "[16 16 16 16 20 18 17 17 20 16]\n",
            "[16 16 16 16 20 18 17 17 20 16]\n",
            "[16 16 16 16 20 18 17 17 20 16]\n",
            "[16 16 16 16 20 18 17 17 20 16]\n",
            "[16 16 16 16 20 18 17 17 20 16]\n",
            "[16 16 16 16 20 18 17 17 20 16]\n",
            "[16 16 16 16 20 18 17 17 20 16]\n",
            "[16 16 16 16 20 18 17 17 20 16]\n",
            "[16 16 16 16 20 18 17 17 20 16]\n",
            "[16 16 16 16 20 18 17 17 20 16]\n",
            "[16 16 16 16 20 18 17 17 20 16]\n",
            "[16 16 16 16 20 18 17 17 20 16]\n",
            "[16 16 16 16 20 18 17 17 20 16]\n",
            "[16 16 16 16 20 18 17 17 20 16]\n",
            "[16 16 16 16 20 18 17 17 20 16]\n",
            "[16 16 16 16 20 18 17 17 20 16]\n",
            "[16 16 16 16 20 18 17 17 20 16]\n",
            "[16 16 16 16 20 18 17 17 20 16]\n",
            "[16 16 16 16 20 18 17 17 20 16]\n",
            "[16 16 16 16 20 18 17 17 20 16]\n",
            "[16 16 16 16 20 18 17 17 20 16]\n",
            "[16 16 16 16 20 18 17 17 20 16]\n",
            "[16 16 16 16 20 18 17 17 20 16]\n",
            "[16 16 16 16 20 18 17 17 20 16]\n",
            "[16 16 16 16 20 18 17 17 20 16]\n",
            "[16 16 16 16 20 18 17 17 20 16]\n",
            "[16 16 16 16 20 18 17 17 20 16]\n",
            "[16 16 16 16 20 18 17 17 20 16]\n",
            "[16 16 16 16 20 18 17 17 20 16]\n",
            "[16 16 16 16 20 18 17 17 20 16]\n",
            "[16 16 16 16 20 18 17 17 20 16]\n",
            "[16 16 16 16 20 18 17 17 20 16]\n",
            "[16 16 16 16 20 18 17 17 20 16]\n",
            "[16 16 16 16 20 18 17 17 20 16]\n",
            "[16 16 16 16 20 18 17 17 20 16]\n",
            "[16 16 16 16 20 18 17 17 20 16]\n",
            "[16 16 16 16 20 18 17 17 20 16]\n",
            "[16 16 16 16 20 18 17 17 20 16]\n",
            "[16 16 16 16 20 18 17 17 20 16]\n",
            "[16 16 16 16 20 18 17 17 20 16]\n",
            "[16 16 16 16 20 18 17 17 20 16]\n",
            "[16 16 16 16 20 18 17 17 20 16]\n",
            "[16 16 16 16 20 18 17 17 20 16]\n",
            "[16 16 16 16 20 18 17 17 20 16]\n",
            "[16 16 16 16 20 18 17 17 20 16]\n",
            "[16 16 16 16 20 18 17 17 20 16]\n",
            "[16 16 16 16 20 18 17 17 20 16]\n",
            "[16 16 16 16 20 18 17 17 20 16]\n",
            "[16 16 16 16 20 18 17 17 20 16]\n",
            "[16 16 16 16 20 18 17 17 20 16]\n",
            "[16 16 16 16 20 18 17 17 20 16]\n",
            "[16 16 16 16 20 18 17 17 20 16]\n",
            "[16 16 16 16 20 18 17 17 20 16]\n",
            "[16 16 16 16 20 18 17 17 20 16]\n",
            "[16 16 16 16 20 18 17 17 20 16]\n",
            "[16 16 16 16 20 18 17 17 20 16]\n",
            "[16 16 16 16 20 18 17 17 20 16]\n",
            "[16 16 16 16 20 18 17 17 20 16]\n",
            "[16 16 16 16 20 18 17 17 20 16]\n",
            "[16 16 16 16 20 18 17 17 20 16]\n",
            "[16 16 16 16 20 18 17 17 20 16]\n",
            "[16 16 16 16 20 18 17 17 20 16]\n",
            "[16 16 16 16 20 18 17 17 20 16]\n",
            "[16 16 16 16 20 18 17 17 20 16]\n",
            "[16 16 16 16 20 18 17 17 20 16]\n",
            "[16 16 16 16 20 18 17 17 20 16]\n",
            "[16 16 16 16 20 18 17 17 20 16]\n",
            "[16 16 16 16 20 18 17 17 20 16]\n",
            "[16 16 16 16 20 18 17 17 20 16]\n",
            "[16 16 16 16 20 18 17 17 20 16]\n",
            "[16 16 16 16 20 18 17 17 20 16]\n",
            "[16 16 16 16 20 18 17 17 20 16]\n",
            "[16 16 16 16 20 18 17 17 20 16]\n",
            "[16 16 16 16 20 18 17 17 20 16]\n",
            "[16 16 16 16 20 18 17 17 20 16]\n",
            "[16 16 16 16 20 18 17 17 20 16]\n",
            "[16 16 16 16 20 18 17 17 20 16]\n",
            "[16 16 16 16 20 18 17 17 20 16]\n",
            "[16 16 16 16 20 18 17 17 20 16]\n",
            "[16 16 16 16 20 18 17 17 20 16]\n",
            "[16 16 16 16 20 18 17 17 20 16]\n",
            "[16 16 16 16 20 18 17 17 20 16]\n",
            "[16 16 16 16 20 18 17 17 20 16]\n",
            "[16 16 16 16 20 18 17 17 20 16]\n",
            "[16 16 16 16 20 18 17 17 20 16]\n",
            "[16 16 16 16 20 18 17 17 20 16]\n",
            "[16 16 16 16 20 18 17 17 20 16]\n",
            "[16 16 16 16 20 18 17 17 20 16]\n",
            "[16 16 16 16 20 18 17 17 20 16]\n",
            "[16 16 16 16 20 18 17 17 20 16]\n",
            "[17 17 17 16 20 18 17 17 20 16]\n",
            "[17 17 17 17 17 20 18 17 17 20]\n",
            "[17 17 17 17 17 20 18 17 17 20]\n",
            "[17 17 17 17 17 20 18 17 17 20]\n",
            "[17 17 17 17 17 20 18 17 17 20]\n",
            "[17 17 17 17 17 20 18 17 17 20]\n",
            "[17 17 17 17 17 20 18 17 17 20]\n",
            "[17 17 17 17 17 20 18 17 17 20]\n",
            "[17 17 17 17 17 20 18 17 17 20]\n",
            "[17 17 17 17 17 20 18 17 17 20]\n",
            "[17 17 17 17 17 20 18 17 17 20]\n",
            "[17 17 17 17 17 20 18 17 17 20]\n",
            "[17 17 17 17 17 20 18 17 17 20]\n",
            "[17 17 17 17 17 20 18 17 17 20]\n",
            "[17 17 17 17 17 20 18 17 17 20]\n",
            "[17 17 17 17 17 20 18 17 17 20]\n",
            "[17 17 17 17 17 20 18 17 17 20]\n",
            "[17 17 17 17 17 20 18 17 17 20]\n",
            "[17 17 17 17 17 20 18 17 17 20]\n",
            "[17 17 17 17 17 20 18 17 17 20]\n",
            "[17 17 17 17 17 20 18 17 17 20]\n",
            "[17 17 17 17 17 20 18 17 17 20]\n",
            "[17 17 17 17 17 20 18 17 17 20]\n",
            "[17 17 17 17 17 20 18 17 17 20]\n",
            "[17 17 17 17 17 20 18 17 17 20]\n",
            "[17 17 17 17 17 20 18 17 17 20]\n",
            "[17 17 17 17 17 20 18 17 17 20]\n",
            "[17 17 17 17 17 20 18 17 17 20]\n",
            "[17 17 17 17 17 20 18 17 17 20]\n",
            "[17 17 17 17 17 20 18 17 17 20]\n",
            "[17 17 17 17 17 20 18 17 17 20]\n",
            "[17 17 17 17 17 20 18 17 17 20]\n",
            "[17 17 17 17 17 20 18 17 17 20]\n",
            "[17 17 17 17 17 20 18 17 17 20]\n",
            "[17 17 17 17 17 20 18 17 17 20]\n",
            "[17 17 17 17 17 20 18 17 17 20]\n",
            "[17 17 17 17 17 20 18 17 17 20]\n",
            "[17 17 17 17 17 20 18 17 17 20]\n",
            "[17 17 17 17 17 20 18 17 17 20]\n",
            "[17 17 17 17 17 20 18 17 17 20]\n",
            "[17 17 17 17 17 20 18 17 17 20]\n",
            "[17 17 17 17 17 20 18 17 17 20]\n",
            "[17 17 17 17 17 20 18 17 17 20]\n",
            "[17 17 17 17 17 20 18 17 17 20]\n",
            "[17 17 17 17 17 20 18 17 17 20]\n",
            "[17 17 17 17 17 20 18 17 17 20]\n",
            "[17 17 17 17 17 20 18 17 17 20]\n",
            "[17 17 17 17 17 20 18 17 17 20]\n",
            "[17 17 17 17 17 20 18 17 17 20]\n",
            "[17 17 17 17 17 20 18 17 17 20]\n",
            "[17 17 17 17 17 20 18 17 17 20]\n",
            "[17 17 17 17 17 20 18 17 17 20]\n",
            "[17 17 17 17 17 20 18 17 17 20]\n",
            "[17 17 17 17 17 20 18 17 17 20]\n",
            "[17 17 17 17 17 20 18 17 17 20]\n",
            "[17 17 17 17 17 20 18 17 17 20]\n",
            "[17 17 17 17 17 20 18 17 17 20]\n",
            "[17 17 17 17 17 20 18 17 17 20]\n",
            "[17 17 17 17 17 20 18 17 17 20]\n",
            "[17 17 17 17 17 20 18 17 17 20]\n",
            "[17 17 17 17 17 20 18 17 17 20]\n",
            "[17 17 17 17 17 20 18 17 17 20]\n",
            "[17 17 17 17 17 20 18 17 17 20]\n",
            "[17 17 17 17 17 20 18 17 17 20]\n",
            "[17 17 17 17 17 20 18 17 17 20]\n",
            "[17 17 17 17 17 20 18 17 17 20]\n",
            "[17 17 17 17 17 20 18 17 17 20]\n",
            "[17 17 17 17 17 20 18 17 17 20]\n"
          ]
        }
      ],
      "source": [
        "#import pdb\n",
        "#pdb.set_trace()\n",
        "prob_cross = 0.95\n",
        "prob_mut = 0.01\n",
        "\n",
        "num_iterations = 200\n",
        "\n",
        "A = np.array([[0, 1, 0, 1, 1, 0],\n",
        "              [1, 0, 1, 0, 1, 0],\n",
        "              [0, 1, 0, 1, 0, 0],\n",
        "              [0, 0, 1, 0, 1, 1],\n",
        "              [1, 1, 0, 1, 0, 0],\n",
        "              [0, 0, 0, 1, 0, 0]])\n",
        "\n",
        "val_min, val_max = -1, 2\n",
        "num_population = 10\n",
        "N = 6\n",
        "population = np.random.randint(low=val_min,\n",
        "                               high=val_max+1,\n",
        "                               size=(num_population, N, N))\n",
        "numberOfParents = 4\n",
        "maxFit = N*N\n",
        "parents = []\n",
        "for iter in range(num_iterations):\n",
        "  ## Parent selection\n",
        "  parents = []\n",
        "  for i in range(numberOfParents):\n",
        "    index = progenitorSelection(population)\n",
        "    parents.append(population[index])\n",
        "  ## Crossover\n",
        "  cross = []\n",
        "  for i in range(int(len(parents)/2)):\n",
        "    chromosome, chromosome2 = crossover(parents[i], parents[i+1], prob_cross)\n",
        "    cross.append(chromosome)\n",
        "    cross.append(chromosome2)\n",
        "  ## Mutation\n",
        "  mutations = []\n",
        "  for i in range(len(cross)):\n",
        "    mutation1 = mutation(cross[i], prob_mut)\n",
        "    mutations.append(mutation1)\n",
        "  population = survivorSelection(population, mutations)\n",
        "  fit = fitness(A,population)\n",
        "  print(fit)\n",
        "  for i in range(len(fit)):\n",
        "    if fit[i] == maxFit:\n",
        "      print(population[i])\n",
        "      break\n",
        "#print(len(population))\n",
        "\n",
        ""
      ]
    },
    {
      "cell_type": "code",
      "source": [],
      "metadata": {
        "id": "BdCt3E-u0yMj"
      },
      "execution_count": 231,
      "outputs": []
    },
    {
      "cell_type": "markdown",
      "source": [],
      "metadata": {
        "id": "_3fLOndd0rcF"
      }
    },
    {
      "cell_type": "code",
      "source": [
        "\"\"\"prob_cross = 1\n",
        "prob_mut = 0.01\n",
        "\n",
        "num_iterations = 200\n",
        "\n",
        "A = np.array([[0, 1, 0, 1, 1, 0],\n",
        "              [1, 0, 1, 0, 1, 0],\n",
        "              [0, 1, 0, 1, 0, 0],\n",
        "              [0, 0, 1, 0, 1, 1],\n",
        "              [1, 1, 0, 1, 0, 0],\n",
        "              [0, 0, 0, 1, 0, 0]])\n",
        "\n",
        "val_min, val_max = -1, 2\n",
        "num_population = 10\n",
        "N = 6\n",
        "population = np.random.randint(low=val_min,\n",
        "                               high=val_max+1,\n",
        "                               size=(num_population, N, N))\n",
        "numberOfParents = 4\n",
        "parents = []\n",
        "childs = []\n",
        "maxFit = len(A)*len(A)\n",
        "\n",
        "\n",
        "for iter in range(num_iterations):\n",
        "  fit = fitness(A, population)\n",
        "  if maxFit in fit: #inverse\n",
        "    print(population[np.where(fitness == maxFit)[0]])\n",
        "    break\n",
        "  ## Parent selection\n",
        "  parent1 = population[progenitorSelection(population)]\n",
        "  parent2 = population[progenitorSelection(population)]\n",
        "  parent3 = population[progenitorSelection(population)]\n",
        "  parent4 = population[progenitorSelection(population)]\n",
        "  ## Crossover\n",
        "  cross_chromosome1, cross_chromosome2 = crossover(parent1, parent2, prob_cross)\n",
        "  cross_chromosome3, cross_chromosome4 = crossover(parent3, parent4, prob_cross)\n",
        "  ## Mutation\n",
        "  mutation1 = mutation(cross_chromosome1, prob_mut)\n",
        "  mutation2 = mutation(cross_chromosome2, prob_mut)\n",
        "  mutation3 = mutation(cross_chromosome3, prob_mut)\n",
        "  mutation4 = mutation(cross_chromosome4, prob_mut)\n",
        "  mutations = [mutation1, mutation2, mutation3, mutation4]\n",
        "  ## Survivor selection\n",
        "  population = survivorSelection(population, mutations)\n",
        "print(population)\"\"\"\n",
        ""
      ],
      "metadata": {
        "colab": {
          "base_uri": "https://localhost:8080/",
          "height": 140
        },
        "id": "uT5EDVp5SXHV",
        "outputId": "ea948cfb-6083-4019-ff81-bda2db23d3af"
      },
      "execution_count": 232,
      "outputs": [
        {
          "output_type": "execute_result",
          "data": {
            "text/plain": [
              "'prob_cross = 1\\nprob_mut = 0.01\\n\\nnum_iterations = 200\\n\\nA = np.array([[0, 1, 0, 1, 1, 0],\\n              [1, 0, 1, 0, 1, 0],\\n              [0, 1, 0, 1, 0, 0],\\n              [0, 0, 1, 0, 1, 1],\\n              [1, 1, 0, 1, 0, 0],\\n              [0, 0, 0, 1, 0, 0]])\\n\\nval_min, val_max = -1, 2\\nnum_population = 10\\nN = 6\\npopulation = np.random.randint(low=val_min,\\n                               high=val_max+1,\\n                               size=(num_population, N, N))\\nnumberOfParents = 4\\nparents = []\\nchilds = []\\nmaxFit = len(A)*len(A)\\n\\n\\nfor iter in range(num_iterations):\\n  fit = fitness(A, population)\\n  if maxFit in fit: #inverse\\n    print(population[np.where(fitness == maxFit)[0]])\\n    break\\n  ## Parent selection\\n  parent1 = population[progenitorSelection(population)]\\n  parent2 = population[progenitorSelection(population)]\\n  parent3 = population[progenitorSelection(population)]\\n  parent4 = population[progenitorSelection(population)]\\n  ## Crossover\\n  cross_chromosome1, cross_chromosome2 = crossover(parent1, parent2, prob_cross)\\n  cross_chromosome3, cross_chromosome4 = crossover(parent3, parent4, prob_cross)\\n  ## Mutation\\n  mutation1 = mutation(cross_chromosome1, prob_mut)\\n  mutation2 = mutation(cross_chromosome2, prob_mut)\\n  mutation3 = mutation(cross_chromosome3, prob_mut)\\n  mutation4 = mutation(cross_chromosome4, prob_mut)\\n  mutations = [mutation1, mutation2, mutation3, mutation4]\\n  ## Survivor selection\\n  population = survivorSelection(population, mutations)\\nprint(population)'"
            ],
            "application/vnd.google.colaboratory.intrinsic+json": {
              "type": "string"
            }
          },
          "metadata": {},
          "execution_count": 232
        }
      ]
    }
  ],
  "metadata": {
    "colab": {
      "provenance": []
    },
    "kernelspec": {
      "display_name": "Python 3",
      "name": "python3"
    },
    "language_info": {
      "name": "python"
    }
  },
  "nbformat": 4,
  "nbformat_minor": 0
}